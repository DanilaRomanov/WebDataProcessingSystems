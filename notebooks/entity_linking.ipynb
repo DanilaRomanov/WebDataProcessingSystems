{
 "cells": [
  {
   "attachments": {},
   "cell_type": "markdown",
   "metadata": {},
   "source": [
    "# Entity linking\n",
    "\n",
    "-----\n",
    "In this notebook, the entities found in documents (using spacy's entity linking) will be linked using a three step process.\n",
    "\n",
    "##### Table of contents\n",
    "1. Setup\n",
    "2. Candidate generation\n",
    "3. Candidate ranking and selection\n",
    "4. Unlinkable mention prediciton\n",
    "-----"
   ]
  },
  {
   "attachments": {},
   "cell_type": "markdown",
   "metadata": {},
   "source": [
    "### 1. Setup"
   ]
  },
  {
   "attachments": {},
   "cell_type": "markdown",
   "metadata": {},
   "source": [
    "##### Imports, settings constants"
   ]
  },
  {
   "cell_type": "code",
   "execution_count": 1,
   "metadata": {},
   "outputs": [],
   "source": [
    "import pandas as pd\n",
    "import requests\n",
    "import pageviewapi\n",
    "\n",
    "from bs4 import BeautifulSoup"
   ]
  },
  {
   "cell_type": "code",
   "execution_count": 3,
   "metadata": {},
   "outputs": [],
   "source": [
    "pd.set_option('display.max_columns', None)\n",
    "pd.set_option('display.max_rows', 50)"
   ]
  },
  {
   "attachments": {},
   "cell_type": "markdown",
   "metadata": {},
   "source": [
    "### 2. Candidate entity generation"
   ]
  },
  {
   "cell_type": "code",
   "execution_count": 8,
   "metadata": {},
   "outputs": [],
   "source": [
    "entities = pd.read_csv('ner_sample.csv', index_col=0)\n",
    "entities = entities['label'].to_list()"
   ]
  },
  {
   "cell_type": "code",
   "execution_count": 130,
   "metadata": {},
   "outputs": [],
   "source": [
    "import requests\n",
    "\n",
    "def get_wikipedia_articles(named_entity):\n",
    "  # Set the endpoint for the Wikipedia API\n",
    "  endpoint = \"https://en.wikipedia.org/w/api.php\"\n",
    "\n",
    "  # Set the parameters for the API call\n",
    "  params = {\n",
    "    \"action\": \"query\",\n",
    "    \"format\": \"json\",\n",
    "    \"list\": \"search\",\n",
    "    \"srsearch\": named_entity,\n",
    "    \"utf8\": 1,\n",
    "    \"formatversion\": 2,\n",
    "    \"formatversion\": 2\n",
    "  }\n",
    "\n",
    "  # Make the API call\n",
    "  r = requests.get(endpoint, params=params)\n",
    "\n",
    "  # Extract the list of articles from the response\n",
    "  articles = r.json()[\"query\"][\"search\"]\n",
    "\n",
    "  # Create a list of links to the articles\n",
    "  links = []\n",
    "  for article in articles:\n",
    "    title = article[\"title\"]\n",
    "    links.append(title)\n",
    "    # title = title.replace(\" \", \"_\")\n",
    "    # link = f\"https://en.wikipedia.org/wiki/{title}\"\n",
    "    # links.append(link)\n",
    "\n",
    "  # Return the list of links\n",
    "  return links"
   ]
  },
  {
   "cell_type": "code",
   "execution_count": 77,
   "metadata": {},
   "outputs": [],
   "source": [
    "import requests\n",
    "\n",
    "def get_wikipedia_article(named_entity):\n",
    "  # Replace spaces in the named entity with underscores\n",
    "  named_entity = named_entity.replace(' ', '_')\n",
    "\n",
    "  # Make a request to the Wikipedia API to search for the named entity\n",
    "  api_url = f'https://en.wikipedia.org/w/api.php?action=query&format=json&list=search&utf8=1&formatversion=2&srsearch={named_entity}&format=json'\n",
    "  response = requests.get(api_url)\n",
    "  data = response.json()\n",
    "\n",
    "  # Extract the first search result\n",
    "  search_results = data['query']['search']\n",
    "  if len(search_results) > 0:\n",
    "    first_result = search_results[0]\n",
    "\n",
    "    # Extract the curid link from the search result\n",
    "    curid = first_result['pageid']\n",
    "    return f'https://en.wikipedia.org/?curid={curid}'\n",
    "  else:\n",
    "    return None\n"
   ]
  },
  {
   "cell_type": "code",
   "execution_count": 131,
   "metadata": {},
   "outputs": [
    {
     "name": "stdout",
     "output_type": "stream",
     "text": [
      "Donald Trump's\n",
      "Tuesday\n",
      "Manhattan\n",
      "U.S.\n",
      "two\n",
      "the Trump Organization\n",
      "17\n",
      "the second day\n",
      "New York\n",
      "three years\n",
      "Trump\n",
      "up to $1.6 million\n",
      "US\n",
      "Trump\n",
      "Democrats\n",
      "Trump Organization\n",
      "Alan Futerfas\n",
      "Washington\n",
      "Florida\n",
      "Mar-a-Lago\n",
      "2020\n",
      "Justice Department\n",
      "Fulton County\n",
      "Georgia\n",
      "the White House\n",
      "last month\n",
      "Holocaust\n",
      "Kanye West\n",
      "Constitution\n",
      "the Trump Organization's\n",
      "Allen Weisselberg\n",
      "Weisselberg\n",
      "five-month\n",
      "Jeffrey McConney\n",
      "month-long\n",
      "Greatest Political Witch Hunt\n",
      "New York City\n",
      "RELIANCE\n",
      "$1.7 million\n",
      "McConney\n",
      "W-2\n",
      "Joshua Steinglass\n",
      "Steinglass\n",
      "Alvin Bragg\n",
      "Democrat\n",
      "January\n",
      "Bragg\n",
      "District\n",
      "Cyrus Vance Jr.\n",
      "Letitia James'\n",
      "Republican\n",
      "years ago\n",
      "last year\n",
      "Vance\n",
      "Bragg\n",
      "Monday\n",
      "CBC News\n",
      "first\n",
      "CBC/Radio-Canada's\n",
      "CBC\n",
      "our Submission Guidelines\n",
      "Audience Relations\n",
      "CBC P.O. Box 500 Station A\n",
      "Toronto\n",
      "ON  Canada\n",
      "1E6\n",
      "Canada\n",
      "1-866\n",
      "Canadians\n",
      "CBC Gem\n"
     ]
    }
   ],
   "source": [
    "all_articles = []\n",
    "for entity in entities:\n",
    "  print(entity)\n",
    "  all_articles.append(get_wikipedia_articles(entity))\n",
    "  # print(articles)"
   ]
  },
  {
   "attachments": {},
   "cell_type": "markdown",
   "metadata": {},
   "source": [
    "### 3. Candidate entity ranking"
   ]
  },
  {
   "cell_type": "code",
   "execution_count": 80,
   "metadata": {},
   "outputs": [],
   "source": [
    "# Set wikipedia api endpoint\n",
    "endpoint = \"https://en.wikipedia.org/w/api.php\"\n",
    "# Set the parameters for the API call\n",
    "params = {\n",
    "    \"action\": \"query\",\n",
    "    \"format\": \"json\",\n",
    "    \"prop\": \"extracts\",\n",
    "    \"exintro\": 1,\n",
    "    \"explaintext\": 1,\n",
    "    \"titles\": \"Apple\",\n",
    "    \"redirects\": 1,\n",
    "    \"formatversion\": 2\n",
    "}\n",
    "# Set the headers for the API call\n",
    "headers = {\n",
    "    \"User-Agent\": \"f.f.sinke@student.vu.nl\"\n",
    "}\n",
    "# Make the API call\n",
    "r = requests.get(endpoint, headers=headers)"
   ]
  },
  {
   "cell_type": "code",
   "execution_count": 98,
   "metadata": {},
   "outputs": [
    {
     "name": "stdout",
     "output_type": "stream",
     "text": [
      "Check 1\n",
      "Number of page views in 2022: {'items': []}\n"
     ]
    }
   ],
   "source": [
    "def get_page_views(wikipedia_link, year=2022, month=None):\n",
    "    # Extract the page name from the link\n",
    "    page_name = wikipedia_link.split(\"/\")[-1]\n",
    "\n",
    "    # Set the time range for the request\n",
    "    if month is not None:\n",
    "        start_date = f\"{year}-{month}-01\"\n",
    "        end_date = f\"{year}-{month}-31\"\n",
    "    else:\n",
    "        start_date = f\"{year}-01-01\"\n",
    "        end_date = f\"{year}-11-31\"\n",
    "\n",
    "    print(\"Check 1\")\n",
    "    # Send the GET request to the Pageviews API\n",
    "    url = f\"https://wikimedia.org/api/rest_v1/metrics/pageviews/per-article/en.wikipedia/all-access/user/{page_name}/daily/{start_date}/{end_date}\"\n",
    "    response = requests.get(url, headers={\"User-Agent\":\"f.f.sinke@student.vu.nl\"})\n",
    "    data = response.json()\n",
    "    return data\n",
    "    print(\"Check 3\")\n",
    "    # Extract the page views data\n",
    "    page_views = 0\n",
    "    for item in data['items']:\n",
    "        page_views += item['views']\n",
    "    return page_views\n",
    "\n",
    "wikipedia_link = \"https://en.wikipedia.org/?curid=12345\"\n",
    "page_views = get_page_views(wikipedia_link, year=2022)\n",
    "print(f\"Number of page views in 2022: {page_views}\")"
   ]
  },
  {
   "cell_type": "code",
   "execution_count": 99,
   "metadata": {},
   "outputs": [
    {
     "name": "stdout",
     "output_type": "stream",
     "text": [
      "Check 1\n"
     ]
    },
    {
     "data": {
      "text/plain": [
       "{'items': []}"
      ]
     },
     "execution_count": 99,
     "metadata": {},
     "output_type": "execute_result"
    }
   ],
   "source": [
    "get_page_views(all_articles[0][0], year=2022)"
   ]
  },
  {
   "attachments": {},
   "cell_type": "markdown",
   "metadata": {},
   "source": [
    "##### pageviewAPI"
   ]
  },
  {
   "cell_type": "code",
   "execution_count": 110,
   "metadata": {},
   "outputs": [],
   "source": [
    "def pageviews(link):\n",
    "  # Set the endpoint for the Wikipedia API\n",
    "  endpoint = \"https://wikimedia.org/api/rest_v1/metrics/pageviews/per-article/en.wikipedia/all-access/all-agents/\"\n",
    "\n",
    "  # Set the parameters for the API call\n",
    "  params = {\n",
    "    \"article\": link,\n",
    "    \"granularity\": \"monthly\",\n",
    "    \"start\": \"2021100100\",\n",
    "    \"end\": \"2021103100\"\n",
    "  }\n",
    "\n",
    "  # Make the API call\n",
    "  r = requests.get(endpoint, params=params, headers={\"User-Agent\": \"f.f.sinke@student.vu.nl\"})\n",
    "\n",
    "  # Extract the list of articles from the response\n",
    "  pageviews = r.json()\n",
    "\n",
    "  # Return the list of links\n",
    "  return pageviews"
   ]
  },
  {
   "cell_type": "code",
   "execution_count": 113,
   "metadata": {},
   "outputs": [
    {
     "data": {
      "text/plain": [
       "'https://en.wikipedia.org/?curid=4848272'"
      ]
     },
     "execution_count": 113,
     "metadata": {},
     "output_type": "execute_result"
    }
   ],
   "source": [
    "all_articles[0][0]"
   ]
  },
  {
   "cell_type": "code",
   "execution_count": 133,
   "metadata": {},
   "outputs": [
    {
     "data": {
      "text/plain": [
       "['Donald Trump',\n",
       " 'Family of Donald Trump',\n",
       " 'Social media use by Donald Trump',\n",
       " 'Cabinet of Donald Trump',\n",
       " 'Veracity of statements by Donald Trump',\n",
       " 'Presidency of Donald Trump',\n",
       " 'Inauguration of Donald Trump',\n",
       " 'Donald Trump Jr.',\n",
       " 'Donald Trump 2016 presidential campaign',\n",
       " 'Donald Trump filmography']"
      ]
     },
     "execution_count": 133,
     "metadata": {},
     "output_type": "execute_result"
    }
   ],
   "source": [
    "all_articles[0]"
   ]
  },
  {
   "cell_type": "code",
   "execution_count": 123,
   "metadata": {},
   "outputs": [
    {
     "name": "stdout",
     "output_type": "stream",
     "text": [
      "{'type': 'https://mediawiki.org/wiki/HyperSwitch/errors/not_found', 'title': 'Not found.', 'method': 'get', 'detail': 'The date(s) you used are valid, but we either do not have data for those date(s), or the project you asked for is not loaded yet.  Please check https://wikimedia.org/api/rest_v1/?doc for more information.', 'uri': '/analytics.wikimedia.org/v1/pageviews/per-article/en.wikipedia/all-access/user/4848272/monthly/2021100100/2021103100'}\n"
     ]
    }
   ],
   "source": [
    "import requests\n",
    "\n",
    "# Replace PAGE_ID with the ID of the page you want to get the views for\n",
    "PAGE_ID = 4848272\n",
    "\n",
    "# Make a request to the Wikipedia API to get the page views for the page\n",
    "url = f\"https://wikimedia.org/api/rest_v1/metrics/pageviews/per-article/en.wikipedia/all-access/user/{PAGE_ID}/monthly/2021100100/2021103100\"\n",
    "response = requests.get(url, headers={\"User-Agent\": 'f.f.sinke@student.vu.nl'})\n",
    "\n",
    "# Get the page views data from the response\n",
    "page_views = response.json()\n",
    "\n",
    "# Print the page views data\n",
    "print(page_views)"
   ]
  },
  {
   "cell_type": "code",
   "execution_count": null,
   "metadata": {},
   "outputs": [],
   "source": [
    "pageviews = pageviewapi.per_article('en.wikipedia', article_name, '2022100100', '2022103100', access='all-access',\n",
    "                      agent='user', granularity='monthly')\n",
    "pageviews['items'][0]['views']\n",
    "\n",
    "print(f\"Wikipage {article_name} has {pageviews['items'][0]['views']} views from 2022-10-01 to 2022-10-31\")"
   ]
  },
  {
   "cell_type": "code",
   "execution_count": 129,
   "metadata": {},
   "outputs": [
    {
     "data": {
      "text/plain": [
       "['https://en.wikipedia.org/wiki/Donald_Trump',\n",
       " 'https://en.wikipedia.org/wiki/Family_of_Donald_Trump',\n",
       " 'https://en.wikipedia.org/wiki/Social_media_use_by_Donald_Trump',\n",
       " 'https://en.wikipedia.org/wiki/Cabinet_of_Donald_Trump',\n",
       " 'https://en.wikipedia.org/wiki/Veracity_of_statements_by_Donald_Trump',\n",
       " 'https://en.wikipedia.org/wiki/Presidency_of_Donald_Trump',\n",
       " 'https://en.wikipedia.org/wiki/Inauguration_of_Donald_Trump',\n",
       " 'https://en.wikipedia.org/wiki/Tax_returns_of_Donald_Trump',\n",
       " 'https://en.wikipedia.org/wiki/Donald_Trump_2016_presidential_campaign',\n",
       " 'https://en.wikipedia.org/wiki/Donald_Trump_Jr.']"
      ]
     },
     "execution_count": 129,
     "metadata": {},
     "output_type": "execute_result"
    }
   ],
   "source": [
    "all_articles[0]"
   ]
  },
  {
   "attachments": {},
   "cell_type": "markdown",
   "metadata": {},
   "source": [
    "##### mwviewsAPI"
   ]
  },
  {
   "cell_type": "code",
   "execution_count": 102,
   "metadata": {},
   "outputs": [],
   "source": [
    "from mwviews.api import PageviewsClient"
   ]
  },
  {
   "cell_type": "code",
   "execution_count": 103,
   "metadata": {},
   "outputs": [],
   "source": [
    "p = PageviewsClient('https://www.mediawiki.org/wiki/REST_API')"
   ]
  },
  {
   "cell_type": "code",
   "execution_count": 137,
   "metadata": {},
   "outputs": [],
   "source": [
    "views = p.article_views('en.wikipedia', all_articles[0], granularity='monthly', start='2022100100', end='2022103100')"
   ]
  },
  {
   "cell_type": "code",
   "execution_count": 147,
   "metadata": {},
   "outputs": [],
   "source": [
    "# get values of views defaultdict object and turn into list\n",
    "\n"
   ]
  },
  {
   "cell_type": "code",
   "execution_count": 160,
   "metadata": {},
   "outputs": [],
   "source": [
    "keys = list(views[0].keys())"
   ]
  },
  {
   "cell_type": "code",
   "execution_count": 161,
   "metadata": {},
   "outputs": [
    {
     "data": {
      "text/plain": [
       "9214328"
      ]
     },
     "execution_count": 161,
     "metadata": {},
     "output_type": "execute_result"
    }
   ],
   "source": [
    "views[0][keys[0]]"
   ]
  },
  {
   "cell_type": "code",
   "execution_count": 238,
   "metadata": {},
   "outputs": [
    {
     "name": "stdout",
     "output_type": "stream",
     "text": [
      "defaultdict(<class 'dict'>, {datetime.datetime(2022, 10, 1, 0, 0): {'Harry': 1795, 'Harry_Potter': 505954, 'Prince_Harry,_Duke_of_Sussex': 444871, 'Harry_Potter_(film_series)': 497169, 'Harry_Kane': 267928, 'Harry_S._Truman': 166239, 'Debbie_Harry': 149455, 'Harry_Styles': 795983, 'Harry_&_Meghan': None, \"Harry_Potter_and_the_Philosopher's_Stone\": 135585}})\n"
     ]
    }
   ],
   "source": [
    "articles = get_wikipedia_articles(\"harry\")\n",
    "views = p.article_views('en.wikipedia', articles, granularity='monthly', start='2022100100', end='2022103100')\n",
    "print(views)"
   ]
  },
  {
   "cell_type": "code",
   "execution_count": 245,
   "metadata": {},
   "outputs": [
    {
     "ename": "TypeError",
     "evalue": "'>' not supported between instances of 'int' and 'builtin_function_or_method'",
     "output_type": "error",
     "traceback": [
      "\u001b[0;31m---------------------------------------------------------------------------\u001b[0m",
      "\u001b[0;31mTypeError\u001b[0m                                 Traceback (most recent call last)",
      "\u001b[1;32m/Users/falksinke/Library/Mobile Documents/com~apple~CloudDocs/02B-Study/02VU/MSc BA/jaar2/WebData-Processing-Tech/WebDataProcessingSystems/notebooks/entity_linking.ipynb Cell 30\u001b[0m in \u001b[0;36m<cell line: 3>\u001b[0;34m()\u001b[0m\n\u001b[1;32m      <a href='vscode-notebook-cell:/Users/falksinke/Library/Mobile%20Documents/com~apple~CloudDocs/02B-Study/02VU/MSc%20BA/jaar2/WebData-Processing-Tech/WebDataProcessingSystems/notebooks/entity_linking.ipynb#Y116sZmlsZQ%3D%3D?line=1'>2</a>\u001b[0m keys \u001b[39m=\u001b[39m \u001b[39mlist\u001b[39m(dct\u001b[39m.\u001b[39mkeys())\n\u001b[1;32m      <a href='vscode-notebook-cell:/Users/falksinke/Library/Mobile%20Documents/com~apple~CloudDocs/02B-Study/02VU/MSc%20BA/jaar2/WebData-Processing-Tech/WebDataProcessingSystems/notebooks/entity_linking.ipynb#Y116sZmlsZQ%3D%3D?line=2'>3</a>\u001b[0m \u001b[39mfor\u001b[39;00m key \u001b[39min\u001b[39;00m keys:\n\u001b[0;32m----> <a href='vscode-notebook-cell:/Users/falksinke/Library/Mobile%20Documents/com~apple~CloudDocs/02B-Study/02VU/MSc%20BA/jaar2/WebData-Processing-Tech/WebDataProcessingSystems/notebooks/entity_linking.ipynb#Y116sZmlsZQ%3D%3D?line=3'>4</a>\u001b[0m     \u001b[39mif\u001b[39;00m dct[key] \u001b[39m>\u001b[39;49m \u001b[39mmax\u001b[39;49m:\n\u001b[1;32m      <a href='vscode-notebook-cell:/Users/falksinke/Library/Mobile%20Documents/com~apple~CloudDocs/02B-Study/02VU/MSc%20BA/jaar2/WebData-Processing-Tech/WebDataProcessingSystems/notebooks/entity_linking.ipynb#Y116sZmlsZQ%3D%3D?line=4'>5</a>\u001b[0m         \u001b[39mmax\u001b[39m \u001b[39m=\u001b[39m dct[key]\n\u001b[1;32m      <a href='vscode-notebook-cell:/Users/falksinke/Library/Mobile%20Documents/com~apple~CloudDocs/02B-Study/02VU/MSc%20BA/jaar2/WebData-Processing-Tech/WebDataProcessingSystems/notebooks/entity_linking.ipynb#Y116sZmlsZQ%3D%3D?line=5'>6</a>\u001b[0m         max_key \u001b[39m=\u001b[39m key\n",
      "\u001b[0;31mTypeError\u001b[0m: '>' not supported between instances of 'int' and 'builtin_function_or_method'"
     ]
    }
   ],
   "source": [
    "dct = list(views.values())[0]\n",
    "keys = list(dct.keys())\n",
    "for key in keys:\n",
    "    if dct[key] > max:\n",
    "        max = dct[key]\n",
    "        max_key = key\n",
    "return max_key"
   ]
  },
  {
   "cell_type": "code",
   "execution_count": null,
   "metadata": {},
   "outputs": [],
   "source": [
    "def select_most_popular(views):\n",
    "    max_views = 0\n",
    "    max_key = ''\n",
    "    dct = list(views.values())[0]\n",
    "    keys = list(dct.keys())\n",
    "    # Get key with max value\n",
    "    for key in keys:\n",
    "        if dct[key] > max_views:\n",
    "            max_views = dct[key]\n",
    "            max_key = key\n",
    "    return max_key"
   ]
  },
  {
   "cell_type": "code",
   "execution_count": 213,
   "metadata": {},
   "outputs": [
    {
     "data": {
      "text/plain": [
       "'MacOS'"
      ]
     },
     "execution_count": 213,
     "metadata": {},
     "output_type": "execute_result"
    }
   ],
   "source": [
    "select_most_popular(views)"
   ]
  },
  {
   "cell_type": "code",
   "execution_count": 208,
   "metadata": {},
   "outputs": [
    {
     "data": {
      "text/plain": [
       "['Apple',\n",
       " 'Apple Inc.',\n",
       " 'Apple (disambiguation)',\n",
       " 'Apples to Apples',\n",
       " 'MacOS',\n",
       " 'IOS',\n",
       " 'Apple silicon',\n",
       " 'IPhone',\n",
       " 'Apple Watch',\n",
       " 'Apple TV']"
      ]
     },
     "execution_count": 208,
     "metadata": {},
     "output_type": "execute_result"
    }
   ],
   "source": [
    "articles = get_wikipedia_articles(\"Apple\")\n",
    "articles"
   ]
  },
  {
   "cell_type": "code",
   "execution_count": 232,
   "metadata": {},
   "outputs": [],
   "source": [
    "def link_entity(entity):\n",
    "    articles = get_wikipedia_articles(entity)\n",
    "    views = p.article_views('en.wikipedia', articles, granularity='monthly', start='2022100100', end='2022103100')\n",
    "    if len(views) == 0:\n",
    "        print(\"No entity found\")\n",
    "        return None\n",
    "    print(views)\n",
    "    top_ambiguity = select_most_popular(views)\n",
    "    return f\"https://en.wikipedia.org/wiki/{top_ambiguity}\""
   ]
  },
  {
   "cell_type": "code",
   "execution_count": 233,
   "metadata": {},
   "outputs": [
    {
     "name": "stdout",
     "output_type": "stream",
     "text": [
      "defaultdict(<class 'dict'>, {datetime.datetime(2022, 10, 1, 0, 0): {'Harry': 1795, 'Harry_Potter': 505954, 'Prince_Harry,_Duke_of_Sussex': 444871, 'Harry_Potter_(film_series)': 497169, 'Harry_Kane': 267928, 'Harry_S._Truman': 166239, 'Debbie_Harry': 149455, 'Harry_Styles': 795983, 'Harry_&_Meghan': None, \"Harry_Potter_and_the_Philosopher's_Stone\": 135585}})\n"
     ]
    },
    {
     "ename": "TypeError",
     "evalue": "'>' not supported between instances of 'NoneType' and 'int'",
     "output_type": "error",
     "traceback": [
      "\u001b[0;31m---------------------------------------------------------------------------\u001b[0m",
      "\u001b[0;31mTypeError\u001b[0m                                 Traceback (most recent call last)",
      "\u001b[1;32m/Users/falksinke/Library/Mobile Documents/com~apple~CloudDocs/02B-Study/02VU/MSc BA/jaar2/WebData-Processing-Tech/WebDataProcessingSystems/notebooks/entity_linking.ipynb Cell 33\u001b[0m in \u001b[0;36m<cell line: 1>\u001b[0;34m()\u001b[0m\n\u001b[0;32m----> <a href='vscode-notebook-cell:/Users/falksinke/Library/Mobile%20Documents/com~apple~CloudDocs/02B-Study/02VU/MSc%20BA/jaar2/WebData-Processing-Tech/WebDataProcessingSystems/notebooks/entity_linking.ipynb#Y112sZmlsZQ%3D%3D?line=0'>1</a>\u001b[0m link_entity(\u001b[39m\"\u001b[39;49m\u001b[39mHarry\u001b[39;49m\u001b[39m\"\u001b[39;49m)\n",
      "\u001b[1;32m/Users/falksinke/Library/Mobile Documents/com~apple~CloudDocs/02B-Study/02VU/MSc BA/jaar2/WebData-Processing-Tech/WebDataProcessingSystems/notebooks/entity_linking.ipynb Cell 33\u001b[0m in \u001b[0;36mlink_entity\u001b[0;34m(entity)\u001b[0m\n\u001b[1;32m      <a href='vscode-notebook-cell:/Users/falksinke/Library/Mobile%20Documents/com~apple~CloudDocs/02B-Study/02VU/MSc%20BA/jaar2/WebData-Processing-Tech/WebDataProcessingSystems/notebooks/entity_linking.ipynb#Y112sZmlsZQ%3D%3D?line=5'>6</a>\u001b[0m     \u001b[39mreturn\u001b[39;00m \u001b[39mNone\u001b[39;00m\n\u001b[1;32m      <a href='vscode-notebook-cell:/Users/falksinke/Library/Mobile%20Documents/com~apple~CloudDocs/02B-Study/02VU/MSc%20BA/jaar2/WebData-Processing-Tech/WebDataProcessingSystems/notebooks/entity_linking.ipynb#Y112sZmlsZQ%3D%3D?line=6'>7</a>\u001b[0m \u001b[39mprint\u001b[39m(views)\n\u001b[0;32m----> <a href='vscode-notebook-cell:/Users/falksinke/Library/Mobile%20Documents/com~apple~CloudDocs/02B-Study/02VU/MSc%20BA/jaar2/WebData-Processing-Tech/WebDataProcessingSystems/notebooks/entity_linking.ipynb#Y112sZmlsZQ%3D%3D?line=7'>8</a>\u001b[0m top_ambiguity \u001b[39m=\u001b[39m select_most_popular(views)\n\u001b[1;32m      <a href='vscode-notebook-cell:/Users/falksinke/Library/Mobile%20Documents/com~apple~CloudDocs/02B-Study/02VU/MSc%20BA/jaar2/WebData-Processing-Tech/WebDataProcessingSystems/notebooks/entity_linking.ipynb#Y112sZmlsZQ%3D%3D?line=8'>9</a>\u001b[0m \u001b[39mreturn\u001b[39;00m \u001b[39mf\u001b[39m\u001b[39m\"\u001b[39m\u001b[39mhttps://en.wikipedia.org/wiki/\u001b[39m\u001b[39m{\u001b[39;00mtop_ambiguity\u001b[39m}\u001b[39;00m\u001b[39m\"\u001b[39m\n",
      "\u001b[1;32m/Users/falksinke/Library/Mobile Documents/com~apple~CloudDocs/02B-Study/02VU/MSc BA/jaar2/WebData-Processing-Tech/WebDataProcessingSystems/notebooks/entity_linking.ipynb Cell 33\u001b[0m in \u001b[0;36mselect_most_popular\u001b[0;34m(views)\u001b[0m\n\u001b[1;32m      <a href='vscode-notebook-cell:/Users/falksinke/Library/Mobile%20Documents/com~apple~CloudDocs/02B-Study/02VU/MSc%20BA/jaar2/WebData-Processing-Tech/WebDataProcessingSystems/notebooks/entity_linking.ipynb#Y112sZmlsZQ%3D%3D?line=5'>6</a>\u001b[0m \u001b[39m# Get key with max value\u001b[39;00m\n\u001b[1;32m      <a href='vscode-notebook-cell:/Users/falksinke/Library/Mobile%20Documents/com~apple~CloudDocs/02B-Study/02VU/MSc%20BA/jaar2/WebData-Processing-Tech/WebDataProcessingSystems/notebooks/entity_linking.ipynb#Y112sZmlsZQ%3D%3D?line=6'>7</a>\u001b[0m \u001b[39mfor\u001b[39;00m key \u001b[39min\u001b[39;00m keys:\n\u001b[0;32m----> <a href='vscode-notebook-cell:/Users/falksinke/Library/Mobile%20Documents/com~apple~CloudDocs/02B-Study/02VU/MSc%20BA/jaar2/WebData-Processing-Tech/WebDataProcessingSystems/notebooks/entity_linking.ipynb#Y112sZmlsZQ%3D%3D?line=7'>8</a>\u001b[0m     \u001b[39mif\u001b[39;00m dct[key] \u001b[39m>\u001b[39;49m \u001b[39mmax\u001b[39;49m:\n\u001b[1;32m      <a href='vscode-notebook-cell:/Users/falksinke/Library/Mobile%20Documents/com~apple~CloudDocs/02B-Study/02VU/MSc%20BA/jaar2/WebData-Processing-Tech/WebDataProcessingSystems/notebooks/entity_linking.ipynb#Y112sZmlsZQ%3D%3D?line=8'>9</a>\u001b[0m         \u001b[39mmax\u001b[39m \u001b[39m=\u001b[39m dct[key]\n\u001b[1;32m     <a href='vscode-notebook-cell:/Users/falksinke/Library/Mobile%20Documents/com~apple~CloudDocs/02B-Study/02VU/MSc%20BA/jaar2/WebData-Processing-Tech/WebDataProcessingSystems/notebooks/entity_linking.ipynb#Y112sZmlsZQ%3D%3D?line=9'>10</a>\u001b[0m         max_key \u001b[39m=\u001b[39m key\n",
      "\u001b[0;31mTypeError\u001b[0m: '>' not supported between instances of 'NoneType' and 'int'"
     ]
    }
   ],
   "source": [
    "link_entity(\"Harry\")"
   ]
  }
 ],
 "metadata": {
  "kernelspec": {
   "display_name": "Python 3",
   "language": "python",
   "name": "python3"
  },
  "language_info": {
   "codemirror_mode": {
    "name": "ipython",
    "version": 3
   },
   "file_extension": ".py",
   "mimetype": "text/x-python",
   "name": "python",
   "nbconvert_exporter": "python",
   "pygments_lexer": "ipython3",
   "version": "3.10.4"
  },
  "orig_nbformat": 4,
  "vscode": {
   "interpreter": {
    "hash": "b0fa6594d8f4cbf19f97940f81e996739fb7646882a419484c72d19e05852a7e"
   }
  }
 },
 "nbformat": 4,
 "nbformat_minor": 2
}
