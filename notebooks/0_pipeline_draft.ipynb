{
 "cells": [
  {
   "attachments": {},
   "cell_type": "markdown",
   "metadata": {},
   "source": [
    "# Full pipeline in action\n",
    "----------\n",
    "\n",
    "This notebook contains a set up of the full pipeline\n",
    "\n",
    "**Inputs:**\n",
    "\n",
    "- \n",
    "**Outputs:**\n",
    "- results.csv (triple per line)\n",
    "\n",
    "##### Table of contents:\n",
    "1. Setup\n",
    "2. Scraping\n",
    "3. NLP Preprocessing\n",
    "4. Information extraction\n",
    "    -  Named entity recognition\n",
    "    - Relation extraction\n",
    "5. Linking\n",
    "    - Entity linking\n",
    "    - Relation linking\n",
    "----------"
   ]
  },
  {
   "attachments": {},
   "cell_type": "markdown",
   "metadata": {},
   "source": [
    "### 1. Setup"
   ]
  },
  {
   "attachments": {},
   "cell_type": "markdown",
   "metadata": {},
   "source": [
    "##### Imports, settings & constants"
   ]
  },
  {
   "cell_type": "code",
   "execution_count": 1,
   "metadata": {},
   "outputs": [
    {
     "ename": "ModuleNotFoundError",
     "evalue": "No module named 'beautifulsoup'",
     "output_type": "error",
     "traceback": [
      "\u001b[0;31m---------------------------------------------------------------------------\u001b[0m",
      "\u001b[0;31mModuleNotFoundError\u001b[0m                       Traceback (most recent call last)",
      "\u001b[1;32m/Users/falksinke/Library/Mobile Documents/com~apple~CloudDocs/02B-Study/02VU/MSc BA/jaar2/WebData-Processing-Tech/WebDataProcessingSystems/notebooks/0_pipeline_draft.ipynb Cell 4\u001b[0m in \u001b[0;36m<cell line: 16>\u001b[0;34m()\u001b[0m\n\u001b[1;32m     <a href='vscode-notebook-cell:/Users/falksinke/Library/Mobile%20Documents/com~apple~CloudDocs/02B-Study/02VU/MSc%20BA/jaar2/WebData-Processing-Tech/WebDataProcessingSystems/notebooks/0_pipeline_draft.ipynb#X32sZmlsZQ%3D%3D?line=13'>14</a>\u001b[0m \u001b[39mfrom\u001b[39;00m \u001b[39mnlp\u001b[39;00m \u001b[39mimport\u001b[39;00m beautifulsoup \u001b[39mas\u001b[39;00m bsp\n\u001b[1;32m     <a href='vscode-notebook-cell:/Users/falksinke/Library/Mobile%20Documents/com~apple~CloudDocs/02B-Study/02VU/MSc%20BA/jaar2/WebData-Processing-Tech/WebDataProcessingSystems/notebooks/0_pipeline_draft.ipynb#X32sZmlsZQ%3D%3D?line=14'>15</a>\u001b[0m \u001b[39mfrom\u001b[39;00m \u001b[39mnlp\u001b[39;00m \u001b[39mimport\u001b[39;00m nlp_preprocessing \u001b[39mas\u001b[39;00m nlp_prep\n\u001b[0;32m---> <a href='vscode-notebook-cell:/Users/falksinke/Library/Mobile%20Documents/com~apple~CloudDocs/02B-Study/02VU/MSc%20BA/jaar2/WebData-Processing-Tech/WebDataProcessingSystems/notebooks/0_pipeline_draft.ipynb#X32sZmlsZQ%3D%3D?line=15'>16</a>\u001b[0m \u001b[39mfrom\u001b[39;00m \u001b[39mnlp\u001b[39;00m\u001b[39m.\u001b[39;00m\u001b[39mread_warc\u001b[39;00m \u001b[39mimport\u001b[39;00m read_warc\n\u001b[1;32m     <a href='vscode-notebook-cell:/Users/falksinke/Library/Mobile%20Documents/com~apple~CloudDocs/02B-Study/02VU/MSc%20BA/jaar2/WebData-Processing-Tech/WebDataProcessingSystems/notebooks/0_pipeline_draft.ipynb#X32sZmlsZQ%3D%3D?line=16'>17</a>\u001b[0m \u001b[39mfrom\u001b[39;00m \u001b[39mcorpus_processing\u001b[39;00m \u001b[39mimport\u001b[39;00m relation_extraction \u001b[39mas\u001b[39;00m cre\n\u001b[1;32m     <a href='vscode-notebook-cell:/Users/falksinke/Library/Mobile%20Documents/com~apple~CloudDocs/02B-Study/02VU/MSc%20BA/jaar2/WebData-Processing-Tech/WebDataProcessingSystems/notebooks/0_pipeline_draft.ipynb#X32sZmlsZQ%3D%3D?line=17'>18</a>\u001b[0m \u001b[39mfrom\u001b[39;00m \u001b[39mcorpus_processing\u001b[39;00m \u001b[39mimport\u001b[39;00m entity_relation_coupling \u001b[39mas\u001b[39;00m erc\n",
      "File \u001b[0;32m~/Library/Mobile Documents/com~apple~CloudDocs/02B-Study/02VU/MSc BA/jaar2/WebData-Processing-Tech/WebDataProcessingSystems/notebooks/../nlp/read_warc.py:1\u001b[0m, in \u001b[0;36m<module>\u001b[0;34m\u001b[0m\n\u001b[0;32m----> 1\u001b[0m \u001b[39mfrom\u001b[39;00m \u001b[39mbeautifulsoup\u001b[39;00m \u001b[39mimport\u001b[39;00m scraping_bbc\n\u001b[1;32m      2\u001b[0m \u001b[39mimport\u001b[39;00m \u001b[39mpandas\u001b[39;00m \u001b[39mas\u001b[39;00m \u001b[39mpd\u001b[39;00m\n\u001b[1;32m      3\u001b[0m \u001b[39mimport\u001b[39;00m \u001b[39mnumpy\u001b[39;00m \u001b[39mas\u001b[39;00m \u001b[39mnp\u001b[39;00m\n",
      "\u001b[0;31mModuleNotFoundError\u001b[0m: No module named 'beautifulsoup'"
     ]
    }
   ],
   "source": [
    "import spacy\n",
    "import pandas as pd\n",
    "import numpy as np\n",
    "import re\n",
    "import requests\n",
    "import sys\n",
    "from tqdm import tqdm\n",
    "\n",
    "import claucy\n",
    "\n",
    "\n",
    "sys.path.insert(0, \"../\")\n",
    "# Imports for NLP\n",
    "from nlp import beautifulsoup as bsp\n",
    "from nlp import nlp_preprocessing as nlp_prep\n",
    "from nlp.read_warc import read_warc\n",
    "from corpus_processing import relation_extraction as cre\n",
    "from corpus_processing import entity_relation_coupling as erc\n",
    "from corpus_processing import ner \n",
    "from corpus_processing import relation_extraction as re\n",
    "from corpus_processing import relation_linking as rl\n",
    "from corpus_processing import entity_linking as el "
   ]
  },
  {
   "cell_type": "code",
   "execution_count": 2,
   "metadata": {},
   "outputs": [],
   "source": [
    "# autoreload\n",
    "%load_ext autoreload\n",
    "%autoreload 2"
   ]
  },
  {
   "cell_type": "code",
   "execution_count": 3,
   "metadata": {},
   "outputs": [],
   "source": [
    "WEBPAGE_URL = ['https://www.cbc.ca/news/world/trump-organization-taxes-guilty-1.6676368']"
   ]
  },
  {
   "attachments": {},
   "cell_type": "markdown",
   "metadata": {},
   "source": [
    "### 2. Webscraping"
   ]
  },
  {
   "cell_type": "code",
   "execution_count": 13,
   "metadata": {},
   "outputs": [],
   "source": [
    "webpages = [bsp.fetch_webpage(url) for url in WEBPAGE_URL]\n",
    "stripped_webpages = [bsp.scrape_webpage(webpage) for webpage in webpages]"
   ]
  },
  {
   "attachments": {},
   "cell_type": "markdown",
   "metadata": {},
   "source": [
    "Or alternatively, WARC files"
   ]
  },
  {
   "cell_type": "code",
   "execution_count": 49,
   "metadata": {},
   "outputs": [
    {
     "ename": "NameError",
     "evalue": "name 'read_warc' is not defined",
     "output_type": "error",
     "traceback": [
      "\u001b[0;31m---------------------------------------------------------------------------\u001b[0m",
      "\u001b[0;31mNameError\u001b[0m                                 Traceback (most recent call last)",
      "\u001b[1;32m/Users/falksinke/Library/Mobile Documents/com~apple~CloudDocs/02B-Study/02VU/MSc BA/jaar2/WebData-Processing-Tech/WebDataProcessingSystems/notebooks/0_pipeline_draft.ipynb Cell 10\u001b[0m in \u001b[0;36m<cell line: 1>\u001b[0;34m()\u001b[0m\n\u001b[0;32m----> <a href='vscode-notebook-cell:/Users/falksinke/Library/Mobile%20Documents/com~apple~CloudDocs/02B-Study/02VU/MSc%20BA/jaar2/WebData-Processing-Tech/WebDataProcessingSystems/notebooks/0_pipeline_draft.ipynb#X62sZmlsZQ%3D%3D?line=0'>1</a>\u001b[0m read_warc\u001b[39m.\u001b[39mread_warc(\u001b[39m'\u001b[39m\u001b[39m../data/warcs/sample.warc.gz\u001b[39m\u001b[39m'\u001b[39m)\n",
      "\u001b[0;31mNameError\u001b[0m: name 'read_warc' is not defined"
     ]
    }
   ],
   "source": [
    "read_warc.read_warc('../data/warcs/sample.warc.gz')"
   ]
  },
  {
   "attachments": {},
   "cell_type": "markdown",
   "metadata": {},
   "source": [
    "### 3. NLP Preprocessing"
   ]
  },
  {
   "cell_type": "code",
   "execution_count": 15,
   "metadata": {},
   "outputs": [],
   "source": [
    "spacy_processor = spacy.load(\"en_core_web_md\")\n",
    "# nlp.add_pipe(\"entityLinker\", last=True)  # entity linker\n",
    "# claucy.add_to_pipe(nlp)  # Open IE"
   ]
  },
  {
   "cell_type": "code",
   "execution_count": 16,
   "metadata": {},
   "outputs": [],
   "source": [
    "spacy_docs = [nlp_prep.get_nlp_doc(page, spacy_processor) for page in stripped_webpages]"
   ]
  },
  {
   "cell_type": "code",
   "execution_count": 17,
   "metadata": {},
   "outputs": [
    {
     "name": "stdout",
     "output_type": "stream",
     "text": [
      "\n",
      "============= NLP PRE-PROCESSING =============\n",
      "\n"
     ]
    }
   ],
   "source": [
    "processed_pages = [nlp_prep.nlp_preprocessing(doc) for doc in spacy_docs]"
   ]
  },
  {
   "attachments": {},
   "cell_type": "markdown",
   "metadata": {},
   "source": [
    "### 4. Information extraction"
   ]
  },
  {
   "attachments": {},
   "cell_type": "markdown",
   "metadata": {},
   "source": [
    "##### 4.1 Named Entity Recognition"
   ]
  },
  {
   "cell_type": "code",
   "execution_count": 35,
   "metadata": {},
   "outputs": [
    {
     "name": "stdout",
     "output_type": "stream",
     "text": [
      "\n",
      "============= NAMED ENTITY RECOGNITION =============\n",
      "\n"
     ]
    }
   ],
   "source": [
    "ner_pages = [ner.detect_entities(doc) for doc in spacy_docs][0]"
   ]
  },
  {
   "cell_type": "code",
   "execution_count": 36,
   "metadata": {},
   "outputs": [
    {
     "data": {
      "text/html": [
       "<div>\n",
       "<style scoped>\n",
       "    .dataframe tbody tr th:only-of-type {\n",
       "        vertical-align: middle;\n",
       "    }\n",
       "\n",
       "    .dataframe tbody tr th {\n",
       "        vertical-align: top;\n",
       "    }\n",
       "\n",
       "    .dataframe thead th {\n",
       "        text-align: right;\n",
       "    }\n",
       "</style>\n",
       "<table border=\"1\" class=\"dataframe\">\n",
       "  <thead>\n",
       "    <tr style=\"text-align: right;\">\n",
       "      <th></th>\n",
       "      <th>label</th>\n",
       "      <th>ner_type</th>\n",
       "    </tr>\n",
       "  </thead>\n",
       "  <tbody>\n",
       "    <tr>\n",
       "      <th>0</th>\n",
       "      <td>Donald Trump's</td>\n",
       "      <td>PERSON</td>\n",
       "    </tr>\n",
       "    <tr>\n",
       "      <th>1</th>\n",
       "      <td>Tuesday</td>\n",
       "      <td>DATE</td>\n",
       "    </tr>\n",
       "    <tr>\n",
       "      <th>2</th>\n",
       "      <td>Manhattan</td>\n",
       "      <td>GPE</td>\n",
       "    </tr>\n",
       "    <tr>\n",
       "      <th>3</th>\n",
       "      <td>U.S.</td>\n",
       "      <td>GPE</td>\n",
       "    </tr>\n",
       "    <tr>\n",
       "      <th>4</th>\n",
       "      <td>two</td>\n",
       "      <td>CARDINAL</td>\n",
       "    </tr>\n",
       "    <tr>\n",
       "      <th>...</th>\n",
       "      <td>...</td>\n",
       "      <td>...</td>\n",
       "    </tr>\n",
       "    <tr>\n",
       "      <th>104</th>\n",
       "      <td>1E6</td>\n",
       "      <td>DATE</td>\n",
       "    </tr>\n",
       "    <tr>\n",
       "      <th>105</th>\n",
       "      <td>Canada</td>\n",
       "      <td>GPE</td>\n",
       "    </tr>\n",
       "    <tr>\n",
       "      <th>106</th>\n",
       "      <td>1-866</td>\n",
       "      <td>CARDINAL</td>\n",
       "    </tr>\n",
       "    <tr>\n",
       "      <th>108</th>\n",
       "      <td>Canadians</td>\n",
       "      <td>NORP</td>\n",
       "    </tr>\n",
       "    <tr>\n",
       "      <th>110</th>\n",
       "      <td>CBC Gem</td>\n",
       "      <td>ORG</td>\n",
       "    </tr>\n",
       "  </tbody>\n",
       "</table>\n",
       "<p>70 rows × 2 columns</p>\n",
       "</div>"
      ],
      "text/plain": [
       "              label  ner_type\n",
       "0    Donald Trump's    PERSON\n",
       "1           Tuesday      DATE\n",
       "2         Manhattan       GPE\n",
       "3              U.S.       GPE\n",
       "4               two  CARDINAL\n",
       "..              ...       ...\n",
       "104             1E6      DATE\n",
       "105          Canada       GPE\n",
       "106           1-866  CARDINAL\n",
       "108       Canadians      NORP\n",
       "110         CBC Gem       ORG\n",
       "\n",
       "[70 rows x 2 columns]"
      ]
     },
     "execution_count": 36,
     "metadata": {},
     "output_type": "execute_result"
    }
   ],
   "source": [
    "ner_pages"
   ]
  },
  {
   "attachments": {},
   "cell_type": "markdown",
   "metadata": {},
   "source": [
    "##### 4.2 Relation Extraction"
   ]
  },
  {
   "cell_type": "code",
   "execution_count": 22,
   "metadata": {},
   "outputs": [
    {
     "name": "stdout",
     "output_type": "stream",
     "text": [
      "{}\n",
      "(Donald Trump's, Tuesday, Manhattan, U.S., two, the Trump Organization, 17, the second day, the Trump Organization, New York, three years, Trump, the Trump Organization, up to $1.6 million, US, Trump, Democrats, Trump Organization, Alan Futerfas, Trump, Washington, Florida, Mar-a-Lago, 2020, Justice Department, Fulton County, Georgia, Trump, Trump, the White House, last month, Holocaust, Kanye West, Trump, Constitution, Manhattan, the Trump Organization's, Allen Weisselberg, Weisselberg, five-month, the Trump Organization, Weisselberg, Jeffrey McConney, Trump Organization, Weisselberg, Weisselberg, month-long, Trump, Weisselberg, Trump, Weisselberg, Trump, Greatest Political Witch Hunt, New York City, Trump, Weisselberg, Weisselberg, RELIANCE, Manhattan, Trump, Weisselberg, $1.7 million, US, McConney, W-2, Joshua Steinglass, Trump, Trump, Weisselberg, Trump, Trump, Steinglass, Trump, Manhattan, Alvin Bragg, Democrat, January, Bragg, Trump, District, Cyrus Vance Jr., Trump, New York, Letitia James', Trump, two, Republican, years ago, last year, Vance, Trump, Bragg, Monday, CBC News, first, CBC/Radio-Canada's, CBC, CBC, CBC, our Submission Guidelines, Audience Relations, CBC P.O. Box 500 Station A, Toronto, ON  Canada, 1E6, Canada, 1-866, CBC, Canadians, CBC, CBC Gem)\n"
     ]
    }
   ],
   "source": [
    "relations = [cre.extract_relations(doc) for doc in spacy_docs]"
   ]
  },
  {
   "attachments": {},
   "cell_type": "markdown",
   "metadata": {},
   "source": [
    "### 5. Linking"
   ]
  },
  {
   "cell_type": "code",
   "execution_count": null,
   "metadata": {},
   "outputs": [],
   "source": []
  },
  {
   "attachments": {},
   "cell_type": "markdown",
   "metadata": {},
   "source": [
    "##### 5.1 Entity linking"
   ]
  },
  {
   "cell_type": "code",
   "execution_count": 41,
   "metadata": {},
   "outputs": [
    {
     "name": "stderr",
     "output_type": "stream",
     "text": [
      "100%|██████████| 70/70 [00:44<00:00,  1.59it/s]\n"
     ]
    }
   ],
   "source": [
    "entities_to_link = ner_pages['label'].to_list()\n",
    "linked_entities = []\n",
    "for entity in tqdm(entities_to_link):\n",
    "    linked_entities.append(el.link_entity(entity))"
   ]
  },
  {
   "attachments": {},
   "cell_type": "markdown",
   "metadata": {},
   "source": [
    "##### 5.2 Relation linking"
   ]
  }
 ],
 "metadata": {
  "kernelspec": {
   "display_name": "Python 3",
   "language": "python",
   "name": "python3"
  },
  "language_info": {
   "codemirror_mode": {
    "name": "ipython",
    "version": 3
   },
   "file_extension": ".py",
   "mimetype": "text/x-python",
   "name": "python",
   "nbconvert_exporter": "python",
   "pygments_lexer": "ipython3",
   "version": "3.10.4"
  },
  "orig_nbformat": 4,
  "vscode": {
   "interpreter": {
    "hash": "b0fa6594d8f4cbf19f97940f81e996739fb7646882a419484c72d19e05852a7e"
   }
  }
 },
 "nbformat": 4,
 "nbformat_minor": 2
}
