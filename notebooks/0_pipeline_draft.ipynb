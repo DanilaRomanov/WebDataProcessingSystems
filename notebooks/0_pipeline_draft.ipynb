{
 "cells": [
  {
   "attachments": {},
   "cell_type": "markdown",
   "metadata": {},
   "source": [
    "# Full pipeline in action\n",
    "----------\n",
    "\n",
    "This notebook contains a set up of the full pipeline\n",
    "\n",
    "**Inputs:**\n",
    "\n",
    "- \n",
    "**Outputs:**\n",
    "- results.csv (triple per line)\n",
    "\n",
    "##### Table of contents:\n",
    "1. Setup\n",
    "2. Scraping\n",
    "3. NLP Preprocessing\n",
    "4. Information extraction\n",
    "    -  Named entity recognition\n",
    "    - Relation extraction\n",
    "5. Linking\n",
    "    - Entity linking\n",
    "    - Relation linking\n",
    "----------"
   ]
  },
  {
   "attachments": {},
   "cell_type": "markdown",
   "metadata": {},
   "source": [
    "### 1. Setup"
   ]
  },
  {
   "attachments": {},
   "cell_type": "markdown",
   "metadata": {},
   "source": [
    "##### Imports, settings & constants"
   ]
  },
  {
   "cell_type": "code",
   "execution_count": 13,
   "metadata": {},
   "outputs": [],
   "source": [
    "import spacy\n",
    "import pandas as pd\n",
    "import numpy as np\n",
    "import re\n",
    "import requests\n",
    "import sys\n",
    "\n",
    "import claucy\n",
    "\n",
    "\n",
    "sys.path.insert(0, \"../\")\n",
    "# Imports for NLP\n",
    "from nlp import beautifulsoup as bsp\n",
    "from nlp import nlp_preprocessing as nlp_prep\n",
    "from corpus_processing import clausie_relation_extraction as cre\n",
    "from corpus_processing import entity_relation_linking as erl\n",
    "from corpus_processing import ner "
   ]
  },
  {
   "cell_type": "code",
   "execution_count": 8,
   "metadata": {},
   "outputs": [],
   "source": [
    "# autoreload\n",
    "%load_ext autoreload\n",
    "%autoreload 2"
   ]
  },
  {
   "cell_type": "code",
   "execution_count": 3,
   "metadata": {},
   "outputs": [],
   "source": [
    "WEBPAGE_URL = ['https://www.cbc.ca/news/world/trump-organization-taxes-guilty-1.6676368']"
   ]
  },
  {
   "attachments": {},
   "cell_type": "markdown",
   "metadata": {},
   "source": [
    "### 2. Webscraping"
   ]
  },
  {
   "cell_type": "code",
   "execution_count": 11,
   "metadata": {},
   "outputs": [
    {
     "name": "stdout",
     "output_type": "stream",
     "text": [
      "Scraping: https://www.cbc.ca/news/world/trump-organization-taxes-guilty-1.6676368\n"
     ]
    }
   ],
   "source": [
    "webpages = [bsp.scrape_webpage(url) for url in WEBPAGE_URL]"
   ]
  },
  {
   "attachments": {},
   "cell_type": "markdown",
   "metadata": {},
   "source": [
    "### 3. NLP Preprocessing"
   ]
  },
  {
   "cell_type": "code",
   "execution_count": 17,
   "metadata": {},
   "outputs": [],
   "source": [
    "spacy_processor = spacy.load(\"en_core_web_md\")\n",
    "# nlp.add_pipe(\"entityLinker\", last=True)  # entity linker\n",
    "# claucy.add_to_pipe(nlp)  # Open IE"
   ]
  },
  {
   "cell_type": "code",
   "execution_count": 21,
   "metadata": {},
   "outputs": [
    {
     "name": "stdout",
     "output_type": "stream",
     "text": [
      "\n",
      "============= NLP PRE-PROCESSING =============\n",
      "\n"
     ]
    }
   ],
   "source": [
    "spacy_docs = [nlp_prep.get_nlp_doc(page, spacy_processor) for page in webpages]\n",
    "processed_pages = [nlp_prep.nlp_preprocessing(doc) for doc in spacy_docs]"
   ]
  },
  {
   "attachments": {},
   "cell_type": "markdown",
   "metadata": {},
   "source": [
    "### 4. Information extraction"
   ]
  },
  {
   "attachments": {},
   "cell_type": "markdown",
   "metadata": {},
   "source": [
    "##### 4.1 Named Entity Recognition"
   ]
  },
  {
   "cell_type": "code",
   "execution_count": 29,
   "metadata": {},
   "outputs": [
    {
     "name": "stdout",
     "output_type": "stream",
     "text": [
      "\n",
      "============= NAMED ENTITY RECOGNITION =============\n",
      "\n"
     ]
    }
   ],
   "source": [
    "ner_pages = [ner.detect_entities(doc) for doc in spacy_docs]"
   ]
  },
  {
   "cell_type": "code",
   "execution_count": 30,
   "metadata": {},
   "outputs": [
    {
     "data": {
      "text/plain": [
       "[              label  ner_type\n",
       " 0    Donald Trump's    PERSON\n",
       " 1           Tuesday      DATE\n",
       " 2         Manhattan       GPE\n",
       " 3              U.S.       GPE\n",
       " 4               two  CARDINAL\n",
       " ..              ...       ...\n",
       " 104             1E6      DATE\n",
       " 105          Canada       GPE\n",
       " 106           1-866  CARDINAL\n",
       " 108       Canadians      NORP\n",
       " 110         CBC Gem       ORG\n",
       " \n",
       " [70 rows x 2 columns]]"
      ]
     },
     "execution_count": 30,
     "metadata": {},
     "output_type": "execute_result"
    }
   ],
   "source": [
    "ner_pages"
   ]
  },
  {
   "attachments": {},
   "cell_type": "markdown",
   "metadata": {},
   "source": [
    "##### 4.2 Relation Extraction"
   ]
  },
  {
   "cell_type": "code",
   "execution_count": null,
   "metadata": {},
   "outputs": [],
   "source": []
  },
  {
   "attachments": {},
   "cell_type": "markdown",
   "metadata": {},
   "source": [
    "### 5. Linking"
   ]
  },
  {
   "cell_type": "code",
   "execution_count": null,
   "metadata": {},
   "outputs": [],
   "source": []
  },
  {
   "attachments": {},
   "cell_type": "markdown",
   "metadata": {},
   "source": [
    "##### 5.1 Entity linking"
   ]
  },
  {
   "cell_type": "code",
   "execution_count": null,
   "metadata": {},
   "outputs": [],
   "source": []
  },
  {
   "attachments": {},
   "cell_type": "markdown",
   "metadata": {},
   "source": [
    "##### 5.2 Relation linking"
   ]
  },
  {
   "cell_type": "code",
   "execution_count": null,
   "metadata": {},
   "outputs": [],
   "source": []
  }
 ],
 "metadata": {
  "kernelspec": {
   "display_name": "Python 3",
   "language": "python",
   "name": "python3"
  },
  "language_info": {
   "codemirror_mode": {
    "name": "ipython",
    "version": 3
   },
   "file_extension": ".py",
   "mimetype": "text/x-python",
   "name": "python",
   "nbconvert_exporter": "python",
   "pygments_lexer": "ipython3",
   "version": "3.10.4"
  },
  "orig_nbformat": 4,
  "vscode": {
   "interpreter": {
    "hash": "b0fa6594d8f4cbf19f97940f81e996739fb7646882a419484c72d19e05852a7e"
   }
  }
 },
 "nbformat": 4,
 "nbformat_minor": 2
}
