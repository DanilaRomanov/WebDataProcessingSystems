{
 "cells": [
  {
   "attachments": {},
   "cell_type": "markdown",
   "metadata": {},
   "source": [
    "# Full pipeline in action (beta version)\n",
    "----------\n",
    "\n",
    "This notebook contains a set up of the full pipeline\n",
    "\n",
    "**Inputs:**\n",
    "\n",
    "- \n",
    "**Outputs:**\n",
    "- results.csv (triple per line)\n",
    "\n",
    "##### Table of contents:\n",
    "1. Setup\n",
    "2. Scraping\n",
    "3. NLP Preprocessing\n",
    "4. Information extraction\n",
    "    -  Named entity recognition\n",
    "    - Relation extraction\n",
    "5. Linking\n",
    "    - Entity linking\n",
    "    - Relation linking\n",
    "----------"
   ]
  },
  {
   "attachments": {},
   "cell_type": "markdown",
   "metadata": {},
   "source": [
    "### 1. Setup"
   ]
  },
  {
   "attachments": {},
   "cell_type": "markdown",
   "metadata": {},
   "source": [
    "##### Imports, settings & constants"
   ]
  },
  {
   "cell_type": "code",
   "execution_count": 5,
   "metadata": {},
   "outputs": [],
   "source": [
    "import spacy\n",
    "import pandas as pd\n",
    "import numpy as np\n",
    "import re\n",
    "import requests\n",
    "import sys\n",
    "from tqdm import tqdm\n",
    "from pathlib import Path\n",
    "\n",
    "import claucy\n",
    "\n",
    "\n",
    "sys.path.insert(0, \"../\")\n",
    "# Imports for NLP\n",
    "from nlp import beautifulsoup as bsp\n",
    "from nlp import nlp_preprocessing as nlp_prep\n",
    "from nlp.read_warc2 import read_warc\n",
    "from corpus_processing import relation_extraction as cre\n",
    "from corpus_processing import entity_relation_coupling as erc\n",
    "from corpus_processing import ner \n",
    "from corpus_processing import relation_extraction as re\n",
    "from corpus_processing import relation_linking as rl\n",
    "from corpus_processing import entity_linking as el "
   ]
  },
  {
   "cell_type": "code",
   "execution_count": 3,
   "metadata": {},
   "outputs": [],
   "source": [
    "pd.set_option('display.max_columns', None)\n",
    "pd.set_option('display.max_rows', None)"
   ]
  },
  {
   "cell_type": "code",
   "execution_count": 4,
   "metadata": {},
   "outputs": [
    {
     "name": "stdout",
     "output_type": "stream",
     "text": [
      "The autoreload extension is already loaded. To reload it, use:\n",
      "  %reload_ext autoreload\n"
     ]
    }
   ],
   "source": [
    "# autoreload\n",
    "%load_ext autoreload\n",
    "%autoreload 2"
   ]
  },
  {
   "cell_type": "code",
   "execution_count": 7,
   "metadata": {},
   "outputs": [],
   "source": [
    "DIR_DATA = Path(\"../data/warcs\")\n",
    "FNAME_WARC = \"sample.warc.gz\""
   ]
  },
  {
   "attachments": {},
   "cell_type": "markdown",
   "metadata": {},
   "source": [
    "### 1. Reading WARC files"
   ]
  },
  {
   "cell_type": "code",
   "execution_count": 9,
   "metadata": {},
   "outputs": [
    {
     "name": "stdout",
     "output_type": "stream",
     "text": [
      "reading warc file...\n",
      "warc list ['clueweb12-0000tw-00-00006' 'clueweb12-0000tw-00-00043'\n",
      " 'clueweb12-0000tw-00-00044' 'clueweb12-0000tw-00-00101'\n",
      " 'clueweb12-0000tw-00-00129' 'clueweb12-0000tw-00-00130'\n",
      " 'clueweb12-0000tw-00-00141' 'clueweb12-0000tw-00-00160'\n",
      " 'clueweb12-0000tw-00-00161' 'clueweb12-0000tw-00-00162'\n",
      " 'clueweb12-0000tw-00-00199' 'clueweb12-0000tw-00-00205'\n",
      " 'clueweb12-0000tw-00-00210' 'clueweb12-0000tw-00-00212'\n",
      " 'clueweb12-0000tw-00-00214' 'clueweb12-0000tw-00-00829'\n",
      " 'clueweb12-0000tw-00-00833' 'clueweb12-0000tw-00-00834'\n",
      " 'clueweb12-0000tw-00-00835' 'clueweb12-0000tw-00-00836'\n",
      " 'clueweb12-0000tw-00-00837' 'clueweb12-0000tw-00-00843'\n",
      " 'clueweb12-0000tw-00-00844' 'clueweb12-0000tw-00-00877'\n",
      " 'clueweb12-0000tw-00-00879' 'clueweb12-0000tw-00-00880'\n",
      " 'clueweb12-0000tw-00-00881' 'clueweb12-0000tw-00-00941'\n",
      " 'clueweb12-0000tw-00-00942' 'clueweb12-0000tw-00-00943'\n",
      " 'clueweb12-0000tw-00-00944' 'clueweb12-0000tw-00-00946']\n"
     ]
    }
   ],
   "source": [
    "warc_df = read_warc(DIR_DATA / FNAME_WARC)"
   ]
  },
  {
   "cell_type": "code",
   "execution_count": 18,
   "metadata": {},
   "outputs": [
    {
     "data": {
      "text/html": [
       "<div>\n",
       "<style scoped>\n",
       "    .dataframe tbody tr th:only-of-type {\n",
       "        vertical-align: middle;\n",
       "    }\n",
       "\n",
       "    .dataframe tbody tr th {\n",
       "        vertical-align: top;\n",
       "    }\n",
       "\n",
       "    .dataframe thead th {\n",
       "        text-align: right;\n",
       "    }\n",
       "</style>\n",
       "<table border=\"1\" class=\"dataframe\">\n",
       "  <thead>\n",
       "    <tr style=\"text-align: right;\">\n",
       "      <th></th>\n",
       "      <th>HTML_DOC</th>\n",
       "      <th>WARC-TREC-ID</th>\n",
       "    </tr>\n",
       "  </thead>\n",
       "  <tbody>\n",
       "    <tr>\n",
       "      <th>0</th>\n",
       "      <td>&lt;html&gt;\\r\\n\\r\\n&lt;head&gt;\\r\\n&lt;meta http-equiv=\"Cont...</td>\n",
       "      <td>clueweb12-0000tw-00-00006</td>\n",
       "    </tr>\n",
       "    <tr>\n",
       "      <th>1</th>\n",
       "      <td>&lt;html&gt;\\n\\n&lt;head&gt;\\n\\n&lt;style type=\"text/css\"&gt;\\n\\...</td>\n",
       "      <td>clueweb12-0000tw-00-00043</td>\n",
       "    </tr>\n",
       "    <tr>\n",
       "      <th>2</th>\n",
       "      <td>&lt;html&gt;\\n&lt;head&gt;\\n&lt;style type=\"text/css\"&gt;\\n#bott...</td>\n",
       "      <td>clueweb12-0000tw-00-00044</td>\n",
       "    </tr>\n",
       "    <tr>\n",
       "      <th>3</th>\n",
       "      <td>&lt;html&gt;\\n&lt;head&gt;\\n\\n&lt;title&gt;DHP Concerts Bristol ...</td>\n",
       "      <td>clueweb12-0000tw-00-00101</td>\n",
       "    </tr>\n",
       "    <tr>\n",
       "      <th>4</th>\n",
       "      <td>&lt;html&gt;\\n&lt;head&gt;\\n   &lt;title&gt;12 Tourist Spots in ...</td>\n",
       "      <td>clueweb12-0000tw-00-00129</td>\n",
       "    </tr>\n",
       "    <tr>\n",
       "      <th>5</th>\n",
       "      <td>&lt;html&gt;\\r\\n&lt;head&gt;\\r\\n&lt;title&gt;Saving Money Buying...</td>\n",
       "      <td>clueweb12-0000tw-00-00130</td>\n",
       "    </tr>\n",
       "    <tr>\n",
       "      <th>6</th>\n",
       "      <td>&lt;html&gt;\\n&lt;head&gt;\\n    &lt;title&gt;Freelance Web Desig...</td>\n",
       "      <td>clueweb12-0000tw-00-00141</td>\n",
       "    </tr>\n",
       "    <tr>\n",
       "      <th>7</th>\n",
       "      <td>&lt;html&gt;\\n&lt;head&gt;\\n&lt;meta http-equiv=\"Content-Type...</td>\n",
       "      <td>clueweb12-0000tw-00-00160</td>\n",
       "    </tr>\n",
       "    <tr>\n",
       "      <th>8</th>\n",
       "      <td>&lt;html&gt;\\n&lt;head&gt;\\n    &lt;meta http-equiv=\"Content-...</td>\n",
       "      <td>clueweb12-0000tw-00-00161</td>\n",
       "    </tr>\n",
       "    <tr>\n",
       "      <th>9</th>\n",
       "      <td>&lt;html&gt;\\n&lt;head&gt;\\n    &lt;meta http-equiv=\"Content-...</td>\n",
       "      <td>clueweb12-0000tw-00-00162</td>\n",
       "    </tr>\n",
       "    <tr>\n",
       "      <th>10</th>\n",
       "      <td>&lt;html&gt;\\n&lt;head&gt;&lt;script type=\"text/javascript\"&gt;v...</td>\n",
       "      <td>clueweb12-0000tw-00-00199</td>\n",
       "    </tr>\n",
       "    <tr>\n",
       "      <th>11</th>\n",
       "      <td>&lt;html&gt;\\n&lt;head&gt;\\n\\t&lt;title&gt;Browse all 1117 sessi...</td>\n",
       "      <td>clueweb12-0000tw-00-00205</td>\n",
       "    </tr>\n",
       "    <tr>\n",
       "      <th>12</th>\n",
       "      <td>&lt;html&gt;\\r\\n\\t&lt;head&gt;\\r\\n\\t\\t\\r\\n&lt;title&gt;WeatherBu...</td>\n",
       "      <td>clueweb12-0000tw-00-00210</td>\n",
       "    </tr>\n",
       "    <tr>\n",
       "      <th>13</th>\n",
       "      <td>&lt;html&gt;\\r\\n\\t&lt;head&gt;\\r\\n\\t\\t\\r\\n&lt;title&gt;WeatherBu...</td>\n",
       "      <td>clueweb12-0000tw-00-00212</td>\n",
       "    </tr>\n",
       "    <tr>\n",
       "      <th>14</th>\n",
       "      <td>&lt;html&gt;\\r\\n\\t&lt;head&gt;\\r\\n\\r\\n\\r\\n&lt;script language...</td>\n",
       "      <td>clueweb12-0000tw-00-00214</td>\n",
       "    </tr>\n",
       "    <tr>\n",
       "      <th>15</th>\n",
       "      <td>&lt;html&gt;\\n\\t&lt;head&gt;\\n\\t\\t&lt;title&gt;Sokoblovsky Farms...</td>\n",
       "      <td>clueweb12-0000tw-00-00829</td>\n",
       "    </tr>\n",
       "    <tr>\n",
       "      <th>16</th>\n",
       "      <td>&lt;html&gt;\\r\\n    &lt;head&gt;&lt;title&gt;\\r\\n\\t\\r\\n    \\r\\n ...</td>\n",
       "      <td>clueweb12-0000tw-00-00833</td>\n",
       "    </tr>\n",
       "    <tr>\n",
       "      <th>17</th>\n",
       "      <td>&lt;html&gt;\\r\\n    &lt;head&gt;&lt;title&gt;\\r\\n\\t\\r\\n    \\r\\n ...</td>\n",
       "      <td>clueweb12-0000tw-00-00834</td>\n",
       "    </tr>\n",
       "    <tr>\n",
       "      <th>18</th>\n",
       "      <td>&lt;html&gt;\\r\\n    &lt;head&gt;&lt;title&gt;\\r\\n\\t\\r\\n    \\r\\n ...</td>\n",
       "      <td>clueweb12-0000tw-00-00835</td>\n",
       "    </tr>\n",
       "    <tr>\n",
       "      <th>19</th>\n",
       "      <td>&lt;html&gt;\\r\\n    &lt;head&gt;&lt;title&gt;\\r\\n\\t\\r\\n    \\r\\n ...</td>\n",
       "      <td>clueweb12-0000tw-00-00836</td>\n",
       "    </tr>\n",
       "    <tr>\n",
       "      <th>20</th>\n",
       "      <td>&lt;html&gt;\\n&lt;head&gt;\\n    &lt;meta http-equiv=\"Content-...</td>\n",
       "      <td>clueweb12-0000tw-00-00837</td>\n",
       "    </tr>\n",
       "    <tr>\n",
       "      <th>21</th>\n",
       "      <td>&lt;html&gt; \\n    \\t\\t\\t&lt;head&gt; \\n    \\t\\t\\t&lt;meta ht...</td>\n",
       "      <td>clueweb12-0000tw-00-00843</td>\n",
       "    </tr>\n",
       "    <tr>\n",
       "      <th>22</th>\n",
       "      <td>&lt;html&gt; \\n    \\t\\t\\t&lt;head&gt; \\n    \\t\\t\\t&lt;meta ht...</td>\n",
       "      <td>clueweb12-0000tw-00-00844</td>\n",
       "    </tr>\n",
       "    <tr>\n",
       "      <th>23</th>\n",
       "      <td>&lt;html&gt;\\n&lt;head&gt;\\n&lt;title&gt;HIPSTART&lt;/title&gt;\\n&lt;link...</td>\n",
       "      <td>clueweb12-0000tw-00-00877</td>\n",
       "    </tr>\n",
       "    <tr>\n",
       "      <th>24</th>\n",
       "      <td>&lt;html&gt;\\n    &lt;head&gt;\\n        &lt;meta http-equiv=\"...</td>\n",
       "      <td>clueweb12-0000tw-00-00879</td>\n",
       "    </tr>\n",
       "    <tr>\n",
       "      <th>25</th>\n",
       "      <td>&lt;html&gt;\\n    &lt;head&gt;\\n        &lt;meta http-equiv=\"...</td>\n",
       "      <td>clueweb12-0000tw-00-00880</td>\n",
       "    </tr>\n",
       "    <tr>\n",
       "      <th>26</th>\n",
       "      <td>&lt;html&gt;\\n    &lt;head&gt;\\n        &lt;meta http-equiv=\"...</td>\n",
       "      <td>clueweb12-0000tw-00-00881</td>\n",
       "    </tr>\n",
       "    <tr>\n",
       "      <th>27</th>\n",
       "      <td>&lt;html&gt;\\n\\t&lt;head&gt;\\n        &lt;title&gt;Edinburgh Sci...</td>\n",
       "      <td>clueweb12-0000tw-00-00941</td>\n",
       "    </tr>\n",
       "    <tr>\n",
       "      <th>28</th>\n",
       "      <td>&lt;html&gt;\\n\\t&lt;head&gt;\\n        &lt;title&gt;KyNa Twitter ...</td>\n",
       "      <td>clueweb12-0000tw-00-00942</td>\n",
       "    </tr>\n",
       "    <tr>\n",
       "      <th>29</th>\n",
       "      <td>&lt;html&gt;\\n\\t&lt;head&gt;\\n        &lt;title&gt;New Comm Biz ...</td>\n",
       "      <td>clueweb12-0000tw-00-00943</td>\n",
       "    </tr>\n",
       "    <tr>\n",
       "      <th>30</th>\n",
       "      <td>&lt;html&gt;\\n\\t&lt;head&gt;\\n        &lt;title&gt;Ticket Shack ...</td>\n",
       "      <td>clueweb12-0000tw-00-00944</td>\n",
       "    </tr>\n",
       "    <tr>\n",
       "      <th>31</th>\n",
       "      <td>&lt;html&gt;\\n&lt;head&gt;\\n&lt;!-- test that deploys are wor...</td>\n",
       "      <td>clueweb12-0000tw-00-00946</td>\n",
       "    </tr>\n",
       "  </tbody>\n",
       "</table>\n",
       "</div>"
      ],
      "text/plain": [
       "                                             HTML_DOC  \\\n",
       "0   <html>\\r\\n\\r\\n<head>\\r\\n<meta http-equiv=\"Cont...   \n",
       "1   <html>\\n\\n<head>\\n\\n<style type=\"text/css\">\\n\\...   \n",
       "2   <html>\\n<head>\\n<style type=\"text/css\">\\n#bott...   \n",
       "3   <html>\\n<head>\\n\\n<title>DHP Concerts Bristol ...   \n",
       "4   <html>\\n<head>\\n   <title>12 Tourist Spots in ...   \n",
       "5   <html>\\r\\n<head>\\r\\n<title>Saving Money Buying...   \n",
       "6   <html>\\n<head>\\n    <title>Freelance Web Desig...   \n",
       "7   <html>\\n<head>\\n<meta http-equiv=\"Content-Type...   \n",
       "8   <html>\\n<head>\\n    <meta http-equiv=\"Content-...   \n",
       "9   <html>\\n<head>\\n    <meta http-equiv=\"Content-...   \n",
       "10  <html>\\n<head><script type=\"text/javascript\">v...   \n",
       "11  <html>\\n<head>\\n\\t<title>Browse all 1117 sessi...   \n",
       "12  <html>\\r\\n\\t<head>\\r\\n\\t\\t\\r\\n<title>WeatherBu...   \n",
       "13  <html>\\r\\n\\t<head>\\r\\n\\t\\t\\r\\n<title>WeatherBu...   \n",
       "14  <html>\\r\\n\\t<head>\\r\\n\\r\\n\\r\\n<script language...   \n",
       "15  <html>\\n\\t<head>\\n\\t\\t<title>Sokoblovsky Farms...   \n",
       "16  <html>\\r\\n    <head><title>\\r\\n\\t\\r\\n    \\r\\n ...   \n",
       "17  <html>\\r\\n    <head><title>\\r\\n\\t\\r\\n    \\r\\n ...   \n",
       "18  <html>\\r\\n    <head><title>\\r\\n\\t\\r\\n    \\r\\n ...   \n",
       "19  <html>\\r\\n    <head><title>\\r\\n\\t\\r\\n    \\r\\n ...   \n",
       "20  <html>\\n<head>\\n    <meta http-equiv=\"Content-...   \n",
       "21  <html> \\n    \\t\\t\\t<head> \\n    \\t\\t\\t<meta ht...   \n",
       "22  <html> \\n    \\t\\t\\t<head> \\n    \\t\\t\\t<meta ht...   \n",
       "23  <html>\\n<head>\\n<title>HIPSTART</title>\\n<link...   \n",
       "24  <html>\\n    <head>\\n        <meta http-equiv=\"...   \n",
       "25  <html>\\n    <head>\\n        <meta http-equiv=\"...   \n",
       "26  <html>\\n    <head>\\n        <meta http-equiv=\"...   \n",
       "27  <html>\\n\\t<head>\\n        <title>Edinburgh Sci...   \n",
       "28  <html>\\n\\t<head>\\n        <title>KyNa Twitter ...   \n",
       "29  <html>\\n\\t<head>\\n        <title>New Comm Biz ...   \n",
       "30  <html>\\n\\t<head>\\n        <title>Ticket Shack ...   \n",
       "31  <html>\\n<head>\\n<!-- test that deploys are wor...   \n",
       "\n",
       "                 WARC-TREC-ID  \n",
       "0   clueweb12-0000tw-00-00006  \n",
       "1   clueweb12-0000tw-00-00043  \n",
       "2   clueweb12-0000tw-00-00044  \n",
       "3   clueweb12-0000tw-00-00101  \n",
       "4   clueweb12-0000tw-00-00129  \n",
       "5   clueweb12-0000tw-00-00130  \n",
       "6   clueweb12-0000tw-00-00141  \n",
       "7   clueweb12-0000tw-00-00160  \n",
       "8   clueweb12-0000tw-00-00161  \n",
       "9   clueweb12-0000tw-00-00162  \n",
       "10  clueweb12-0000tw-00-00199  \n",
       "11  clueweb12-0000tw-00-00205  \n",
       "12  clueweb12-0000tw-00-00210  \n",
       "13  clueweb12-0000tw-00-00212  \n",
       "14  clueweb12-0000tw-00-00214  \n",
       "15  clueweb12-0000tw-00-00829  \n",
       "16  clueweb12-0000tw-00-00833  \n",
       "17  clueweb12-0000tw-00-00834  \n",
       "18  clueweb12-0000tw-00-00835  \n",
       "19  clueweb12-0000tw-00-00836  \n",
       "20  clueweb12-0000tw-00-00837  \n",
       "21  clueweb12-0000tw-00-00843  \n",
       "22  clueweb12-0000tw-00-00844  \n",
       "23  clueweb12-0000tw-00-00877  \n",
       "24  clueweb12-0000tw-00-00879  \n",
       "25  clueweb12-0000tw-00-00880  \n",
       "26  clueweb12-0000tw-00-00881  \n",
       "27  clueweb12-0000tw-00-00941  \n",
       "28  clueweb12-0000tw-00-00942  \n",
       "29  clueweb12-0000tw-00-00943  \n",
       "30  clueweb12-0000tw-00-00944  \n",
       "31  clueweb12-0000tw-00-00946  "
      ]
     },
     "execution_count": 18,
     "metadata": {},
     "output_type": "execute_result"
    }
   ],
   "source": [
    "warc_df"
   ]
  },
  {
   "cell_type": "code",
   "execution_count": 12,
   "metadata": {},
   "outputs": [],
   "source": [
    "stripped_webpages = [bsp.scrape_webpage(webpage) for webpage in warc_df['HTML_DOC']]"
   ]
  },
  {
   "attachments": {},
   "cell_type": "markdown",
   "metadata": {},
   "source": [
    "### 3. NLP Preprocessing"
   ]
  },
  {
   "cell_type": "code",
   "execution_count": 15,
   "metadata": {},
   "outputs": [],
   "source": [
    "spacy_processor = spacy.load(\"en_core_web_md\")\n",
    "# nlp.add_pipe(\"entityLinker\", last=True)  # entity linker\n",
    "# claucy.add_to_pipe(nlp)  # Open IE"
   ]
  },
  {
   "cell_type": "code",
   "execution_count": 16,
   "metadata": {},
   "outputs": [],
   "source": [
    "spacy_docs = [nlp_prep.get_nlp_doc(page, spacy_processor) for page in stripped_webpages]"
   ]
  },
  {
   "cell_type": "code",
   "execution_count": 19,
   "metadata": {},
   "outputs": [],
   "source": [
    "processed_pages = [nlp_prep.nlp_preprocessing(doc) for doc in spacy_docs]"
   ]
  },
  {
   "attachments": {},
   "cell_type": "markdown",
   "metadata": {},
   "source": [
    "### 4. Information extraction"
   ]
  },
  {
   "attachments": {},
   "cell_type": "markdown",
   "metadata": {},
   "source": [
    "##### 4.1 Named Entity Recognition"
   ]
  },
  {
   "cell_type": "code",
   "execution_count": 24,
   "metadata": {},
   "outputs": [],
   "source": [
    "ner_pages = [ner.detect_entities(doc) for doc in spacy_docs]"
   ]
  },
  {
   "attachments": {},
   "cell_type": "markdown",
   "metadata": {},
   "source": [
    "#### 4.2 Entity linking"
   ]
  },
  {
   "cell_type": "code",
   "execution_count": 29,
   "metadata": {},
   "outputs": [
    {
     "name": "stderr",
     "output_type": "stream",
     "text": [
      "Document:  12%|█▎        | 4/32 [00:11<01:13,  2.61s/it]Traceback (most recent call last):\n",
      "  File \"/opt/homebrew/lib/python3.10/site-packages/mwviews/api/pageviews.py\", line 146, in article_views\n",
      "    raise Exception(\n",
      "Exception: The pageview API returned nothing useful at: []\n"
     ]
    },
    {
     "name": "stdout",
     "output_type": "stream",
     "text": [
      "ERROR while fetching and parsing []\n"
     ]
    },
    {
     "name": "stderr",
     "output_type": "stream",
     "text": [
      "Document:  34%|███▍      | 11/32 [00:51<01:13,  3.48s/it]Traceback (most recent call last):\n",
      "  File \"/opt/homebrew/lib/python3.10/site-packages/mwviews/api/pageviews.py\", line 146, in article_views\n",
      "    raise Exception(\n",
      "Exception: The pageview API returned nothing useful at: []\n"
     ]
    },
    {
     "name": "stdout",
     "output_type": "stream",
     "text": [
      "ERROR while fetching and parsing []\n"
     ]
    },
    {
     "name": "stderr",
     "output_type": "stream",
     "text": [
      "Traceback (most recent call last):\n",
      "  File \"/opt/homebrew/lib/python3.10/site-packages/mwviews/api/pageviews.py\", line 146, in article_views\n",
      "    raise Exception(\n",
      "Exception: The pageview API returned nothing useful at: []\n"
     ]
    },
    {
     "name": "stdout",
     "output_type": "stream",
     "text": [
      "ERROR while fetching and parsing []\n"
     ]
    },
    {
     "name": "stderr",
     "output_type": "stream",
     "text": [
      "Traceback (most recent call last):\n",
      "  File \"/opt/homebrew/lib/python3.10/site-packages/mwviews/api/pageviews.py\", line 146, in article_views\n",
      "    raise Exception(\n",
      "Exception: The pageview API returned nothing useful at: []\n"
     ]
    },
    {
     "name": "stdout",
     "output_type": "stream",
     "text": [
      "ERROR while fetching and parsing []\n"
     ]
    },
    {
     "name": "stderr",
     "output_type": "stream",
     "text": [
      "Traceback (most recent call last):\n",
      "  File \"/opt/homebrew/lib/python3.10/site-packages/mwviews/api/pageviews.py\", line 146, in article_views\n",
      "    raise Exception(\n",
      "Exception: The pageview API returned nothing useful at: []\n"
     ]
    },
    {
     "name": "stdout",
     "output_type": "stream",
     "text": [
      "ERROR while fetching and parsing []\n"
     ]
    },
    {
     "name": "stderr",
     "output_type": "stream",
     "text": [
      "Traceback (most recent call last):\n",
      "  File \"/opt/homebrew/lib/python3.10/site-packages/mwviews/api/pageviews.py\", line 146, in article_views\n",
      "    raise Exception(\n",
      "Exception: The pageview API returned nothing useful at: []\n"
     ]
    },
    {
     "name": "stdout",
     "output_type": "stream",
     "text": [
      "ERROR while fetching and parsing []\n"
     ]
    },
    {
     "name": "stderr",
     "output_type": "stream",
     "text": [
      "Traceback (most recent call last):\n",
      "  File \"/opt/homebrew/lib/python3.10/site-packages/mwviews/api/pageviews.py\", line 146, in article_views\n",
      "    raise Exception(\n",
      "Exception: The pageview API returned nothing useful at: []\n"
     ]
    },
    {
     "name": "stdout",
     "output_type": "stream",
     "text": [
      "ERROR while fetching and parsing []\n"
     ]
    },
    {
     "name": "stderr",
     "output_type": "stream",
     "text": [
      "Document:  50%|█████     | 16/32 [02:54<02:55, 10.99s/it]Traceback (most recent call last):\n",
      "  File \"/opt/homebrew/lib/python3.10/site-packages/mwviews/api/pageviews.py\", line 146, in article_views\n",
      "    raise Exception(\n",
      "Exception: The pageview API returned nothing useful at: []\n"
     ]
    },
    {
     "name": "stdout",
     "output_type": "stream",
     "text": [
      "ERROR while fetching and parsing []\n"
     ]
    },
    {
     "name": "stderr",
     "output_type": "stream",
     "text": [
      "Traceback (most recent call last):\n",
      "  File \"/opt/homebrew/lib/python3.10/site-packages/mwviews/api/pageviews.py\", line 146, in article_views\n",
      "    raise Exception(\n",
      "Exception: The pageview API returned nothing useful at: []\n"
     ]
    },
    {
     "name": "stdout",
     "output_type": "stream",
     "text": [
      "ERROR while fetching and parsing []\n"
     ]
    },
    {
     "name": "stderr",
     "output_type": "stream",
     "text": [
      "Traceback (most recent call last):\n",
      "  File \"/opt/homebrew/lib/python3.10/site-packages/mwviews/api/pageviews.py\", line 146, in article_views\n",
      "    raise Exception(\n",
      "Exception: The pageview API returned nothing useful at: []\n"
     ]
    },
    {
     "name": "stdout",
     "output_type": "stream",
     "text": [
      "ERROR while fetching and parsing []\n"
     ]
    },
    {
     "name": "stderr",
     "output_type": "stream",
     "text": [
      "Document:  53%|█████▎    | 17/32 [03:10<03:06, 12.43s/it]Traceback (most recent call last):\n",
      "  File \"/opt/homebrew/lib/python3.10/site-packages/mwviews/api/pageviews.py\", line 146, in article_views\n",
      "    raise Exception(\n",
      "Exception: The pageview API returned nothing useful at: []\n"
     ]
    },
    {
     "name": "stdout",
     "output_type": "stream",
     "text": [
      "ERROR while fetching and parsing []\n"
     ]
    },
    {
     "name": "stderr",
     "output_type": "stream",
     "text": [
      "Traceback (most recent call last):\n",
      "  File \"/opt/homebrew/lib/python3.10/site-packages/mwviews/api/pageviews.py\", line 146, in article_views\n",
      "    raise Exception(\n",
      "Exception: The pageview API returned nothing useful at: []\n"
     ]
    },
    {
     "name": "stdout",
     "output_type": "stream",
     "text": [
      "ERROR while fetching and parsing []\n"
     ]
    },
    {
     "name": "stderr",
     "output_type": "stream",
     "text": [
      "Traceback (most recent call last):\n",
      "  File \"/opt/homebrew/lib/python3.10/site-packages/mwviews/api/pageviews.py\", line 146, in article_views\n",
      "    raise Exception(\n",
      "Exception: The pageview API returned nothing useful at: []\n"
     ]
    },
    {
     "name": "stdout",
     "output_type": "stream",
     "text": [
      "ERROR while fetching and parsing []\n"
     ]
    },
    {
     "name": "stderr",
     "output_type": "stream",
     "text": [
      "Traceback (most recent call last):\n",
      "  File \"/opt/homebrew/lib/python3.10/site-packages/mwviews/api/pageviews.py\", line 146, in article_views\n",
      "    raise Exception(\n",
      "Exception: The pageview API returned nothing useful at: []\n"
     ]
    },
    {
     "name": "stdout",
     "output_type": "stream",
     "text": [
      "ERROR while fetching and parsing []\n"
     ]
    },
    {
     "name": "stderr",
     "output_type": "stream",
     "text": [
      "Traceback (most recent call last):\n",
      "  File \"/opt/homebrew/lib/python3.10/site-packages/mwviews/api/pageviews.py\", line 146, in article_views\n",
      "    raise Exception(\n",
      "Exception: The pageview API returned nothing useful at: []\n"
     ]
    },
    {
     "name": "stdout",
     "output_type": "stream",
     "text": [
      "ERROR while fetching and parsing []\n"
     ]
    },
    {
     "name": "stderr",
     "output_type": "stream",
     "text": [
      "Document:  59%|█████▉    | 19/32 [03:42<03:05, 14.29s/it]Traceback (most recent call last):\n",
      "  File \"/opt/homebrew/lib/python3.10/site-packages/mwviews/api/pageviews.py\", line 146, in article_views\n",
      "    raise Exception(\n",
      "Exception: The pageview API returned nothing useful at: []\n"
     ]
    },
    {
     "name": "stdout",
     "output_type": "stream",
     "text": [
      "ERROR while fetching and parsing []\n"
     ]
    },
    {
     "name": "stderr",
     "output_type": "stream",
     "text": [
      "Traceback (most recent call last):\n",
      "  File \"/opt/homebrew/lib/python3.10/site-packages/mwviews/api/pageviews.py\", line 146, in article_views\n",
      "    raise Exception(\n",
      "Exception: The pageview API returned nothing useful at: []\n"
     ]
    },
    {
     "name": "stdout",
     "output_type": "stream",
     "text": [
      "ERROR while fetching and parsing []\n"
     ]
    },
    {
     "name": "stderr",
     "output_type": "stream",
     "text": [
      "Traceback (most recent call last):\n",
      "  File \"/opt/homebrew/lib/python3.10/site-packages/mwviews/api/pageviews.py\", line 146, in article_views\n",
      "    raise Exception(\n",
      "Exception: The pageview API returned nothing useful at: []\n"
     ]
    },
    {
     "name": "stdout",
     "output_type": "stream",
     "text": [
      "ERROR while fetching and parsing []\n"
     ]
    },
    {
     "name": "stderr",
     "output_type": "stream",
     "text": [
      "Traceback (most recent call last):\n",
      "  File \"/opt/homebrew/lib/python3.10/site-packages/mwviews/api/pageviews.py\", line 146, in article_views\n",
      "    raise Exception(\n",
      "Exception: The pageview API returned nothing useful at: []\n"
     ]
    },
    {
     "name": "stdout",
     "output_type": "stream",
     "text": [
      "ERROR while fetching and parsing []\n"
     ]
    },
    {
     "name": "stderr",
     "output_type": "stream",
     "text": [
      "Traceback (most recent call last):\n",
      "  File \"/opt/homebrew/lib/python3.10/site-packages/mwviews/api/pageviews.py\", line 146, in article_views\n",
      "    raise Exception(\n",
      "Exception: The pageview API returned nothing useful at: []\n"
     ]
    },
    {
     "name": "stdout",
     "output_type": "stream",
     "text": [
      "ERROR while fetching and parsing []\n"
     ]
    },
    {
     "name": "stderr",
     "output_type": "stream",
     "text": [
      "Traceback (most recent call last):\n",
      "  File \"/opt/homebrew/lib/python3.10/site-packages/mwviews/api/pageviews.py\", line 146, in article_views\n",
      "    raise Exception(\n",
      "Exception: The pageview API returned nothing useful at: []\n"
     ]
    },
    {
     "name": "stdout",
     "output_type": "stream",
     "text": [
      "ERROR while fetching and parsing []\n"
     ]
    },
    {
     "name": "stderr",
     "output_type": "stream",
     "text": [
      "Traceback (most recent call last):\n",
      "  File \"/opt/homebrew/lib/python3.10/site-packages/mwviews/api/pageviews.py\", line 146, in article_views\n",
      "    raise Exception(\n",
      "Exception: The pageview API returned nothing useful at: []\n"
     ]
    },
    {
     "name": "stdout",
     "output_type": "stream",
     "text": [
      "ERROR while fetching and parsing []\n"
     ]
    },
    {
     "name": "stderr",
     "output_type": "stream",
     "text": [
      "Document:  62%|██████▎   | 20/32 [04:01<03:06, 15.57s/it]Traceback (most recent call last):\n",
      "  File \"/opt/homebrew/lib/python3.10/site-packages/mwviews/api/pageviews.py\", line 146, in article_views\n",
      "    raise Exception(\n",
      "Exception: The pageview API returned nothing useful at: []\n",
      "Document:  75%|███████▌  | 24/32 [04:02<00:47,  5.93s/it]"
     ]
    },
    {
     "name": "stdout",
     "output_type": "stream",
     "text": [
      "ERROR while fetching and parsing []\n"
     ]
    },
    {
     "name": "stderr",
     "output_type": "stream",
     "text": [
      "Document: 100%|██████████| 32/32 [04:09<00:00,  7.81s/it]\n"
     ]
    }
   ],
   "source": [
    "linked_pages = []\n",
    "for document in tqdm(ner_pages, desc=\"Document\"):\n",
    "    new_doc = document.copy()\n",
    "    entities_to_link = document['label'].to_list()\n",
    "    linked_entities = []\n",
    "    for entity in tqdm(entities_to_link, desc=\"Entity\", leave=False):\n",
    "        linked_entities.append(el.link_entity(entity))\n",
    "    new_doc = pd.concat([new_doc, pd.DataFrame(linked_entities)], axis=1)\n",
    "    linked_pages.append(new_doc)"
   ]
  },
  {
   "cell_type": "code",
   "execution_count": 30,
   "metadata": {},
   "outputs": [
    {
     "data": {
      "text/plain": [
       "[]"
      ]
     },
     "execution_count": 30,
     "metadata": {},
     "output_type": "execute_result"
    }
   ],
   "source": []
  },
  {
   "attachments": {},
   "cell_type": "markdown",
   "metadata": {},
   "source": [
    "##### 4.2 Relation Extraction"
   ]
  },
  {
   "cell_type": "code",
   "execution_count": 23,
   "metadata": {},
   "outputs": [
    {
     "name": "stdout",
     "output_type": "stream",
     "text": [
      "{}\n",
      "(Donald Trump's, Tuesday, Manhattan, U.S., two, the Trump Organization, 17, the second day, the Trump Organization, New York, three years, Trump, the Trump Organization, up to $1.6 million, US, Trump, Democrats, Trump Organization, Alan Futerfas, Trump, Washington, Florida, Mar-a-Lago, 2020, Justice Department, Fulton County, Georgia, Trump, Trump, the White House, last month, Holocaust, Kanye West, Trump, Constitution, Manhattan, the Trump Organization's, Allen Weisselberg, Weisselberg, five-month, the Trump Organization, Weisselberg, Jeffrey McConney, Trump Organization, Weisselberg, Weisselberg, month-long, Trump, Weisselberg, Trump, Weisselberg, Trump, Greatest Political Witch Hunt, New York City, Trump, Weisselberg, Weisselberg, RELIANCE, Manhattan, Trump, Weisselberg, $1.7 million, US, McConney, W-2, Joshua Steinglass, Trump, Trump, Weisselberg, Trump, Trump, Steinglass, Trump, Manhattan, Alvin Bragg, Democrat, January, Bragg, Trump, District, Cyrus Vance Jr., Trump, New York, Letitia James', Trump, two, Republican, years ago, last year, Vance, Trump, Bragg, Monday, CBC News, first, CBC/Radio-Canada's, CBC, CBC, CBC, our Submission Guidelines, Audience Relations, CBC P.O. Box 500 Station A, Toronto, ON  Canada, 1E6, Canada, 1-866, CBC, Canadians, CBC, CBC Gem)\n"
     ]
    }
   ],
   "source": [
    "relations = [cre.extract_relations(doc) for doc in spacy_docs]"
   ]
  },
  {
   "cell_type": "code",
   "execution_count": 32,
   "metadata": {},
   "outputs": [
    {
     "data": {
      "text/html": [
       "<div>\n",
       "<style scoped>\n",
       "    .dataframe tbody tr th:only-of-type {\n",
       "        vertical-align: middle;\n",
       "    }\n",
       "\n",
       "    .dataframe tbody tr th {\n",
       "        vertical-align: top;\n",
       "    }\n",
       "\n",
       "    .dataframe thead th {\n",
       "        text-align: right;\n",
       "    }\n",
       "</style>\n",
       "<table border=\"1\" class=\"dataframe\">\n",
       "  <thead>\n",
       "    <tr style=\"text-align: right;\">\n",
       "      <th></th>\n",
       "      <th>relation</th>\n",
       "      <th>object</th>\n",
       "      <th>subject</th>\n",
       "    </tr>\n",
       "  </thead>\n",
       "  <tbody>\n",
       "    <tr>\n",
       "      <th>0</th>\n",
       "      <td>convicted of</td>\n",
       "      <td>Donald Trump's</td>\n",
       "      <td>Tuesday</td>\n",
       "    </tr>\n",
       "    <tr>\n",
       "      <th>1</th>\n",
       "      <td>brought by the</td>\n",
       "      <td>Tuesday</td>\n",
       "      <td>Manhattan</td>\n",
       "    </tr>\n",
       "    <tr>\n",
       "      <th>2</th>\n",
       "      <td>found in the</td>\n",
       "      <td>Trump</td>\n",
       "      <td>Constitution</td>\n",
       "    </tr>\n",
       "    <tr>\n",
       "      <th>3</th>\n",
       "      <td>including</td>\n",
       "      <td>17</td>\n",
       "      <td>the second day</td>\n",
       "    </tr>\n",
       "    <tr>\n",
       "      <th>4</th>\n",
       "      <td>falsifying</td>\n",
       "      <td>17</td>\n",
       "      <td>the second day</td>\n",
       "    </tr>\n",
       "    <tr>\n",
       "      <th>...</th>\n",
       "      <td>...</td>\n",
       "      <td>...</td>\n",
       "      <td>...</td>\n",
       "    </tr>\n",
       "    <tr>\n",
       "      <th>140</th>\n",
       "      <td>Join the</td>\n",
       "      <td>our Submission Guidelines</td>\n",
       "      <td>Audience Relations</td>\n",
       "    </tr>\n",
       "    <tr>\n",
       "      <th>141</th>\n",
       "      <td>create a</td>\n",
       "      <td>CBC</td>\n",
       "      <td>Canadians</td>\n",
       "    </tr>\n",
       "    <tr>\n",
       "      <th>142</th>\n",
       "      <td>including</td>\n",
       "      <td>17</td>\n",
       "      <td>the second day</td>\n",
       "    </tr>\n",
       "    <tr>\n",
       "      <th>143</th>\n",
       "      <td>Described</td>\n",
       "      <td>Canadians</td>\n",
       "      <td>CBC</td>\n",
       "    </tr>\n",
       "    <tr>\n",
       "      <th>144</th>\n",
       "      <td>offered on</td>\n",
       "      <td>CBC</td>\n",
       "      <td>CBC Gem</td>\n",
       "    </tr>\n",
       "  </tbody>\n",
       "</table>\n",
       "<p>145 rows × 3 columns</p>\n",
       "</div>"
      ],
      "text/plain": [
       "           relation                     object             subject\n",
       "0      convicted of             Donald Trump's             Tuesday\n",
       "1    brought by the                    Tuesday           Manhattan\n",
       "2      found in the                      Trump        Constitution\n",
       "3         including                         17      the second day\n",
       "4        falsifying                         17      the second day\n",
       "..              ...                        ...                 ...\n",
       "140        Join the  our Submission Guidelines  Audience Relations\n",
       "141        create a                        CBC           Canadians\n",
       "142       including                         17      the second day\n",
       "143       Described                  Canadians                 CBC\n",
       "144      offered on                        CBC             CBC Gem\n",
       "\n",
       "[145 rows x 3 columns]"
      ]
     },
     "execution_count": 32,
     "metadata": {},
     "output_type": "execute_result"
    }
   ],
   "source": [
    "# Turn list of tuples into dataframe\n",
    "relations_df = pd.DataFrame(relations[0], columns=['relation', 'object', 'subject'])\n",
    "relations_df['object'] = relations_df['object'].apply(lambda x: x.text)\n",
    "relations_df['subject'] = relations_df['subject'].apply(lambda x: x.text)"
   ]
  },
  {
   "cell_type": "code",
   "execution_count": 33,
   "metadata": {},
   "outputs": [
    {
     "name": "stdout",
     "output_type": "stream",
     "text": [
      "Linking object entities\n",
      "huggingface/tokenizers: The current process just got forked, after parallelism has already been used. Disabling parallelism to avoid deadlocks...\n",
      "To disable this warning, you can either:\n",
      "\t- Avoid using `tokenizers` before the fork if possible\n",
      "\t- Explicitly set the environment variable TOKENIZERS_PARALLELISM=(true | false)\n"
     ]
    },
    {
     "name": "stderr",
     "output_type": "stream",
     "text": [
      "100%|██████████| 145/145 [01:22<00:00,  1.75it/s]\n"
     ]
    },
    {
     "name": "stdout",
     "output_type": "stream",
     "text": [
      "Linking subject entities\n"
     ]
    },
    {
     "name": "stderr",
     "output_type": "stream",
     "text": [
      "100%|██████████| 145/145 [01:25<00:00,  1.70it/s]\n"
     ]
    }
   ],
   "source": [
    "object_entities = relations_df['object'].to_list()\n",
    "subject_entities = relations_df['subject'].to_list()\n",
    "obj_ents, subj_ents = [], []\n",
    "print(f'Linking object entities')\n",
    "for entity in tqdm(object_entities):\n",
    "    obj_ents.append(el.link_entity(entity))\n",
    "print(f'Linking subject entities')\n",
    "for entity in tqdm(subject_entities):\n",
    "    subj_ents.append(el.link_entity(entity))"
   ]
  },
  {
   "attachments": {},
   "cell_type": "markdown",
   "metadata": {},
   "source": [
    "Making sure all entities in the relations appear in the found entities"
   ]
  },
  {
   "cell_type": "code",
   "execution_count": 36,
   "metadata": {},
   "outputs": [
    {
     "data": {
      "text/html": [
       "<div>\n",
       "<style scoped>\n",
       "    .dataframe tbody tr th:only-of-type {\n",
       "        vertical-align: middle;\n",
       "    }\n",
       "\n",
       "    .dataframe tbody tr th {\n",
       "        vertical-align: top;\n",
       "    }\n",
       "\n",
       "    .dataframe thead th {\n",
       "        text-align: right;\n",
       "    }\n",
       "</style>\n",
       "<table border=\"1\" class=\"dataframe\">\n",
       "  <thead>\n",
       "    <tr style=\"text-align: right;\">\n",
       "      <th></th>\n",
       "      <th>relation</th>\n",
       "      <th>object</th>\n",
       "      <th>subject</th>\n",
       "      <th>object_wiki</th>\n",
       "      <th>subject_wiki</th>\n",
       "    </tr>\n",
       "  </thead>\n",
       "  <tbody>\n",
       "    <tr>\n",
       "      <th>0</th>\n",
       "      <td>convicted of</td>\n",
       "      <td>Donald Trump's</td>\n",
       "      <td>Tuesday</td>\n",
       "      <td>https://en.wikipedia.org/wiki/Donald_Trump</td>\n",
       "      <td>https://en.wikipedia.org/wiki/Tuesday_Weld</td>\n",
       "    </tr>\n",
       "    <tr>\n",
       "      <th>1</th>\n",
       "      <td>brought by the</td>\n",
       "      <td>Tuesday</td>\n",
       "      <td>Manhattan</td>\n",
       "      <td>https://en.wikipedia.org/wiki/Tuesday_Weld</td>\n",
       "      <td>https://en.wikipedia.org/wiki/New_York_City</td>\n",
       "    </tr>\n",
       "    <tr>\n",
       "      <th>2</th>\n",
       "      <td>found in the</td>\n",
       "      <td>Trump</td>\n",
       "      <td>Constitution</td>\n",
       "      <td>https://en.wikipedia.org/wiki/Donald_Trump</td>\n",
       "      <td>https://en.wikipedia.org/wiki/U.S._state</td>\n",
       "    </tr>\n",
       "    <tr>\n",
       "      <th>3</th>\n",
       "      <td>including</td>\n",
       "      <td>17</td>\n",
       "      <td>the second day</td>\n",
       "      <td>https://en.wikipedia.org/wiki/1</td>\n",
       "      <td>https://en.wikipedia.org/wiki/Battle_of_Thermo...</td>\n",
       "    </tr>\n",
       "    <tr>\n",
       "      <th>4</th>\n",
       "      <td>falsifying</td>\n",
       "      <td>17</td>\n",
       "      <td>the second day</td>\n",
       "      <td>https://en.wikipedia.org/wiki/1</td>\n",
       "      <td>https://en.wikipedia.org/wiki/Battle_of_Thermo...</td>\n",
       "    </tr>\n",
       "    <tr>\n",
       "      <th>...</th>\n",
       "      <td>...</td>\n",
       "      <td>...</td>\n",
       "      <td>...</td>\n",
       "      <td>...</td>\n",
       "      <td>...</td>\n",
       "    </tr>\n",
       "    <tr>\n",
       "      <th>140</th>\n",
       "      <td>Join the</td>\n",
       "      <td>our Submission Guidelines</td>\n",
       "      <td>Audience Relations</td>\n",
       "      <td>https://en.wikipedia.org/wiki/BDSM</td>\n",
       "      <td>https://en.wikipedia.org/wiki/Public_relations</td>\n",
       "    </tr>\n",
       "    <tr>\n",
       "      <th>141</th>\n",
       "      <td>create a</td>\n",
       "      <td>CBC</td>\n",
       "      <td>Canadians</td>\n",
       "      <td>https://en.wikipedia.org/wiki/Columbia_Pictures</td>\n",
       "      <td>https://en.wikipedia.org/wiki/Canada</td>\n",
       "    </tr>\n",
       "    <tr>\n",
       "      <th>142</th>\n",
       "      <td>including</td>\n",
       "      <td>17</td>\n",
       "      <td>the second day</td>\n",
       "      <td>https://en.wikipedia.org/wiki/1</td>\n",
       "      <td>https://en.wikipedia.org/wiki/Battle_of_Thermo...</td>\n",
       "    </tr>\n",
       "    <tr>\n",
       "      <th>143</th>\n",
       "      <td>Described</td>\n",
       "      <td>Canadians</td>\n",
       "      <td>CBC</td>\n",
       "      <td>https://en.wikipedia.org/wiki/Canada</td>\n",
       "      <td>https://en.wikipedia.org/wiki/Columbia_Pictures</td>\n",
       "    </tr>\n",
       "    <tr>\n",
       "      <th>144</th>\n",
       "      <td>offered on</td>\n",
       "      <td>CBC</td>\n",
       "      <td>CBC Gem</td>\n",
       "      <td>https://en.wikipedia.org/wiki/Columbia_Pictures</td>\n",
       "      <td>https://en.wikipedia.org/wiki/Ghosts_(2019_Bri...</td>\n",
       "    </tr>\n",
       "  </tbody>\n",
       "</table>\n",
       "<p>145 rows × 5 columns</p>\n",
       "</div>"
      ],
      "text/plain": [
       "           relation                     object             subject  \\\n",
       "0      convicted of             Donald Trump's             Tuesday   \n",
       "1    brought by the                    Tuesday           Manhattan   \n",
       "2      found in the                      Trump        Constitution   \n",
       "3         including                         17      the second day   \n",
       "4        falsifying                         17      the second day   \n",
       "..              ...                        ...                 ...   \n",
       "140        Join the  our Submission Guidelines  Audience Relations   \n",
       "141        create a                        CBC           Canadians   \n",
       "142       including                         17      the second day   \n",
       "143       Described                  Canadians                 CBC   \n",
       "144      offered on                        CBC             CBC Gem   \n",
       "\n",
       "                                         object_wiki  \\\n",
       "0         https://en.wikipedia.org/wiki/Donald_Trump   \n",
       "1         https://en.wikipedia.org/wiki/Tuesday_Weld   \n",
       "2         https://en.wikipedia.org/wiki/Donald_Trump   \n",
       "3                    https://en.wikipedia.org/wiki/1   \n",
       "4                    https://en.wikipedia.org/wiki/1   \n",
       "..                                               ...   \n",
       "140               https://en.wikipedia.org/wiki/BDSM   \n",
       "141  https://en.wikipedia.org/wiki/Columbia_Pictures   \n",
       "142                  https://en.wikipedia.org/wiki/1   \n",
       "143             https://en.wikipedia.org/wiki/Canada   \n",
       "144  https://en.wikipedia.org/wiki/Columbia_Pictures   \n",
       "\n",
       "                                          subject_wiki  \n",
       "0           https://en.wikipedia.org/wiki/Tuesday_Weld  \n",
       "1          https://en.wikipedia.org/wiki/New_York_City  \n",
       "2             https://en.wikipedia.org/wiki/U.S._state  \n",
       "3    https://en.wikipedia.org/wiki/Battle_of_Thermo...  \n",
       "4    https://en.wikipedia.org/wiki/Battle_of_Thermo...  \n",
       "..                                                 ...  \n",
       "140     https://en.wikipedia.org/wiki/Public_relations  \n",
       "141               https://en.wikipedia.org/wiki/Canada  \n",
       "142  https://en.wikipedia.org/wiki/Battle_of_Thermo...  \n",
       "143    https://en.wikipedia.org/wiki/Columbia_Pictures  \n",
       "144  https://en.wikipedia.org/wiki/Ghosts_(2019_Bri...  \n",
       "\n",
       "[145 rows x 5 columns]"
      ]
     },
     "execution_count": 36,
     "metadata": {},
     "output_type": "execute_result"
    }
   ],
   "source": [
    "relations_df['object_wiki'] = obj_ents\n",
    "relations_df['subject_wiki'] = subj_ents\n",
    "relations_df"
   ]
  },
  {
   "cell_type": "code",
   "execution_count": 54,
   "metadata": {},
   "outputs": [
    {
     "data": {
      "text/html": [
       "<div>\n",
       "<style scoped>\n",
       "    .dataframe tbody tr th:only-of-type {\n",
       "        vertical-align: middle;\n",
       "    }\n",
       "\n",
       "    .dataframe tbody tr th {\n",
       "        vertical-align: top;\n",
       "    }\n",
       "\n",
       "    .dataframe thead th {\n",
       "        text-align: right;\n",
       "    }\n",
       "</style>\n",
       "<table border=\"1\" class=\"dataframe\">\n",
       "  <thead>\n",
       "    <tr style=\"text-align: right;\">\n",
       "      <th></th>\n",
       "      <th>relation</th>\n",
       "      <th>object</th>\n",
       "      <th>subject</th>\n",
       "      <th>object_wiki</th>\n",
       "      <th>subject_wiki</th>\n",
       "    </tr>\n",
       "  </thead>\n",
       "  <tbody>\n",
       "    <tr>\n",
       "      <th>0</th>\n",
       "      <td>convicted of</td>\n",
       "      <td>Donald Trump's</td>\n",
       "      <td>Tuesday</td>\n",
       "      <td>https://en.wikipedia.org/wiki/Donald_Trump</td>\n",
       "      <td>https://en.wikipedia.org/wiki/Tuesday_Weld</td>\n",
       "    </tr>\n",
       "    <tr>\n",
       "      <th>1</th>\n",
       "      <td>brought by the</td>\n",
       "      <td>Tuesday</td>\n",
       "      <td>Manhattan</td>\n",
       "      <td>https://en.wikipedia.org/wiki/Tuesday_Weld</td>\n",
       "      <td>https://en.wikipedia.org/wiki/New_York_City</td>\n",
       "    </tr>\n",
       "    <tr>\n",
       "      <th>2</th>\n",
       "      <td>found in the</td>\n",
       "      <td>Trump</td>\n",
       "      <td>Constitution</td>\n",
       "      <td>https://en.wikipedia.org/wiki/Donald_Trump</td>\n",
       "      <td>https://en.wikipedia.org/wiki/U.S._state</td>\n",
       "    </tr>\n",
       "    <tr>\n",
       "      <th>3</th>\n",
       "      <td>including</td>\n",
       "      <td>17</td>\n",
       "      <td>the second day</td>\n",
       "      <td>https://en.wikipedia.org/wiki/1</td>\n",
       "      <td>https://en.wikipedia.org/wiki/Battle_of_Thermo...</td>\n",
       "    </tr>\n",
       "    <tr>\n",
       "      <th>4</th>\n",
       "      <td>falsifying</td>\n",
       "      <td>17</td>\n",
       "      <td>the second day</td>\n",
       "      <td>https://en.wikipedia.org/wiki/1</td>\n",
       "      <td>https://en.wikipedia.org/wiki/Battle_of_Thermo...</td>\n",
       "    </tr>\n",
       "    <tr>\n",
       "      <th>...</th>\n",
       "      <td>...</td>\n",
       "      <td>...</td>\n",
       "      <td>...</td>\n",
       "      <td>...</td>\n",
       "      <td>...</td>\n",
       "    </tr>\n",
       "    <tr>\n",
       "      <th>140</th>\n",
       "      <td>Join the</td>\n",
       "      <td>our Submission Guidelines</td>\n",
       "      <td>Audience Relations</td>\n",
       "      <td>https://en.wikipedia.org/wiki/BDSM</td>\n",
       "      <td>https://en.wikipedia.org/wiki/Public_relations</td>\n",
       "    </tr>\n",
       "    <tr>\n",
       "      <th>141</th>\n",
       "      <td>create a</td>\n",
       "      <td>CBC</td>\n",
       "      <td>Canadians</td>\n",
       "      <td>https://en.wikipedia.org/wiki/Columbia_Pictures</td>\n",
       "      <td>https://en.wikipedia.org/wiki/Canada</td>\n",
       "    </tr>\n",
       "    <tr>\n",
       "      <th>142</th>\n",
       "      <td>including</td>\n",
       "      <td>17</td>\n",
       "      <td>the second day</td>\n",
       "      <td>https://en.wikipedia.org/wiki/1</td>\n",
       "      <td>https://en.wikipedia.org/wiki/Battle_of_Thermo...</td>\n",
       "    </tr>\n",
       "    <tr>\n",
       "      <th>143</th>\n",
       "      <td>Described</td>\n",
       "      <td>Canadians</td>\n",
       "      <td>CBC</td>\n",
       "      <td>https://en.wikipedia.org/wiki/Canada</td>\n",
       "      <td>https://en.wikipedia.org/wiki/Columbia_Pictures</td>\n",
       "    </tr>\n",
       "    <tr>\n",
       "      <th>144</th>\n",
       "      <td>offered on</td>\n",
       "      <td>CBC</td>\n",
       "      <td>CBC Gem</td>\n",
       "      <td>https://en.wikipedia.org/wiki/Columbia_Pictures</td>\n",
       "      <td>https://en.wikipedia.org/wiki/Ghosts_(2019_Bri...</td>\n",
       "    </tr>\n",
       "  </tbody>\n",
       "</table>\n",
       "<p>143 rows × 5 columns</p>\n",
       "</div>"
      ],
      "text/plain": [
       "           relation                     object             subject  \\\n",
       "0      convicted of             Donald Trump's             Tuesday   \n",
       "1    brought by the                    Tuesday           Manhattan   \n",
       "2      found in the                      Trump        Constitution   \n",
       "3         including                         17      the second day   \n",
       "4        falsifying                         17      the second day   \n",
       "..              ...                        ...                 ...   \n",
       "140        Join the  our Submission Guidelines  Audience Relations   \n",
       "141        create a                        CBC           Canadians   \n",
       "142       including                         17      the second day   \n",
       "143       Described                  Canadians                 CBC   \n",
       "144      offered on                        CBC             CBC Gem   \n",
       "\n",
       "                                         object_wiki  \\\n",
       "0         https://en.wikipedia.org/wiki/Donald_Trump   \n",
       "1         https://en.wikipedia.org/wiki/Tuesday_Weld   \n",
       "2         https://en.wikipedia.org/wiki/Donald_Trump   \n",
       "3                    https://en.wikipedia.org/wiki/1   \n",
       "4                    https://en.wikipedia.org/wiki/1   \n",
       "..                                               ...   \n",
       "140               https://en.wikipedia.org/wiki/BDSM   \n",
       "141  https://en.wikipedia.org/wiki/Columbia_Pictures   \n",
       "142                  https://en.wikipedia.org/wiki/1   \n",
       "143             https://en.wikipedia.org/wiki/Canada   \n",
       "144  https://en.wikipedia.org/wiki/Columbia_Pictures   \n",
       "\n",
       "                                          subject_wiki  \n",
       "0           https://en.wikipedia.org/wiki/Tuesday_Weld  \n",
       "1          https://en.wikipedia.org/wiki/New_York_City  \n",
       "2             https://en.wikipedia.org/wiki/U.S._state  \n",
       "3    https://en.wikipedia.org/wiki/Battle_of_Thermo...  \n",
       "4    https://en.wikipedia.org/wiki/Battle_of_Thermo...  \n",
       "..                                                 ...  \n",
       "140     https://en.wikipedia.org/wiki/Public_relations  \n",
       "141               https://en.wikipedia.org/wiki/Canada  \n",
       "142  https://en.wikipedia.org/wiki/Battle_of_Thermo...  \n",
       "143    https://en.wikipedia.org/wiki/Columbia_Pictures  \n",
       "144  https://en.wikipedia.org/wiki/Ghosts_(2019_Bri...  \n",
       "\n",
       "[143 rows x 5 columns]"
      ]
     },
     "execution_count": 54,
     "metadata": {},
     "output_type": "execute_result"
    }
   ],
   "source": [
    "relations_df.loc[(relations_df['object_wiki'].isin(linked_entities)) & (relations_df['subject_wiki'].isin(linked_entities)) , :]"
   ]
  },
  {
   "cell_type": "code",
   "execution_count": null,
   "metadata": {},
   "outputs": [],
   "source": []
  },
  {
   "attachments": {},
   "cell_type": "markdown",
   "metadata": {},
   "source": [
    "### 5. Linking"
   ]
  }
 ],
 "metadata": {
  "kernelspec": {
   "display_name": "Python 3",
   "language": "python",
   "name": "python3"
  },
  "language_info": {
   "codemirror_mode": {
    "name": "ipython",
    "version": 3
   },
   "file_extension": ".py",
   "mimetype": "text/x-python",
   "name": "python",
   "nbconvert_exporter": "python",
   "pygments_lexer": "ipython3",
   "version": "3.10.4"
  },
  "orig_nbformat": 4,
  "vscode": {
   "interpreter": {
    "hash": "b0fa6594d8f4cbf19f97940f81e996739fb7646882a419484c72d19e05852a7e"
   }
  }
 },
 "nbformat": 4,
 "nbformat_minor": 2
}
