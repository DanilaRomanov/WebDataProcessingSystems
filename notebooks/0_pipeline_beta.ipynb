{
 "cells": [
  {
   "attachments": {},
   "cell_type": "markdown",
   "metadata": {},
   "source": [
    "# Full pipeline in action (beta version)\n",
    "----------\n",
    "\n",
    "This notebook contains a set up of the full pipeline\n",
    "\n",
    "**Inputs:**\n",
    "\n",
    "- \n",
    "**Outputs:**\n",
    "- results.csv (triple per line)\n",
    "\n",
    "##### Table of contents:\n",
    "1. Setup\n",
    "2. Scraping\n",
    "3. NLP Preprocessing\n",
    "4. Information extraction\n",
    "    - Named entity recognition\n",
    "    - Entity linking\n",
    "    - Relation extraction Linking\n",
    "    - Relation linking\n",
    "----------"
   ]
  },
  {
   "attachments": {},
   "cell_type": "markdown",
   "metadata": {},
   "source": [
    "### 1. Setup"
   ]
  },
  {
   "attachments": {},
   "cell_type": "markdown",
   "metadata": {},
   "source": [
    "##### Imports, settings & constants"
   ]
  },
  {
   "cell_type": "code",
   "execution_count": 3,
   "metadata": {},
   "outputs": [
    {
     "ename": "OSError",
     "evalue": "[E050] Can't find model 'en_core_web_trf'. It doesn't seem to be a Python package or a valid path to a data directory.",
     "output_type": "error",
     "traceback": [
      "\u001B[0;31m---------------------------------------------------------------------------\u001B[0m",
      "\u001B[0;31mOSError\u001B[0m                                   Traceback (most recent call last)",
      "\u001B[0;32m/var/folders/3x/7rk6fk3d5hj2c48s5xn1v42m0000gn/T/ipykernel_11350/2938480877.py\u001B[0m in \u001B[0;36m<module>\u001B[0;34m\u001B[0m\n\u001B[1;32m     16\u001B[0m \u001B[0;32mfrom\u001B[0m \u001B[0mnlp\u001B[0m\u001B[0;34m.\u001B[0m\u001B[0mread_warc2\u001B[0m \u001B[0;32mimport\u001B[0m \u001B[0mread_warc\u001B[0m\u001B[0;34m\u001B[0m\u001B[0;34m\u001B[0m\u001B[0m\n\u001B[1;32m     17\u001B[0m \u001B[0;32mfrom\u001B[0m \u001B[0mcorpus_processing\u001B[0m \u001B[0;32mimport\u001B[0m \u001B[0mner\u001B[0m\u001B[0;34m\u001B[0m\u001B[0;34m\u001B[0m\u001B[0m\n\u001B[0;32m---> 18\u001B[0;31m \u001B[0;32mfrom\u001B[0m \u001B[0mcorpus_processing\u001B[0m \u001B[0;32mimport\u001B[0m \u001B[0mrelation_extraction\u001B[0m \u001B[0;32mas\u001B[0m \u001B[0mre\u001B[0m\u001B[0;34m\u001B[0m\u001B[0;34m\u001B[0m\u001B[0m\n\u001B[0m\u001B[1;32m     19\u001B[0m \u001B[0;32mfrom\u001B[0m \u001B[0mcorpus_processing\u001B[0m \u001B[0;32mimport\u001B[0m \u001B[0mrelation_linking\u001B[0m \u001B[0;32mas\u001B[0m \u001B[0mrl\u001B[0m\u001B[0;34m\u001B[0m\u001B[0;34m\u001B[0m\u001B[0m\n\u001B[1;32m     20\u001B[0m \u001B[0;32mfrom\u001B[0m \u001B[0mcorpus_processing\u001B[0m \u001B[0;32mimport\u001B[0m \u001B[0mentity_linking\u001B[0m \u001B[0;32mas\u001B[0m \u001B[0mel\u001B[0m\u001B[0;34m\u001B[0m\u001B[0;34m\u001B[0m\u001B[0m\n",
      "\u001B[0;32m~/Documents/web_processing/assignment-code/corpus_processing/relation_extraction.py\u001B[0m in \u001B[0;36m<module>\u001B[0;34m\u001B[0m\n\u001B[1;32m      6\u001B[0m \u001B[0;34m\u001B[0m\u001B[0m\n\u001B[1;32m      7\u001B[0m \u001B[0;31m# nlp = spacy.load(\"en_core_web_md\")\u001B[0m\u001B[0;34m\u001B[0m\u001B[0;34m\u001B[0m\u001B[0;34m\u001B[0m\u001B[0m\n\u001B[0;32m----> 8\u001B[0;31m \u001B[0mnlp\u001B[0m \u001B[0;34m=\u001B[0m \u001B[0mspacy\u001B[0m\u001B[0;34m.\u001B[0m\u001B[0mload\u001B[0m\u001B[0;34m(\u001B[0m\u001B[0;34m\"en_core_web_trf\"\u001B[0m\u001B[0;34m)\u001B[0m\u001B[0;34m\u001B[0m\u001B[0;34m\u001B[0m\u001B[0m\n\u001B[0m\u001B[1;32m      9\u001B[0m \u001B[0;34m\u001B[0m\u001B[0m\n\u001B[1;32m     10\u001B[0m \u001B[0;34m\u001B[0m\u001B[0m\n",
      "\u001B[0;32m~/anaconda3/envs/wdp/lib/python3.7/site-packages/spacy/__init__.py\u001B[0m in \u001B[0;36mload\u001B[0;34m(name, vocab, disable, enable, exclude, config)\u001B[0m\n\u001B[1;32m     58\u001B[0m         \u001B[0menable\u001B[0m\u001B[0;34m=\u001B[0m\u001B[0menable\u001B[0m\u001B[0;34m,\u001B[0m\u001B[0;34m\u001B[0m\u001B[0;34m\u001B[0m\u001B[0m\n\u001B[1;32m     59\u001B[0m         \u001B[0mexclude\u001B[0m\u001B[0;34m=\u001B[0m\u001B[0mexclude\u001B[0m\u001B[0;34m,\u001B[0m\u001B[0;34m\u001B[0m\u001B[0;34m\u001B[0m\u001B[0m\n\u001B[0;32m---> 60\u001B[0;31m         \u001B[0mconfig\u001B[0m\u001B[0;34m=\u001B[0m\u001B[0mconfig\u001B[0m\u001B[0;34m,\u001B[0m\u001B[0;34m\u001B[0m\u001B[0;34m\u001B[0m\u001B[0m\n\u001B[0m\u001B[1;32m     61\u001B[0m     )\n\u001B[1;32m     62\u001B[0m \u001B[0;34m\u001B[0m\u001B[0m\n",
      "\u001B[0;32m~/anaconda3/envs/wdp/lib/python3.7/site-packages/spacy/util.py\u001B[0m in \u001B[0;36mload_model\u001B[0;34m(name, vocab, disable, enable, exclude, config)\u001B[0m\n\u001B[1;32m    437\u001B[0m     \u001B[0;32mif\u001B[0m \u001B[0mname\u001B[0m \u001B[0;32min\u001B[0m \u001B[0mOLD_MODEL_SHORTCUTS\u001B[0m\u001B[0;34m:\u001B[0m\u001B[0;34m\u001B[0m\u001B[0;34m\u001B[0m\u001B[0m\n\u001B[1;32m    438\u001B[0m         \u001B[0;32mraise\u001B[0m \u001B[0mIOError\u001B[0m\u001B[0;34m(\u001B[0m\u001B[0mErrors\u001B[0m\u001B[0;34m.\u001B[0m\u001B[0mE941\u001B[0m\u001B[0;34m.\u001B[0m\u001B[0mformat\u001B[0m\u001B[0;34m(\u001B[0m\u001B[0mname\u001B[0m\u001B[0;34m=\u001B[0m\u001B[0mname\u001B[0m\u001B[0;34m,\u001B[0m \u001B[0mfull\u001B[0m\u001B[0;34m=\u001B[0m\u001B[0mOLD_MODEL_SHORTCUTS\u001B[0m\u001B[0;34m[\u001B[0m\u001B[0mname\u001B[0m\u001B[0;34m]\u001B[0m\u001B[0;34m)\u001B[0m\u001B[0;34m)\u001B[0m  \u001B[0;31m# type: ignore[index]\u001B[0m\u001B[0;34m\u001B[0m\u001B[0;34m\u001B[0m\u001B[0m\n\u001B[0;32m--> 439\u001B[0;31m     \u001B[0;32mraise\u001B[0m \u001B[0mIOError\u001B[0m\u001B[0;34m(\u001B[0m\u001B[0mErrors\u001B[0m\u001B[0;34m.\u001B[0m\u001B[0mE050\u001B[0m\u001B[0;34m.\u001B[0m\u001B[0mformat\u001B[0m\u001B[0;34m(\u001B[0m\u001B[0mname\u001B[0m\u001B[0;34m=\u001B[0m\u001B[0mname\u001B[0m\u001B[0;34m)\u001B[0m\u001B[0;34m)\u001B[0m\u001B[0;34m\u001B[0m\u001B[0;34m\u001B[0m\u001B[0m\n\u001B[0m\u001B[1;32m    440\u001B[0m \u001B[0;34m\u001B[0m\u001B[0m\n\u001B[1;32m    441\u001B[0m \u001B[0;34m\u001B[0m\u001B[0m\n",
      "\u001B[0;31mOSError\u001B[0m: [E050] Can't find model 'en_core_web_trf'. It doesn't seem to be a Python package or a valid path to a data directory."
     ]
    }
   ],
   "source": [
    "import spacy\n",
    "import pandas as pd\n",
    "import numpy as np\n",
    "import re\n",
    "import requests\n",
    "import sys\n",
    "from tqdm import tqdm\n",
    "from pathlib import Path\n",
    "\n",
    "\n",
    "\n",
    "sys.path.insert(0, \"../\")\n",
    "# Imports for NLP\n",
    "from nlp import beautifulsoup as bsp\n",
    "from nlp import nlp_preprocessing as nlp_prep\n",
    "from nlp.read_warc2 import read_warc\n",
    "from corpus_processing import ner \n",
    "from corpus_processing import relation_extraction as re\n",
    "from corpus_processing import relation_linking as rl\n",
    "from corpus_processing import entity_linking as el \n",
    "from corpus_processing import coref as cr"
   ]
  },
  {
   "cell_type": "code",
   "execution_count": null,
   "metadata": {},
   "outputs": [],
   "source": [
    "pd.set_option('display.max_columns', None)\n",
    "pd.set_option('display.max_rows', None)"
   ]
  },
  {
   "cell_type": "code",
   "execution_count": null,
   "metadata": {},
   "outputs": [
    {
     "name": "stdout",
     "output_type": "stream",
     "text": [
      "The autoreload extension is already loaded. To reload it, use:\n",
      "  %reload_ext autoreload\n"
     ]
    }
   ],
   "source": [
    "# autoreload\n",
    "%load_ext autoreload\n",
    "%autoreload 2"
   ]
  },
  {
   "cell_type": "code",
   "execution_count": null,
   "metadata": {},
   "outputs": [],
   "source": [
    "DIR_DATA = Path(\"../data/warcs\")\n",
    "FNAME_WARC = \"sample.warc.gz\""
   ]
  },
  {
   "attachments": {},
   "cell_type": "markdown",
   "metadata": {},
   "source": [
    "### 1. Reading WARC files"
   ]
  },
  {
   "cell_type": "code",
   "execution_count": null,
   "metadata": {},
   "outputs": [
    {
     "name": "stdout",
     "output_type": "stream",
     "text": [
      "reading warc file...\n",
      "warc list ['clueweb12-0000tw-00-00006' 'clueweb12-0000tw-00-00043'\n",
      " 'clueweb12-0000tw-00-00044' 'clueweb12-0000tw-00-00101'\n",
      " 'clueweb12-0000tw-00-00129' 'clueweb12-0000tw-00-00130'\n",
      " 'clueweb12-0000tw-00-00141' 'clueweb12-0000tw-00-00160'\n",
      " 'clueweb12-0000tw-00-00161' 'clueweb12-0000tw-00-00162'\n",
      " 'clueweb12-0000tw-00-00199' 'clueweb12-0000tw-00-00205'\n",
      " 'clueweb12-0000tw-00-00210' 'clueweb12-0000tw-00-00212'\n",
      " 'clueweb12-0000tw-00-00214' 'clueweb12-0000tw-00-00829'\n",
      " 'clueweb12-0000tw-00-00833' 'clueweb12-0000tw-00-00834'\n",
      " 'clueweb12-0000tw-00-00835' 'clueweb12-0000tw-00-00836'\n",
      " 'clueweb12-0000tw-00-00837' 'clueweb12-0000tw-00-00843'\n",
      " 'clueweb12-0000tw-00-00844' 'clueweb12-0000tw-00-00877'\n",
      " 'clueweb12-0000tw-00-00879' 'clueweb12-0000tw-00-00880'\n",
      " 'clueweb12-0000tw-00-00881' 'clueweb12-0000tw-00-00941'\n",
      " 'clueweb12-0000tw-00-00942' 'clueweb12-0000tw-00-00943'\n",
      " 'clueweb12-0000tw-00-00944' 'clueweb12-0000tw-00-00946']\n"
     ]
    }
   ],
   "source": [
    "warc_df = read_warc(DIR_DATA / FNAME_WARC)"
   ]
  },
  {
   "cell_type": "code",
   "execution_count": null,
   "metadata": {},
   "outputs": [
    {
     "data": {
      "text/html": [
       "<div>\n",
       "<style scoped>\n",
       "    .dataframe tbody tr th:only-of-type {\n",
       "        vertical-align: middle;\n",
       "    }\n",
       "\n",
       "    .dataframe tbody tr th {\n",
       "        vertical-align: top;\n",
       "    }\n",
       "\n",
       "    .dataframe thead th {\n",
       "        text-align: right;\n",
       "    }\n",
       "</style>\n",
       "<table border=\"1\" class=\"dataframe\">\n",
       "  <thead>\n",
       "    <tr style=\"text-align: right;\">\n",
       "      <th></th>\n",
       "      <th>HTML_DOC</th>\n",
       "      <th>WARC-TREC-ID</th>\n",
       "    </tr>\n",
       "  </thead>\n",
       "  <tbody>\n",
       "    <tr>\n",
       "      <th>0</th>\n",
       "      <td>&lt;html&gt;\\r\\n\\r\\n&lt;head&gt;\\r\\n&lt;meta http-equiv=\"Cont...</td>\n",
       "      <td>clueweb12-0000tw-00-00006</td>\n",
       "    </tr>\n",
       "    <tr>\n",
       "      <th>1</th>\n",
       "      <td>&lt;html&gt;\\n\\n&lt;head&gt;\\n\\n&lt;style type=\"text/css\"&gt;\\n\\...</td>\n",
       "      <td>clueweb12-0000tw-00-00043</td>\n",
       "    </tr>\n",
       "    <tr>\n",
       "      <th>2</th>\n",
       "      <td>&lt;html&gt;\\n&lt;head&gt;\\n&lt;style type=\"text/css\"&gt;\\n#bott...</td>\n",
       "      <td>clueweb12-0000tw-00-00044</td>\n",
       "    </tr>\n",
       "    <tr>\n",
       "      <th>3</th>\n",
       "      <td>&lt;html&gt;\\n&lt;head&gt;\\n\\n&lt;title&gt;DHP Concerts Bristol ...</td>\n",
       "      <td>clueweb12-0000tw-00-00101</td>\n",
       "    </tr>\n",
       "    <tr>\n",
       "      <th>4</th>\n",
       "      <td>&lt;html&gt;\\n&lt;head&gt;\\n   &lt;title&gt;12 Tourist Spots in ...</td>\n",
       "      <td>clueweb12-0000tw-00-00129</td>\n",
       "    </tr>\n",
       "    <tr>\n",
       "      <th>5</th>\n",
       "      <td>&lt;html&gt;\\r\\n&lt;head&gt;\\r\\n&lt;title&gt;Saving Money Buying...</td>\n",
       "      <td>clueweb12-0000tw-00-00130</td>\n",
       "    </tr>\n",
       "    <tr>\n",
       "      <th>6</th>\n",
       "      <td>&lt;html&gt;\\n&lt;head&gt;\\n    &lt;title&gt;Freelance Web Desig...</td>\n",
       "      <td>clueweb12-0000tw-00-00141</td>\n",
       "    </tr>\n",
       "    <tr>\n",
       "      <th>7</th>\n",
       "      <td>&lt;html&gt;\\n&lt;head&gt;\\n&lt;meta http-equiv=\"Content-Type...</td>\n",
       "      <td>clueweb12-0000tw-00-00160</td>\n",
       "    </tr>\n",
       "    <tr>\n",
       "      <th>8</th>\n",
       "      <td>&lt;html&gt;\\n&lt;head&gt;\\n    &lt;meta http-equiv=\"Content-...</td>\n",
       "      <td>clueweb12-0000tw-00-00161</td>\n",
       "    </tr>\n",
       "    <tr>\n",
       "      <th>9</th>\n",
       "      <td>&lt;html&gt;\\n&lt;head&gt;\\n    &lt;meta http-equiv=\"Content-...</td>\n",
       "      <td>clueweb12-0000tw-00-00162</td>\n",
       "    </tr>\n",
       "    <tr>\n",
       "      <th>10</th>\n",
       "      <td>&lt;html&gt;\\n&lt;head&gt;&lt;script type=\"text/javascript\"&gt;v...</td>\n",
       "      <td>clueweb12-0000tw-00-00199</td>\n",
       "    </tr>\n",
       "    <tr>\n",
       "      <th>11</th>\n",
       "      <td>&lt;html&gt;\\n&lt;head&gt;\\n\\t&lt;title&gt;Browse all 1117 sessi...</td>\n",
       "      <td>clueweb12-0000tw-00-00205</td>\n",
       "    </tr>\n",
       "    <tr>\n",
       "      <th>12</th>\n",
       "      <td>&lt;html&gt;\\r\\n\\t&lt;head&gt;\\r\\n\\t\\t\\r\\n&lt;title&gt;WeatherBu...</td>\n",
       "      <td>clueweb12-0000tw-00-00210</td>\n",
       "    </tr>\n",
       "    <tr>\n",
       "      <th>13</th>\n",
       "      <td>&lt;html&gt;\\r\\n\\t&lt;head&gt;\\r\\n\\t\\t\\r\\n&lt;title&gt;WeatherBu...</td>\n",
       "      <td>clueweb12-0000tw-00-00212</td>\n",
       "    </tr>\n",
       "    <tr>\n",
       "      <th>14</th>\n",
       "      <td>&lt;html&gt;\\r\\n\\t&lt;head&gt;\\r\\n\\r\\n\\r\\n&lt;script language...</td>\n",
       "      <td>clueweb12-0000tw-00-00214</td>\n",
       "    </tr>\n",
       "    <tr>\n",
       "      <th>15</th>\n",
       "      <td>&lt;html&gt;\\n\\t&lt;head&gt;\\n\\t\\t&lt;title&gt;Sokoblovsky Farms...</td>\n",
       "      <td>clueweb12-0000tw-00-00829</td>\n",
       "    </tr>\n",
       "    <tr>\n",
       "      <th>16</th>\n",
       "      <td>&lt;html&gt;\\r\\n    &lt;head&gt;&lt;title&gt;\\r\\n\\t\\r\\n    \\r\\n ...</td>\n",
       "      <td>clueweb12-0000tw-00-00833</td>\n",
       "    </tr>\n",
       "    <tr>\n",
       "      <th>17</th>\n",
       "      <td>&lt;html&gt;\\r\\n    &lt;head&gt;&lt;title&gt;\\r\\n\\t\\r\\n    \\r\\n ...</td>\n",
       "      <td>clueweb12-0000tw-00-00834</td>\n",
       "    </tr>\n",
       "    <tr>\n",
       "      <th>18</th>\n",
       "      <td>&lt;html&gt;\\r\\n    &lt;head&gt;&lt;title&gt;\\r\\n\\t\\r\\n    \\r\\n ...</td>\n",
       "      <td>clueweb12-0000tw-00-00835</td>\n",
       "    </tr>\n",
       "    <tr>\n",
       "      <th>19</th>\n",
       "      <td>&lt;html&gt;\\r\\n    &lt;head&gt;&lt;title&gt;\\r\\n\\t\\r\\n    \\r\\n ...</td>\n",
       "      <td>clueweb12-0000tw-00-00836</td>\n",
       "    </tr>\n",
       "    <tr>\n",
       "      <th>20</th>\n",
       "      <td>&lt;html&gt;\\n&lt;head&gt;\\n    &lt;meta http-equiv=\"Content-...</td>\n",
       "      <td>clueweb12-0000tw-00-00837</td>\n",
       "    </tr>\n",
       "    <tr>\n",
       "      <th>21</th>\n",
       "      <td>&lt;html&gt; \\n    \\t\\t\\t&lt;head&gt; \\n    \\t\\t\\t&lt;meta ht...</td>\n",
       "      <td>clueweb12-0000tw-00-00843</td>\n",
       "    </tr>\n",
       "    <tr>\n",
       "      <th>22</th>\n",
       "      <td>&lt;html&gt; \\n    \\t\\t\\t&lt;head&gt; \\n    \\t\\t\\t&lt;meta ht...</td>\n",
       "      <td>clueweb12-0000tw-00-00844</td>\n",
       "    </tr>\n",
       "    <tr>\n",
       "      <th>23</th>\n",
       "      <td>&lt;html&gt;\\n&lt;head&gt;\\n&lt;title&gt;HIPSTART&lt;/title&gt;\\n&lt;link...</td>\n",
       "      <td>clueweb12-0000tw-00-00877</td>\n",
       "    </tr>\n",
       "    <tr>\n",
       "      <th>24</th>\n",
       "      <td>&lt;html&gt;\\n    &lt;head&gt;\\n        &lt;meta http-equiv=\"...</td>\n",
       "      <td>clueweb12-0000tw-00-00879</td>\n",
       "    </tr>\n",
       "    <tr>\n",
       "      <th>25</th>\n",
       "      <td>&lt;html&gt;\\n    &lt;head&gt;\\n        &lt;meta http-equiv=\"...</td>\n",
       "      <td>clueweb12-0000tw-00-00880</td>\n",
       "    </tr>\n",
       "    <tr>\n",
       "      <th>26</th>\n",
       "      <td>&lt;html&gt;\\n    &lt;head&gt;\\n        &lt;meta http-equiv=\"...</td>\n",
       "      <td>clueweb12-0000tw-00-00881</td>\n",
       "    </tr>\n",
       "    <tr>\n",
       "      <th>27</th>\n",
       "      <td>&lt;html&gt;\\n\\t&lt;head&gt;\\n        &lt;title&gt;Edinburgh Sci...</td>\n",
       "      <td>clueweb12-0000tw-00-00941</td>\n",
       "    </tr>\n",
       "    <tr>\n",
       "      <th>28</th>\n",
       "      <td>&lt;html&gt;\\n\\t&lt;head&gt;\\n        &lt;title&gt;KyNa Twitter ...</td>\n",
       "      <td>clueweb12-0000tw-00-00942</td>\n",
       "    </tr>\n",
       "    <tr>\n",
       "      <th>29</th>\n",
       "      <td>&lt;html&gt;\\n\\t&lt;head&gt;\\n        &lt;title&gt;New Comm Biz ...</td>\n",
       "      <td>clueweb12-0000tw-00-00943</td>\n",
       "    </tr>\n",
       "    <tr>\n",
       "      <th>30</th>\n",
       "      <td>&lt;html&gt;\\n\\t&lt;head&gt;\\n        &lt;title&gt;Ticket Shack ...</td>\n",
       "      <td>clueweb12-0000tw-00-00944</td>\n",
       "    </tr>\n",
       "    <tr>\n",
       "      <th>31</th>\n",
       "      <td>&lt;html&gt;\\n&lt;head&gt;\\n&lt;!-- test that deploys are wor...</td>\n",
       "      <td>clueweb12-0000tw-00-00946</td>\n",
       "    </tr>\n",
       "  </tbody>\n",
       "</table>\n",
       "</div>"
      ],
      "text/plain": [
       "                                             HTML_DOC  \\\n",
       "0   <html>\\r\\n\\r\\n<head>\\r\\n<meta http-equiv=\"Cont...   \n",
       "1   <html>\\n\\n<head>\\n\\n<style type=\"text/css\">\\n\\...   \n",
       "2   <html>\\n<head>\\n<style type=\"text/css\">\\n#bott...   \n",
       "3   <html>\\n<head>\\n\\n<title>DHP Concerts Bristol ...   \n",
       "4   <html>\\n<head>\\n   <title>12 Tourist Spots in ...   \n",
       "5   <html>\\r\\n<head>\\r\\n<title>Saving Money Buying...   \n",
       "6   <html>\\n<head>\\n    <title>Freelance Web Desig...   \n",
       "7   <html>\\n<head>\\n<meta http-equiv=\"Content-Type...   \n",
       "8   <html>\\n<head>\\n    <meta http-equiv=\"Content-...   \n",
       "9   <html>\\n<head>\\n    <meta http-equiv=\"Content-...   \n",
       "10  <html>\\n<head><script type=\"text/javascript\">v...   \n",
       "11  <html>\\n<head>\\n\\t<title>Browse all 1117 sessi...   \n",
       "12  <html>\\r\\n\\t<head>\\r\\n\\t\\t\\r\\n<title>WeatherBu...   \n",
       "13  <html>\\r\\n\\t<head>\\r\\n\\t\\t\\r\\n<title>WeatherBu...   \n",
       "14  <html>\\r\\n\\t<head>\\r\\n\\r\\n\\r\\n<script language...   \n",
       "15  <html>\\n\\t<head>\\n\\t\\t<title>Sokoblovsky Farms...   \n",
       "16  <html>\\r\\n    <head><title>\\r\\n\\t\\r\\n    \\r\\n ...   \n",
       "17  <html>\\r\\n    <head><title>\\r\\n\\t\\r\\n    \\r\\n ...   \n",
       "18  <html>\\r\\n    <head><title>\\r\\n\\t\\r\\n    \\r\\n ...   \n",
       "19  <html>\\r\\n    <head><title>\\r\\n\\t\\r\\n    \\r\\n ...   \n",
       "20  <html>\\n<head>\\n    <meta http-equiv=\"Content-...   \n",
       "21  <html> \\n    \\t\\t\\t<head> \\n    \\t\\t\\t<meta ht...   \n",
       "22  <html> \\n    \\t\\t\\t<head> \\n    \\t\\t\\t<meta ht...   \n",
       "23  <html>\\n<head>\\n<title>HIPSTART</title>\\n<link...   \n",
       "24  <html>\\n    <head>\\n        <meta http-equiv=\"...   \n",
       "25  <html>\\n    <head>\\n        <meta http-equiv=\"...   \n",
       "26  <html>\\n    <head>\\n        <meta http-equiv=\"...   \n",
       "27  <html>\\n\\t<head>\\n        <title>Edinburgh Sci...   \n",
       "28  <html>\\n\\t<head>\\n        <title>KyNa Twitter ...   \n",
       "29  <html>\\n\\t<head>\\n        <title>New Comm Biz ...   \n",
       "30  <html>\\n\\t<head>\\n        <title>Ticket Shack ...   \n",
       "31  <html>\\n<head>\\n<!-- test that deploys are wor...   \n",
       "\n",
       "                 WARC-TREC-ID  \n",
       "0   clueweb12-0000tw-00-00006  \n",
       "1   clueweb12-0000tw-00-00043  \n",
       "2   clueweb12-0000tw-00-00044  \n",
       "3   clueweb12-0000tw-00-00101  \n",
       "4   clueweb12-0000tw-00-00129  \n",
       "5   clueweb12-0000tw-00-00130  \n",
       "6   clueweb12-0000tw-00-00141  \n",
       "7   clueweb12-0000tw-00-00160  \n",
       "8   clueweb12-0000tw-00-00161  \n",
       "9   clueweb12-0000tw-00-00162  \n",
       "10  clueweb12-0000tw-00-00199  \n",
       "11  clueweb12-0000tw-00-00205  \n",
       "12  clueweb12-0000tw-00-00210  \n",
       "13  clueweb12-0000tw-00-00212  \n",
       "14  clueweb12-0000tw-00-00214  \n",
       "15  clueweb12-0000tw-00-00829  \n",
       "16  clueweb12-0000tw-00-00833  \n",
       "17  clueweb12-0000tw-00-00834  \n",
       "18  clueweb12-0000tw-00-00835  \n",
       "19  clueweb12-0000tw-00-00836  \n",
       "20  clueweb12-0000tw-00-00837  \n",
       "21  clueweb12-0000tw-00-00843  \n",
       "22  clueweb12-0000tw-00-00844  \n",
       "23  clueweb12-0000tw-00-00877  \n",
       "24  clueweb12-0000tw-00-00879  \n",
       "25  clueweb12-0000tw-00-00880  \n",
       "26  clueweb12-0000tw-00-00881  \n",
       "27  clueweb12-0000tw-00-00941  \n",
       "28  clueweb12-0000tw-00-00942  \n",
       "29  clueweb12-0000tw-00-00943  \n",
       "30  clueweb12-0000tw-00-00944  \n",
       "31  clueweb12-0000tw-00-00946  "
      ]
     },
     "execution_count": 234,
     "metadata": {},
     "output_type": "execute_result"
    }
   ],
   "source": [
    "warc_df"
   ]
  },
  {
   "cell_type": "code",
   "execution_count": null,
   "metadata": {},
   "outputs": [],
   "source": [
    "selected_doc = warc_df.iloc[18]"
   ]
  },
  {
   "cell_type": "code",
   "execution_count": null,
   "metadata": {},
   "outputs": [],
   "source": [
    "stripped_webpage = bsp.scrape_webpage(selected_doc['HTML_DOC'])"
   ]
  },
  {
   "cell_type": "code",
   "execution_count": null,
   "metadata": {},
   "outputs": [
    {
     "data": {
      "text/plain": [
       "array(['\\nMy account |\\r\\n            Log out\\n',\n",
       "       'Hi are you new? Start here.',\n",
       "       'SAVE UP TO 50% On selected ski, snowboard and end-of-season clothing & gear.',\n",
       "       '\\r\\n                by\\r\\n                \\ncheshire255\\n\\r\\n                added 8 hours ago\\n',\n",
       "       '@mduscavage Yes, that link works, but you have to copy and paste it, not click the link. Both links error when you just click them. But thanks for the help!',\n",
       "       '\\n\\nthe18thtee84\\n\\n\\n\\n5 hours ago\\n\\n',\n",
       "       'Try this link: http://www.rei.com/Sale+and+Clearance When I used the other I kept getting an error. Great sale, thanks OP!',\n",
       "       '\\n\\nmduscavage\\n\\n\\n\\n5 hours ago\\n\\n',\n",
       "       'hmm some of the things on the list arent listed on sale or clearance. At first glance, fivefingers and toe socks (which I was looking for!) were not discounted at all.',\n",
       "       '\\n\\ndodey23\\n\\n\\n\\n3 hours ago\\n\\n',\n",
       "       'Try this link: http://www.rei.com/Sale+and+Clearance When I used the other I kept getting an error. Great sale, thanks OP!',\n",
       "       '\\n\\nmduscavage\\n\\n\\n\\n5 hours ago\\n\\n',\n",
       "       '@mduscavage Yes, that link works, but you have to copy and paste it, not click the link. Both links error when you just click them. But thanks for the help!',\n",
       "       '\\n\\nthe18thtee84\\n\\n\\n\\n5 hours ago\\n\\n',\n",
       "       'hmm some of the things on the list arent listed on sale or clearance. At first glance, fivefingers and toe socks (which I was looking for!) were not discounted at all.',\n",
       "       '\\n\\ndodey23\\n\\n\\n\\n3 hours ago\\n\\n',\n",
       "       'free ship-to-store, if you live close to one you can save some $$',\n",
       "       '\\n\\nw00tgurl\\n\\n\\n\\n3 hours ago\\n\\n',\n",
       "       'Actually REI is doing a free shipping promotion right now too!  Here are the details...',\n",
       "       'â\\x80¢Offer valid 2/9/12 9pm through 2/20/12 11:59pm PT.\\nâ\\x80¢Offer valid only on orders placed at REI.com, REI-OUTLET.com and 1-800-426-4840.\\nâ\\x80¢Offer not valid on return shipments, special orders, prior purchases, REI gift cards or e-gift cards, gift boxes, passes and tickets, memberships, shop services, rentals.\\nâ\\x80¢Offer is limited to stock on hand and backorderable items, is nontransferable and is not redeemable for cash.\\nâ\\x80¢Offer limited to standard shipping to U.S. addresses only (including APOs and FPOs).\\nâ\\x80¢Oversized shipping charges will be applied to any heavy or large items in your order. Oversized shipping charges will be reflected at checkout.',\n",
       "       '\\n\\neckerput\\n\\n\\n\\n2 hours ago\\n\\n',\n",
       "       \"Thanks for posting.  I'm pretty well stocked on gear, but did pick up some cheap Toblerone Chocolate with FREE shipping!\",\n",
       "       '\\n\\nmadcow19\\n\\n\\n\\nan hour ago\\n\\n', '34 answers', '10 answers',\n",
       "       '4 answers', 'Advertisement',\n",
       "       \"\\r\\n                    Deals.Woot is operated by Woot Services LLC.\\r\\n                    Products on Deals.Woot are sold by the entity indicated on the deal posting.\\r\\n                    Product narratives are for entertainment purposes and frequently employ literary point of view; the narratives do not express Wootâ\\x80\\x99s editorial opinion.\\r\\n                    Aside from  literary abuse, your use of this site also subjects you to Wootâ\\x80\\x99s terms of use and privacy policy.\\r\\n                    Woot may designate a user comment as a Quality Post, but that doesn't mean we agree with or guarantee anything said or linked to in that post.\\r\\n                \",\n",
       "       'Woot logos, site design, & content © Woot, Inc. 2004-2012. All Rights Reserved.',\n",
       "       \"\\r\\n                        Whatever it is you're trying to do can ONLY be done by registered, logged-in Deals.Woot members.\\r\\n                        Why? Because they're better people than you.\\r\\n                        Don't worry: you can easily improve yourself by logging into your Woot account or signing up for a new one.\\r\\n                    \",\n",
       "       \"We restrict voting to users who have purchased something from one of the other Woot stores. It's not just because we want your money (which we do) - it's the best way to be sure all the votes are coming from real people and not spam-bots or phony accounts. The best way we can think of, anyway. For now.\",\n",
       "       \"You can always get voting rights by buying something from one of Woot's other sites:\",\n",
       "       \"Purchases through Deals.Woot don't count, because in that case you're not buying anything from us. And we don't have your account information for those purchases.\",\n",
       "       \"If you think you've bought something from Woot before and still can't vote, make sure you're logged in with the same account you used to buy from us.\",\n",
       "       \"Don't get us wrong. Negativity has its place. And downvotes are just as essential as upvotes when it comes to making Deals.Woot a useful place to find deals.\",\n",
       "       \"But when your votes lean so heavily toward the dark side, we have to wonder. Go vote up a few things. Accentuate the positive for a little while. It'll do you some good, and it'll do the site some good, too. Then you can get back to dealing out the smackdowns, OK?\",\n",
       "       \"Well, that's a bit tricky. See, we do a lot of stuff with your vote, using it to work out the popularity of what you voted for, compare that to all the other things voted on, tally up our leaderboard, work out your reputation. Someday we'll do a little cartoon showing just how hard your vote is working.\",\n",
       "       \"Anyway, taking votes back messes all that up, so we give you five minutes, in case you just mis-clicked. After that we've got to say no take-backs. Luckily, votes are free, so feel free to throw them around left and right wherever you see fit.\"],\n",
       "      dtype='<U659')"
      ]
     },
     "execution_count": 237,
     "metadata": {},
     "output_type": "execute_result"
    }
   ],
   "source": [
    "stripped_webpage"
   ]
  },
  {
   "attachments": {},
   "cell_type": "markdown",
   "metadata": {},
   "source": [
    "### 3. NLP Preprocessing"
   ]
  },
  {
   "cell_type": "code",
   "execution_count": 2,
   "metadata": {},
   "outputs": [],
   "source": [
    "spacy_processor = spacy.load(\"en_core_web_md\")\n",
    "# nlp.add_pipe(\"entityLinker\", last=True)  # entity linker\n",
    "# claucy.add_to_pipe(nlp)  # Open IE"
   ]
  },
  {
   "cell_type": "code",
   "execution_count": 3,
   "metadata": {},
   "outputs": [
    {
     "ename": "NameError",
     "evalue": "name 'stripped_webpage' is not defined",
     "output_type": "error",
     "traceback": [
      "\u001B[0;31m---------------------------------------------------------------------------\u001B[0m",
      "\u001B[0;31mNameError\u001B[0m                                 Traceback (most recent call last)",
      "\u001B[1;32m/Users/falksinke/Library/Mobile Documents/com~apple~CloudDocs/02B-Study/02VU/MSc BA/jaar2/WebData-Processing-Tech/WebDataProcessingSystems/notebooks/0_pipeline_beta.ipynb Cell 16\u001B[0m in \u001B[0;36m<cell line: 1>\u001B[0;34m()\u001B[0m\n\u001B[0;32m----> <a href='vscode-notebook-cell:/Users/falksinke/Library/Mobile%20Documents/com~apple~CloudDocs/02B-Study/02VU/MSc%20BA/jaar2/WebData-Processing-Tech/WebDataProcessingSystems/notebooks/0_pipeline_beta.ipynb#X21sZmlsZQ%3D%3D?line=0'>1</a>\u001B[0m spacy_doc \u001B[39m=\u001B[39m nlp_prep\u001B[39m.\u001B[39mget_nlp_doc(stripped_webpage, spacy_processor)\n",
      "\u001B[0;31mNameError\u001B[0m: name 'stripped_webpage' is not defined"
     ]
    }
   ],
   "source": [
    "spacy_doc = nlp_prep.get_nlp_doc(stripped_webpage, spacy_processor)"
   ]
  },
  {
   "cell_type": "code",
   "execution_count": null,
   "metadata": {},
   "outputs": [],
   "source": [
    "processed_page = nlp_prep.nlp_preprocessing(spacy_doc)"
   ]
  },
  {
   "attachments": {},
   "cell_type": "markdown",
   "metadata": {},
   "source": [
    "### 4. Information extraction"
   ]
  },
  {
   "attachments": {},
   "cell_type": "markdown",
   "metadata": {},
   "source": [
    "##### 4.1 Named Entity Recognition"
   ]
  },
  {
   "cell_type": "code",
   "execution_count": 241,
   "metadata": {},
   "outputs": [],
   "source": [
    "ner_page = ner.detect_entities(spacy_doc)"
   ]
  },
  {
   "cell_type": "code",
   "execution_count": 242,
   "metadata": {},
   "outputs": [
    {
     "data": {
      "text/html": [
       "<div>\n",
       "<style scoped>\n",
       "    .dataframe tbody tr th:only-of-type {\n",
       "        vertical-align: middle;\n",
       "    }\n",
       "\n",
       "    .dataframe tbody tr th {\n",
       "        vertical-align: top;\n",
       "    }\n",
       "\n",
       "    .dataframe thead th {\n",
       "        text-align: right;\n",
       "    }\n",
       "</style>\n",
       "<table border=\"1\" class=\"dataframe\">\n",
       "  <thead>\n",
       "    <tr style=\"text-align: right;\">\n",
       "      <th></th>\n",
       "      <th>label</th>\n",
       "      <th>ner_type</th>\n",
       "    </tr>\n",
       "  </thead>\n",
       "  <tbody>\n",
       "    <tr>\n",
       "      <th>0</th>\n",
       "      <td>SAVE UP</td>\n",
       "      <td>ORG</td>\n",
       "    </tr>\n",
       "    <tr>\n",
       "      <th>1</th>\n",
       "      <td>50%</td>\n",
       "      <td>PERCENT</td>\n",
       "    </tr>\n",
       "    <tr>\n",
       "      <th>2</th>\n",
       "      <td>clothing &amp; gear</td>\n",
       "      <td>ORG</td>\n",
       "    </tr>\n",
       "    <tr>\n",
       "      <th>3</th>\n",
       "      <td>cheshire255</td>\n",
       "      <td>ORG</td>\n",
       "    </tr>\n",
       "    <tr>\n",
       "      <th>4</th>\n",
       "      <td>8 hours ago</td>\n",
       "      <td>TIME</td>\n",
       "    </tr>\n",
       "    <tr>\n",
       "      <th>5</th>\n",
       "      <td>first</td>\n",
       "      <td>ORDINAL</td>\n",
       "    </tr>\n",
       "    <tr>\n",
       "      <th>7</th>\n",
       "      <td>some $$</td>\n",
       "      <td>MONEY</td>\n",
       "    </tr>\n",
       "    <tr>\n",
       "      <th>8</th>\n",
       "      <td>REI</td>\n",
       "      <td>ORG</td>\n",
       "    </tr>\n",
       "    <tr>\n",
       "      <th>9</th>\n",
       "      <td>â¢Offer</td>\n",
       "      <td>PERSON</td>\n",
       "    </tr>\n",
       "    <tr>\n",
       "      <th>10</th>\n",
       "      <td>2/9/12 9pm</td>\n",
       "      <td>DATE</td>\n",
       "    </tr>\n",
       "    <tr>\n",
       "      <th>11</th>\n",
       "      <td>2/20/12 11:59pm</td>\n",
       "      <td>TIME</td>\n",
       "    </tr>\n",
       "    <tr>\n",
       "      <th>13</th>\n",
       "      <td>REI.com</td>\n",
       "      <td>ORG</td>\n",
       "    </tr>\n",
       "    <tr>\n",
       "      <th>14</th>\n",
       "      <td>1-800-426</td>\n",
       "      <td>CARDINAL</td>\n",
       "    </tr>\n",
       "    <tr>\n",
       "      <th>18</th>\n",
       "      <td>U.S.</td>\n",
       "      <td>GPE</td>\n",
       "    </tr>\n",
       "    <tr>\n",
       "      <th>19</th>\n",
       "      <td>Toblerone Chocolate</td>\n",
       "      <td>ORG</td>\n",
       "    </tr>\n",
       "    <tr>\n",
       "      <th>20</th>\n",
       "      <td>madcow19\\n\\n\\n\\n</td>\n",
       "      <td>PERSON</td>\n",
       "    </tr>\n",
       "    <tr>\n",
       "      <th>21</th>\n",
       "      <td>34</td>\n",
       "      <td>CARDINAL</td>\n",
       "    </tr>\n",
       "    <tr>\n",
       "      <th>22</th>\n",
       "      <td>10</td>\n",
       "      <td>CARDINAL</td>\n",
       "    </tr>\n",
       "    <tr>\n",
       "      <th>23</th>\n",
       "      <td>4</td>\n",
       "      <td>CARDINAL</td>\n",
       "    </tr>\n",
       "    <tr>\n",
       "      <th>24</th>\n",
       "      <td>Woot</td>\n",
       "      <td>PERSON</td>\n",
       "    </tr>\n",
       "    <tr>\n",
       "      <th>25</th>\n",
       "      <td>Woot Services LLC</td>\n",
       "      <td>ORG</td>\n",
       "    </tr>\n",
       "    <tr>\n",
       "      <th>26</th>\n",
       "      <td>Wootâs</td>\n",
       "      <td>ORG</td>\n",
       "    </tr>\n",
       "    <tr>\n",
       "      <th>29</th>\n",
       "      <td>a Quality Post</td>\n",
       "      <td>ORG</td>\n",
       "    </tr>\n",
       "    <tr>\n",
       "      <th>31</th>\n",
       "      <td>2004-2012</td>\n",
       "      <td>DATE</td>\n",
       "    </tr>\n",
       "    <tr>\n",
       "      <th>37</th>\n",
       "      <td>five minutes</td>\n",
       "      <td>TIME</td>\n",
       "    </tr>\n",
       "  </tbody>\n",
       "</table>\n",
       "</div>"
      ],
      "text/plain": [
       "                  label  ner_type\n",
       "0               SAVE UP       ORG\n",
       "1                   50%   PERCENT\n",
       "2       clothing & gear       ORG\n",
       "3           cheshire255       ORG\n",
       "4           8 hours ago      TIME\n",
       "5                 first   ORDINAL\n",
       "7               some $$     MONEY\n",
       "8                   REI       ORG\n",
       "9              â¢Offer    PERSON\n",
       "10           2/9/12 9pm      DATE\n",
       "11      2/20/12 11:59pm      TIME\n",
       "13              REI.com       ORG\n",
       "14            1-800-426  CARDINAL\n",
       "18                 U.S.       GPE\n",
       "19  Toblerone Chocolate       ORG\n",
       "20     madcow19\\n\\n\\n\\n    PERSON\n",
       "21                   34  CARDINAL\n",
       "22                   10  CARDINAL\n",
       "23                    4  CARDINAL\n",
       "24                 Woot    PERSON\n",
       "25    Woot Services LLC       ORG\n",
       "26             Wootâs       ORG\n",
       "29       a Quality Post       ORG\n",
       "31            2004-2012      DATE\n",
       "37         five minutes      TIME"
      ]
     },
     "execution_count": 242,
     "metadata": {},
     "output_type": "execute_result"
    }
   ],
   "source": [
    "ner_page"
   ]
  },
  {
   "attachments": {},
   "cell_type": "markdown",
   "metadata": {},
   "source": [
    "#### 4.2 Entity linking"
   ]
  },
  {
   "cell_type": "code",
   "execution_count": 243,
   "metadata": {},
   "outputs": [],
   "source": [
    "warc_trec_id = [selected_doc['WARC-TREC-ID'] for x in range(len(ner_page))]"
   ]
  },
  {
   "cell_type": "code",
   "execution_count": 244,
   "metadata": {},
   "outputs": [
    {
     "name": "stderr",
     "output_type": "stream",
     "text": [
      "Entity: 100%|██████████| 25/25 [00:14<00:00,  1.73it/s]\n"
     ]
    }
   ],
   "source": [
    "entities_to_link = ner_page['label'].to_list()\n",
    "linked_entities = []\n",
    "for entity in tqdm(entities_to_link, desc=\"Entity\"):\n",
    "    linked_entities.append(el.link_entity(entity))"
   ]
  },
  {
   "cell_type": "code",
   "execution_count": 245,
   "metadata": {},
   "outputs": [],
   "source": [
    "ner_page = ner_page.reset_index(drop=True)\n",
    "entity_result = pd.concat([ner_page, pd.DataFrame(linked_entities), pd.DataFrame(warc_trec_id)], axis=1)"
   ]
  },
  {
   "attachments": {},
   "cell_type": "markdown",
   "metadata": {},
   "source": [
    "##### 4.2 Relation Extraction"
   ]
  },
  {
   "cell_type": "code",
   "execution_count": 246,
   "metadata": {},
   "outputs": [],
   "source": [
    "coref_doc = cr.coref_resolution(spacy_doc)"
   ]
  },
  {
   "cell_type": "code",
   "execution_count": 247,
   "metadata": {},
   "outputs": [
    {
     "name": "stdout",
     "output_type": "stream",
     "text": [
      "{}\n",
      "(UP TO 50%, 8 hours ago, @mduscavage, 5 hours ago, @mduscavage, @mduscavage, OP, mduscavage, 5 hours ago, first, @mduscavage, 3 hours ago, @mduscavage, OP, mduscavage, 5 hours ago, mduscavage, 5 hours ago, first, @mduscavage, 3 hours ago, 3 hours ago, REI, 2/9/12 9, REI.com, 1-800-426-4840, REI, U.S., 2 hours ago, eckerput, Toblerone Chocolate, an hour ago, 34, 10, 4, Woot Services LLC, Deals.Deals, Deals, Deals, Deals, Deals, Woot, Inc., 2012, Dealsin, Woot, Deals, Deals, REI, Deals, REI, REI, REI, REI, Deals.Deals, Deals, Deals, Deals, five minutes)\n"
     ]
    }
   ],
   "source": [
    "relations = cre.extract_relations(coref_doc)"
   ]
  },
  {
   "cell_type": "code",
   "execution_count": 248,
   "metadata": {},
   "outputs": [],
   "source": [
    "# Turn list of tuples into dataframe\n",
    "relations_df = pd.DataFrame(relations, columns=['relation', 'subject', 'object'])\n",
    "relations_df = relations_df.dropna()"
   ]
  },
  {
   "cell_type": "code",
   "execution_count": 249,
   "metadata": {},
   "outputs": [],
   "source": [
    "relations_df['object'] = relations_df['object'].apply(lambda x: x.text)\n",
    "relations_df['subject'] = relations_df['subject'].apply(lambda x: x.text)"
   ]
  },
  {
   "cell_type": "code",
   "execution_count": 203,
   "metadata": {},
   "outputs": [
    {
     "name": "stdout",
     "output_type": "stream",
     "text": [
      "Linking object entities\n"
     ]
    },
    {
     "name": "stderr",
     "output_type": "stream",
     "text": [
      "100%|██████████| 105/105 [01:04<00:00,  1.64it/s]\n"
     ]
    },
    {
     "name": "stdout",
     "output_type": "stream",
     "text": [
      "Linking subject entities\n"
     ]
    },
    {
     "name": "stderr",
     "output_type": "stream",
     "text": [
      "100%|██████████| 105/105 [00:52<00:00,  2.00it/s]\n"
     ]
    }
   ],
   "source": [
    "object_entities = relations_df['object'].to_list()\n",
    "subject_entities = relations_df['subject'].to_list()\n",
    "obj_ents, subj_ents = [], []\n",
    "print(f'Linking object entities')\n",
    "for entity in tqdm(object_entities):\n",
    "    obj_ents.append(el.link_entity(entity))\n",
    "print(f'Linking subject entities')\n",
    "for entity in tqdm(subject_entities):\n",
    "    subj_ents.append(el.link_entity(entity))"
   ]
  },
  {
   "attachments": {},
   "cell_type": "markdown",
   "metadata": {},
   "source": [
    "Making sure all entities in the relations appear in the found entities"
   ]
  },
  {
   "cell_type": "code",
   "execution_count": 250,
   "metadata": {},
   "outputs": [
    {
     "data": {
      "text/html": [
       "<div>\n",
       "<style scoped>\n",
       "    .dataframe tbody tr th:only-of-type {\n",
       "        vertical-align: middle;\n",
       "    }\n",
       "\n",
       "    .dataframe tbody tr th {\n",
       "        vertical-align: top;\n",
       "    }\n",
       "\n",
       "    .dataframe thead th {\n",
       "        text-align: right;\n",
       "    }\n",
       "</style>\n",
       "<table border=\"1\" class=\"dataframe\">\n",
       "  <thead>\n",
       "    <tr style=\"text-align: right;\">\n",
       "      <th></th>\n",
       "      <th>relation</th>\n",
       "      <th>subject</th>\n",
       "      <th>object</th>\n",
       "      <th>subject_wiki</th>\n",
       "      <th>object_wiki</th>\n",
       "    </tr>\n",
       "  </thead>\n",
       "  <tbody>\n",
       "    <tr>\n",
       "      <th>2</th>\n",
       "      <td>selected</td>\n",
       "      <td>UP TO 50%</td>\n",
       "      <td>8 hours ago</td>\n",
       "      <td>https://en.wikipedia.org/wiki/Gmail</td>\n",
       "      <td>https://en.wikipedia.org/wiki/Windows_8</td>\n",
       "    </tr>\n",
       "    <tr>\n",
       "      <th>3</th>\n",
       "      <td>added</td>\n",
       "      <td>UP TO 50%</td>\n",
       "      <td>8 hours ago</td>\n",
       "      <td>https://en.wikipedia.org/wiki/Gmail</td>\n",
       "      <td>https://en.wikipedia.org/wiki/Windows_8</td>\n",
       "    </tr>\n",
       "    <tr>\n",
       "      <th>4</th>\n",
       "      <td>works Both</td>\n",
       "      <td>@mduscavage</td>\n",
       "      <td>5 hours ago</td>\n",
       "      <td>None</td>\n",
       "      <td>https://en.wikipedia.org/wiki/Grand_Theft_Auto_V</td>\n",
       "    </tr>\n",
       "    <tr>\n",
       "      <th>5</th>\n",
       "      <td>have to</td>\n",
       "      <td>@mduscavage</td>\n",
       "      <td>5 hours ago</td>\n",
       "      <td>None</td>\n",
       "      <td>https://en.wikipedia.org/wiki/Grand_Theft_Auto_V</td>\n",
       "    </tr>\n",
       "    <tr>\n",
       "      <th>6</th>\n",
       "      <td>copy</td>\n",
       "      <td>@mduscavage</td>\n",
       "      <td>5 hours ago</td>\n",
       "      <td>None</td>\n",
       "      <td>https://en.wikipedia.org/wiki/Grand_Theft_Auto_V</td>\n",
       "    </tr>\n",
       "    <tr>\n",
       "      <th>7</th>\n",
       "      <td>paste that</td>\n",
       "      <td>@mduscavage</td>\n",
       "      <td>5 hours ago</td>\n",
       "      <td>None</td>\n",
       "      <td>https://en.wikipedia.org/wiki/Grand_Theft_Auto_V</td>\n",
       "    </tr>\n",
       "    <tr>\n",
       "      <th>8</th>\n",
       "      <td>click that</td>\n",
       "      <td>@mduscavage</td>\n",
       "      <td>5 hours ago</td>\n",
       "      <td>None</td>\n",
       "      <td>https://en.wikipedia.org/wiki/Grand_Theft_Auto_V</td>\n",
       "    </tr>\n",
       "    <tr>\n",
       "      <th>9</th>\n",
       "      <td>works Both</td>\n",
       "      <td>@mduscavage</td>\n",
       "      <td>5 hours ago</td>\n",
       "      <td>None</td>\n",
       "      <td>https://en.wikipedia.org/wiki/Grand_Theft_Auto_V</td>\n",
       "    </tr>\n",
       "    <tr>\n",
       "      <th>10</th>\n",
       "      <td>click that</td>\n",
       "      <td>@mduscavage</td>\n",
       "      <td>5 hours ago</td>\n",
       "      <td>None</td>\n",
       "      <td>https://en.wikipedia.org/wiki/Grand_Theft_Auto_V</td>\n",
       "    </tr>\n",
       "    <tr>\n",
       "      <th>11</th>\n",
       "      <td>Try this</td>\n",
       "      <td>5 hours ago</td>\n",
       "      <td>@mduscavage</td>\n",
       "      <td>https://en.wikipedia.org/wiki/Grand_Theft_Auto_V</td>\n",
       "      <td>None</td>\n",
       "    </tr>\n",
       "  </tbody>\n",
       "</table>\n",
       "</div>"
      ],
      "text/plain": [
       "      relation      subject       object  \\\n",
       "2     selected    UP TO 50%  8 hours ago   \n",
       "3        added    UP TO 50%  8 hours ago   \n",
       "4   works Both  @mduscavage  5 hours ago   \n",
       "5      have to  @mduscavage  5 hours ago   \n",
       "6         copy  @mduscavage  5 hours ago   \n",
       "7   paste that  @mduscavage  5 hours ago   \n",
       "8   click that  @mduscavage  5 hours ago   \n",
       "9   works Both  @mduscavage  5 hours ago   \n",
       "10  click that  @mduscavage  5 hours ago   \n",
       "11    Try this  5 hours ago  @mduscavage   \n",
       "\n",
       "                                        subject_wiki  \\\n",
       "2                https://en.wikipedia.org/wiki/Gmail   \n",
       "3                https://en.wikipedia.org/wiki/Gmail   \n",
       "4                                               None   \n",
       "5                                               None   \n",
       "6                                               None   \n",
       "7                                               None   \n",
       "8                                               None   \n",
       "9                                               None   \n",
       "10                                              None   \n",
       "11  https://en.wikipedia.org/wiki/Grand_Theft_Auto_V   \n",
       "\n",
       "                                         object_wiki  \n",
       "2            https://en.wikipedia.org/wiki/Windows_8  \n",
       "3            https://en.wikipedia.org/wiki/Windows_8  \n",
       "4   https://en.wikipedia.org/wiki/Grand_Theft_Auto_V  \n",
       "5   https://en.wikipedia.org/wiki/Grand_Theft_Auto_V  \n",
       "6   https://en.wikipedia.org/wiki/Grand_Theft_Auto_V  \n",
       "7   https://en.wikipedia.org/wiki/Grand_Theft_Auto_V  \n",
       "8   https://en.wikipedia.org/wiki/Grand_Theft_Auto_V  \n",
       "9   https://en.wikipedia.org/wiki/Grand_Theft_Auto_V  \n",
       "10  https://en.wikipedia.org/wiki/Grand_Theft_Auto_V  \n",
       "11                                              None  "
      ]
     },
     "execution_count": 250,
     "metadata": {},
     "output_type": "execute_result"
    }
   ],
   "source": [
    "relations_df['subject_wiki'] = subj_ents\n",
    "relations_df['object_wiki'] = obj_ents\n",
    "relations_df.head(10)"
   ]
  },
  {
   "cell_type": "code",
   "execution_count": 251,
   "metadata": {},
   "outputs": [],
   "source": [
    "relations_df = relations_df.loc[(relations_df['object_wiki'].isin(linked_entities)) | (relations_df['subject_wiki'].isin(linked_entities)) , :]"
   ]
  },
  {
   "cell_type": "code",
   "execution_count": 252,
   "metadata": {},
   "outputs": [],
   "source": [
    "warc_trec_id_rel = [selected_doc['WARC-TREC-ID'] for x in range(len(relations_df))]\n",
    "relations_df = relations_df.reset_index(drop=True)\n",
    "relations_result = pd.concat([relations_df, pd.DataFrame({\"warc_trec_id\": warc_trec_id_rel})], axis=1)"
   ]
  },
  {
   "cell_type": "code",
   "execution_count": 253,
   "metadata": {},
   "outputs": [],
   "source": [
    "def generate_results(entity_result, relations_result):\n",
    "    # Printing entities\n",
    "    entity_result.columns = ['entity_name', 'ner_type', 'wiki_link', 'warc_trec_id']\n",
    "    entity_result = entity_result[['warc_trec_id', 'entity_name', 'wiki_link']]\n",
    "\n",
    "    for entity in entity_result.iterrows():\n",
    "        print(f'ENTITY:{entity[1][\"warc_trec_id\"]}\\t{entity[1][\"entity_name\"]}\\t{entity[1][\"wiki_link\"]}')\n",
    "    # Printing relations\n",
    "    relations_result = relations_result[['warc_trec_id', 'subject_wiki', 'object_wiki', 'relation']]\n",
    "    for relation in relations_result.iterrows():\n",
    "        print(f'RELATION:{relation[1][\"warc_trec_id\"]}\\t{relation[1][\"subject_wiki\"]}\\t{relation[1][\"object_wiki\"]}\\t{relation[1][\"relation\"]}')"
   ]
  },
  {
   "cell_type": "code",
   "execution_count": 254,
   "metadata": {},
   "outputs": [
    {
     "name": "stdout",
     "output_type": "stream",
     "text": [
      "ENTITY:clueweb12-0000tw-00-00835\tSAVE UP\thttps://en.wikipedia.org/wiki/My_Dress-Up_Darling\n",
      "ENTITY:clueweb12-0000tw-00-00835\t50%\thttps://en.wikipedia.org/wiki/50_Cent\n",
      "ENTITY:clueweb12-0000tw-00-00835\tclothing & gear\thttps://en.wikipedia.org/wiki/Clothing\n",
      "ENTITY:clueweb12-0000tw-00-00835\tcheshire255\thttps://en.wikipedia.org/wiki/2015_in_British_television\n",
      "ENTITY:clueweb12-0000tw-00-00835\t8 hours ago\thttps://en.wikipedia.org/wiki/Windows_8\n",
      "ENTITY:clueweb12-0000tw-00-00835\tfirst\thttps://en.wikipedia.org/wiki/George_Washington\n",
      "ENTITY:clueweb12-0000tw-00-00835\tsome $$\thttps://en.wikipedia.org/wiki/Tom_Hanks\n",
      "ENTITY:clueweb12-0000tw-00-00835\tREI\thttps://en.wikipedia.org/wiki/Rei_Ayanami\n",
      "ENTITY:clueweb12-0000tw-00-00835\tâ¢Offer\thttps://en.wikipedia.org/wiki/UC_Browser\n",
      "ENTITY:clueweb12-0000tw-00-00835\t2/9/12 9pm\thttps://en.wikipedia.org/wiki/9\n",
      "ENTITY:clueweb12-0000tw-00-00835\t2/20/12 11:59pm\thttps://en.wikipedia.org/wiki/List_of_Miraculous:_Tales_of_Ladybug_&_Cat_Noir_episodes\n",
      "ENTITY:clueweb12-0000tw-00-00835\tREI.com\thttps://en.wikipedia.org/wiki/Compass\n",
      "ENTITY:clueweb12-0000tw-00-00835\t1-800-426\thttps://en.wikipedia.org/wiki/1\n",
      "ENTITY:clueweb12-0000tw-00-00835\tU.S.\thttps://en.wikipedia.org/wiki/United_States\n",
      "ENTITY:clueweb12-0000tw-00-00835\tToblerone Chocolate\thttps://en.wikipedia.org/wiki/Alesha_Dixon\n",
      "ENTITY:clueweb12-0000tw-00-00835\tmadcow19\n",
      "\n",
      "\n",
      "\n",
      "\thttps://en.wikipedia.org/wiki/Bovine_spongiform_encephalopathy\n",
      "ENTITY:clueweb12-0000tw-00-00835\t34\thttps://en.wikipedia.org/wiki/The_Amazing_Race_34\n",
      "ENTITY:clueweb12-0000tw-00-00835\t10\thttps://en.wikipedia.org/wiki/1\n",
      "ENTITY:clueweb12-0000tw-00-00835\t4\thttps://en.wikipedia.org/wiki/4\n",
      "ENTITY:clueweb12-0000tw-00-00835\tWoot\thttps://en.wikipedia.org/wiki/Jeff_Bezos\n",
      "ENTITY:clueweb12-0000tw-00-00835\tWoot Services LLC\thttps://en.wikipedia.org/wiki/Amazon_(company)\n",
      "ENTITY:clueweb12-0000tw-00-00835\tWootâs\thttps://en.wikipedia.org/wiki/Toona_ciliata\n",
      "ENTITY:clueweb12-0000tw-00-00835\ta Quality Post\thttps://en.wikipedia.org/wiki/Air_quality_index\n",
      "ENTITY:clueweb12-0000tw-00-00835\t2004-2012\thttps://en.wikipedia.org/wiki/Teri_Hatcher\n",
      "ENTITY:clueweb12-0000tw-00-00835\tfive minutes\thttps://en.wikipedia.org/wiki/Doomsday_Clock\n",
      "RELATION:clueweb12-0000tw-00-00835\thttps://en.wikipedia.org/wiki/Gmail\thttps://en.wikipedia.org/wiki/Windows_8\tselected\n",
      "RELATION:clueweb12-0000tw-00-00835\thttps://en.wikipedia.org/wiki/Gmail\thttps://en.wikipedia.org/wiki/Windows_8\tadded\n",
      "RELATION:clueweb12-0000tw-00-00835\thttps://en.wikipedia.org/wiki/Rei_Ayanami\thttps://en.wikipedia.org/wiki/District_9\tdoing a free\n",
      "RELATION:clueweb12-0000tw-00-00835\thttps://en.wikipedia.org/wiki/District_9\thttps://en.wikipedia.org/wiki/Compass\tplaced at\n",
      "RELATION:clueweb12-0000tw-00-00835\thttps://en.wikipedia.org/wiki/United_States\thttps://en.wikipedia.org/wiki/Karthikeya_2\tincluding\n",
      "RELATION:clueweb12-0000tw-00-00835\thttps://en.wikipedia.org/wiki/United_States\thttps://en.wikipedia.org/wiki/Karthikeya_2\tapplied to any heavy\n",
      "RELATION:clueweb12-0000tw-00-00835\thttps://en.wikipedia.org/wiki/United_States\thttps://en.wikipedia.org/wiki/Karthikeya_2\treflected at\n",
      "RELATION:clueweb12-0000tw-00-00835\tNone\thttps://en.wikipedia.org/wiki/Alesha_Dixon\tstocked on\n",
      "RELATION:clueweb12-0000tw-00-00835\tNone\thttps://en.wikipedia.org/wiki/Alesha_Dixon\tpick up some cheap\n",
      "RELATION:clueweb12-0000tw-00-00835\thttps://en.wikipedia.org/wiki/4\thttps://en.wikipedia.org/wiki/Amazon_(company)\toperated by\n",
      "RELATION:clueweb12-0000tw-00-00835\thttps://en.wikipedia.org/wiki/New_Deal\thttps://en.wikipedia.org/wiki/Amazon_(company)\tguarantee\n",
      "RELATION:clueweb12-0000tw-00-00835\thttps://en.wikipedia.org/wiki/New_Deal\thttps://en.wikipedia.org/wiki/Amazon_(company)\tsaid\n",
      "RELATION:clueweb12-0000tw-00-00835\thttps://en.wikipedia.org/wiki/New_Deal\thttps://en.wikipedia.org/wiki/Amazon_(company)\tlinked to in a\n",
      "RELATION:clueweb12-0000tw-00-00835\thttps://en.wikipedia.org/wiki/Rei_Ayanami\thttps://en.wikipedia.org/wiki/District_9\tdoing a free\n",
      "RELATION:clueweb12-0000tw-00-00835\thttps://en.wikipedia.org/wiki/Pelé\thttps://en.wikipedia.org/wiki/Rei_Ayanami\tlogged in with the same\n",
      "RELATION:clueweb12-0000tw-00-00835\tNone\thttps://en.wikipedia.org/wiki/Jeff_Bezos\tworry\n",
      "RELATION:clueweb12-0000tw-00-00835\tNone\thttps://en.wikipedia.org/wiki/Jeff_Bezos\timprove\n",
      "RELATION:clueweb12-0000tw-00-00835\tNone\thttps://en.wikipedia.org/wiki/Jeff_Bezos\tlogging into\n",
      "RELATION:clueweb12-0000tw-00-00835\thttps://en.wikipedia.org/wiki/Amazon_(company)\thttps://en.wikipedia.org/wiki/New_Deal\tsigning up for a new\n",
      "RELATION:clueweb12-0000tw-00-00835\thttps://en.wikipedia.org/wiki/Jeff_Bezos\thttps://en.wikipedia.org/wiki/New_Deal\trestrict\n",
      "RELATION:clueweb12-0000tw-00-00835\thttps://en.wikipedia.org/wiki/Amazon_(company)\thttps://en.wikipedia.org/wiki/New_Deal\tpurchased\n",
      "RELATION:clueweb12-0000tw-00-00835\thttps://en.wikipedia.org/wiki/4\thttps://en.wikipedia.org/wiki/Amazon_(company)\tDeals\n",
      "RELATION:clueweb12-0000tw-00-00835\thttps://en.wikipedia.org/wiki/New_Deal\thttps://en.wikipedia.org/wiki/Rei_Ayanami\tcoming from real\n",
      "RELATION:clueweb12-0000tw-00-00835\thttps://en.wikipedia.org/wiki/New_Deal\thttps://en.wikipedia.org/wiki/Rei_Ayanami\tthink of\n",
      "RELATION:clueweb12-0000tw-00-00835\thttps://en.wikipedia.org/wiki/New_Deal\thttps://en.wikipedia.org/wiki/Rei_Ayanami\tbuying\n",
      "RELATION:clueweb12-0000tw-00-00835\thttps://en.wikipedia.org/wiki/New_Deal\thttps://en.wikipedia.org/wiki/Rei_Ayanami\tbuying\n",
      "RELATION:clueweb12-0000tw-00-00835\thttps://en.wikipedia.org/wiki/Rei_Ayanami\thttps://en.wikipedia.org/wiki/Pelé\tbought\n",
      "RELATION:clueweb12-0000tw-00-00835\thttps://en.wikipedia.org/wiki/Pelé\thttps://en.wikipedia.org/wiki/Rei_Ayanami\tmake sure\n",
      "RELATION:clueweb12-0000tw-00-00835\thttps://en.wikipedia.org/wiki/Rei_Ayanami\thttps://en.wikipedia.org/wiki/Pelé\tlogged in with the same\n",
      "RELATION:clueweb12-0000tw-00-00835\thttps://en.wikipedia.org/wiki/Rei_Ayanami\thttps://en.wikipedia.org/wiki/Rei_Ayanami\tused to\n",
      "RELATION:clueweb12-0000tw-00-00835\thttps://en.wikipedia.org/wiki/Rei_Ayanami\thttps://en.wikipedia.org/wiki/Rei_Ayanami\tbuy from\n",
      "RELATION:clueweb12-0000tw-00-00835\thttps://en.wikipedia.org/wiki/Jeff_Bezos\thttps://en.wikipedia.org/wiki/New_Deal\tpurchased\n",
      "RELATION:clueweb12-0000tw-00-00835\thttps://en.wikipedia.org/wiki/Amazon_(company)\thttps://en.wikipedia.org/wiki/New_Deal\tpurchased\n",
      "RELATION:clueweb12-0000tw-00-00835\thttps://en.wikipedia.org/wiki/Rei_Ayanami\thttps://en.wikipedia.org/wiki/Deal_or_No_Deal\tcomes to\n",
      "RELATION:clueweb12-0000tw-00-00835\thttps://en.wikipedia.org/wiki/Rei_Ayanami\thttps://en.wikipedia.org/wiki/Deal_or_No_Deal\tmaking\n"
     ]
    }
   ],
   "source": [
    "generate_results(entity_result, relations_result)"
   ]
  },
  {
   "attachments": {},
   "cell_type": "markdown",
   "metadata": {},
   "source": [
    "### 5. Linking"
   ]
  }
 ],
 "metadata": {
  "kernelspec": {
   "display_name": "Python 3",
   "language": "python",
   "name": "python3"
  },
  "language_info": {
   "codemirror_mode": {
    "name": "ipython",
    "version": 3
   },
   "file_extension": ".py",
   "mimetype": "text/x-python",
   "name": "python",
   "nbconvert_exporter": "python",
   "pygments_lexer": "ipython3",
   "version": "3.10.4"
  },
  "orig_nbformat": 4,
  "vscode": {
   "interpreter": {
    "hash": "b0fa6594d8f4cbf19f97940f81e996739fb7646882a419484c72d19e05852a7e"
   }
  }
 },
 "nbformat": 4,
 "nbformat_minor": 2
}
