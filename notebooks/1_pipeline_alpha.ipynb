{
 "cells": [
  {
   "attachments": {},
   "cell_type": "markdown",
   "metadata": {},
   "source": [
    "# Full pipeline in action\n",
    "----------\n",
    "\n",
    "This notebook contains a set up of the full pipeline\n",
    "\n",
    "**Inputs:**\n",
    "\n",
    "- \n",
    "**Outputs:**\n",
    "- results.csv (triple per line)\n",
    "\n",
    "##### Table of contents:\n",
    "1. Setup\n",
    "2. Scraping\n",
    "3. NLP Preprocessing\n",
    "4. Information extraction\n",
    "    -  Named entity recognition\n",
    "    - Relation extraction\n",
    "5. Linking\n",
    "    - Entity linking\n",
    "    - Relation linking\n",
    "----------"
   ]
  },
  {
   "attachments": {},
   "cell_type": "markdown",
   "metadata": {},
   "source": [
    "### 1. Setup"
   ]
  },
  {
   "attachments": {},
   "cell_type": "markdown",
   "metadata": {},
   "source": [
    "##### Imports, settings & constants"
   ]
  },
  {
   "cell_type": "code",
   "execution_count": 12,
   "metadata": {},
   "outputs": [],
   "source": [
    "import spacy\n",
    "import pandas as pd\n",
    "import numpy as np\n",
    "import re\n",
    "import requests\n",
    "import sys\n",
    "from tqdm import tqdm\n",
    "\n",
    "import claucy\n",
    "\n",
    "\n",
    "sys.path.insert(0, \"../\")\n",
    "# Imports for NLP\n",
    "from nlp import beautifulsoup as bsp\n",
    "from nlp import nlp_preprocessing as nlp_prep\n",
    "from nlp.read_warc import read_warc\n",
    "from corpus_processing import relation_extraction as cre\n",
    "from corpus_processing import entity_relation_coupling as erc\n",
    "from corpus_processing import ner \n",
    "from corpus_processing import relation_extraction as re\n",
    "from corpus_processing import relation_linking as rl\n",
    "from corpus_processing import entity_linking as el "
   ]
  },
  {
   "cell_type": "code",
   "execution_count": 13,
   "metadata": {},
   "outputs": [
    {
     "name": "stdout",
     "output_type": "stream",
     "text": [
      "The autoreload extension is already loaded. To reload it, use:\n",
      "  %reload_ext autoreload\n"
     ]
    }
   ],
   "source": [
    "# autoreload\n",
    "%load_ext autoreload\n",
    "%autoreload 2"
   ]
  },
  {
   "cell_type": "code",
   "execution_count": 14,
   "metadata": {},
   "outputs": [],
   "source": [
    "WEBPAGE_URL = ['https://www.cbc.ca/news/world/trump-organization-taxes-guilty-1.6676368']"
   ]
  },
  {
   "attachments": {},
   "cell_type": "markdown",
   "metadata": {},
   "source": [
    "### 2. Webscraping"
   ]
  },
  {
   "cell_type": "code",
   "execution_count": 15,
   "metadata": {},
   "outputs": [],
   "source": [
    "webpages = [bsp.fetch_webpage(url) for url in WEBPAGE_URL]\n",
    "stripped_webpages = [bsp.scrape_webpage(webpage) for webpage in webpages]"
   ]
  },
  {
   "attachments": {},
   "cell_type": "markdown",
   "metadata": {},
   "source": [
    "Or alternatively, WARC files"
   ]
  },
  {
   "cell_type": "code",
   "execution_count": 17,
   "metadata": {},
   "outputs": [],
   "source": [
    "# read_warc('../data/warcs/sample/9laughs.com/sleeping-with-three-girls-at-the-same-time')"
   ]
  },
  {
   "attachments": {},
   "cell_type": "markdown",
   "metadata": {},
   "source": [
    "### 3. NLP Preprocessing"
   ]
  },
  {
   "cell_type": "code",
   "execution_count": 18,
   "metadata": {},
   "outputs": [],
   "source": [
    "spacy_processor = spacy.load(\"en_core_web_md\")\n",
    "# nlp.add_pipe(\"entityLinker\", last=True)  # entity linker\n",
    "# claucy.add_to_pipe(nlp)  # Open IE"
   ]
  },
  {
   "cell_type": "code",
   "execution_count": 19,
   "metadata": {},
   "outputs": [],
   "source": [
    "spacy_docs = [nlp_prep.get_nlp_doc(page, spacy_processor) for page in stripped_webpages]"
   ]
  },
  {
   "cell_type": "code",
   "execution_count": 20,
   "metadata": {},
   "outputs": [
    {
     "name": "stdout",
     "output_type": "stream",
     "text": [
      "\n",
      "============= NLP PRE-PROCESSING =============\n",
      "\n"
     ]
    }
   ],
   "source": [
    "processed_pages = [nlp_prep.nlp_preprocessing(doc) for doc in spacy_docs]"
   ]
  },
  {
   "attachments": {},
   "cell_type": "markdown",
   "metadata": {},
   "source": [
    "### 4. Information extraction"
   ]
  },
  {
   "attachments": {},
   "cell_type": "markdown",
   "metadata": {},
   "source": [
    "##### 4.1 Named Entity Recognition"
   ]
  },
  {
   "cell_type": "code",
   "execution_count": 21,
   "metadata": {},
   "outputs": [
    {
     "name": "stdout",
     "output_type": "stream",
     "text": [
      "\n",
      "============= NAMED ENTITY RECOGNITION =============\n",
      "\n"
     ]
    }
   ],
   "source": [
    "ner_pages = [ner.detect_entities(doc) for doc in spacy_docs][0]"
   ]
  },
  {
   "cell_type": "code",
   "execution_count": 22,
   "metadata": {},
   "outputs": [
    {
     "data": {
      "text/html": [
       "<div>\n",
       "<style scoped>\n",
       "    .dataframe tbody tr th:only-of-type {\n",
       "        vertical-align: middle;\n",
       "    }\n",
       "\n",
       "    .dataframe tbody tr th {\n",
       "        vertical-align: top;\n",
       "    }\n",
       "\n",
       "    .dataframe thead th {\n",
       "        text-align: right;\n",
       "    }\n",
       "</style>\n",
       "<table border=\"1\" class=\"dataframe\">\n",
       "  <thead>\n",
       "    <tr style=\"text-align: right;\">\n",
       "      <th></th>\n",
       "      <th>label</th>\n",
       "      <th>ner_type</th>\n",
       "    </tr>\n",
       "  </thead>\n",
       "  <tbody>\n",
       "    <tr>\n",
       "      <th>0</th>\n",
       "      <td>Donald Trump's</td>\n",
       "      <td>PERSON</td>\n",
       "    </tr>\n",
       "    <tr>\n",
       "      <th>1</th>\n",
       "      <td>Tuesday</td>\n",
       "      <td>DATE</td>\n",
       "    </tr>\n",
       "    <tr>\n",
       "      <th>2</th>\n",
       "      <td>Manhattan</td>\n",
       "      <td>GPE</td>\n",
       "    </tr>\n",
       "    <tr>\n",
       "      <th>3</th>\n",
       "      <td>U.S.</td>\n",
       "      <td>GPE</td>\n",
       "    </tr>\n",
       "    <tr>\n",
       "      <th>4</th>\n",
       "      <td>two</td>\n",
       "      <td>CARDINAL</td>\n",
       "    </tr>\n",
       "    <tr>\n",
       "      <th>...</th>\n",
       "      <td>...</td>\n",
       "      <td>...</td>\n",
       "    </tr>\n",
       "    <tr>\n",
       "      <th>104</th>\n",
       "      <td>1E6</td>\n",
       "      <td>DATE</td>\n",
       "    </tr>\n",
       "    <tr>\n",
       "      <th>105</th>\n",
       "      <td>Canada</td>\n",
       "      <td>GPE</td>\n",
       "    </tr>\n",
       "    <tr>\n",
       "      <th>106</th>\n",
       "      <td>1-866</td>\n",
       "      <td>CARDINAL</td>\n",
       "    </tr>\n",
       "    <tr>\n",
       "      <th>108</th>\n",
       "      <td>Canadians</td>\n",
       "      <td>NORP</td>\n",
       "    </tr>\n",
       "    <tr>\n",
       "      <th>110</th>\n",
       "      <td>CBC Gem</td>\n",
       "      <td>ORG</td>\n",
       "    </tr>\n",
       "  </tbody>\n",
       "</table>\n",
       "<p>70 rows × 2 columns</p>\n",
       "</div>"
      ],
      "text/plain": [
       "              label  ner_type\n",
       "0    Donald Trump's    PERSON\n",
       "1           Tuesday      DATE\n",
       "2         Manhattan       GPE\n",
       "3              U.S.       GPE\n",
       "4               two  CARDINAL\n",
       "..              ...       ...\n",
       "104             1E6      DATE\n",
       "105          Canada       GPE\n",
       "106           1-866  CARDINAL\n",
       "108       Canadians      NORP\n",
       "110         CBC Gem       ORG\n",
       "\n",
       "[70 rows x 2 columns]"
      ]
     },
     "execution_count": 22,
     "metadata": {},
     "output_type": "execute_result"
    }
   ],
   "source": [
    "ner_pages"
   ]
  },
  {
   "cell_type": "code",
   "execution_count": 46,
   "metadata": {},
   "outputs": [
    {
     "name": "stderr",
     "output_type": "stream",
     "text": [
      "100%|██████████| 70/70 [00:44<00:00,  1.56it/s]\n"
     ]
    }
   ],
   "source": [
    "entities_to_link = ner_pages['label'].to_list()\n",
    "linked_entities = []\n",
    "for entity in tqdm(entities_to_link):\n",
    "    linked_entities.append(el.link_entity(entity))"
   ]
  },
  {
   "attachments": {},
   "cell_type": "markdown",
   "metadata": {},
   "source": [
    "##### 4.2 Relation Extraction"
   ]
  },
  {
   "cell_type": "code",
   "execution_count": 23,
   "metadata": {},
   "outputs": [
    {
     "name": "stdout",
     "output_type": "stream",
     "text": [
      "{}\n",
      "(Donald Trump's, Tuesday, Manhattan, U.S., two, the Trump Organization, 17, the second day, the Trump Organization, New York, three years, Trump, the Trump Organization, up to $1.6 million, US, Trump, Democrats, Trump Organization, Alan Futerfas, Trump, Washington, Florida, Mar-a-Lago, 2020, Justice Department, Fulton County, Georgia, Trump, Trump, the White House, last month, Holocaust, Kanye West, Trump, Constitution, Manhattan, the Trump Organization's, Allen Weisselberg, Weisselberg, five-month, the Trump Organization, Weisselberg, Jeffrey McConney, Trump Organization, Weisselberg, Weisselberg, month-long, Trump, Weisselberg, Trump, Weisselberg, Trump, Greatest Political Witch Hunt, New York City, Trump, Weisselberg, Weisselberg, RELIANCE, Manhattan, Trump, Weisselberg, $1.7 million, US, McConney, W-2, Joshua Steinglass, Trump, Trump, Weisselberg, Trump, Trump, Steinglass, Trump, Manhattan, Alvin Bragg, Democrat, January, Bragg, Trump, District, Cyrus Vance Jr., Trump, New York, Letitia James', Trump, two, Republican, years ago, last year, Vance, Trump, Bragg, Monday, CBC News, first, CBC/Radio-Canada's, CBC, CBC, CBC, our Submission Guidelines, Audience Relations, CBC P.O. Box 500 Station A, Toronto, ON  Canada, 1E6, Canada, 1-866, CBC, Canadians, CBC, CBC Gem)\n"
     ]
    }
   ],
   "source": [
    "relations = [cre.extract_relations(doc) for doc in spacy_docs]"
   ]
  },
  {
   "cell_type": "code",
   "execution_count": 32,
   "metadata": {},
   "outputs": [
    {
     "data": {
      "text/html": [
       "<div>\n",
       "<style scoped>\n",
       "    .dataframe tbody tr th:only-of-type {\n",
       "        vertical-align: middle;\n",
       "    }\n",
       "\n",
       "    .dataframe tbody tr th {\n",
       "        vertical-align: top;\n",
       "    }\n",
       "\n",
       "    .dataframe thead th {\n",
       "        text-align: right;\n",
       "    }\n",
       "</style>\n",
       "<table border=\"1\" class=\"dataframe\">\n",
       "  <thead>\n",
       "    <tr style=\"text-align: right;\">\n",
       "      <th></th>\n",
       "      <th>relation</th>\n",
       "      <th>object</th>\n",
       "      <th>subject</th>\n",
       "    </tr>\n",
       "  </thead>\n",
       "  <tbody>\n",
       "    <tr>\n",
       "      <th>0</th>\n",
       "      <td>convicted of</td>\n",
       "      <td>Donald Trump's</td>\n",
       "      <td>Tuesday</td>\n",
       "    </tr>\n",
       "    <tr>\n",
       "      <th>1</th>\n",
       "      <td>brought by the</td>\n",
       "      <td>Tuesday</td>\n",
       "      <td>Manhattan</td>\n",
       "    </tr>\n",
       "    <tr>\n",
       "      <th>2</th>\n",
       "      <td>found in the</td>\n",
       "      <td>Trump</td>\n",
       "      <td>Constitution</td>\n",
       "    </tr>\n",
       "    <tr>\n",
       "      <th>3</th>\n",
       "      <td>including</td>\n",
       "      <td>17</td>\n",
       "      <td>the second day</td>\n",
       "    </tr>\n",
       "    <tr>\n",
       "      <th>4</th>\n",
       "      <td>falsifying</td>\n",
       "      <td>17</td>\n",
       "      <td>the second day</td>\n",
       "    </tr>\n",
       "    <tr>\n",
       "      <th>...</th>\n",
       "      <td>...</td>\n",
       "      <td>...</td>\n",
       "      <td>...</td>\n",
       "    </tr>\n",
       "    <tr>\n",
       "      <th>140</th>\n",
       "      <td>Join the</td>\n",
       "      <td>our Submission Guidelines</td>\n",
       "      <td>Audience Relations</td>\n",
       "    </tr>\n",
       "    <tr>\n",
       "      <th>141</th>\n",
       "      <td>create a</td>\n",
       "      <td>CBC</td>\n",
       "      <td>Canadians</td>\n",
       "    </tr>\n",
       "    <tr>\n",
       "      <th>142</th>\n",
       "      <td>including</td>\n",
       "      <td>17</td>\n",
       "      <td>the second day</td>\n",
       "    </tr>\n",
       "    <tr>\n",
       "      <th>143</th>\n",
       "      <td>Described</td>\n",
       "      <td>Canadians</td>\n",
       "      <td>CBC</td>\n",
       "    </tr>\n",
       "    <tr>\n",
       "      <th>144</th>\n",
       "      <td>offered on</td>\n",
       "      <td>CBC</td>\n",
       "      <td>CBC Gem</td>\n",
       "    </tr>\n",
       "  </tbody>\n",
       "</table>\n",
       "<p>145 rows × 3 columns</p>\n",
       "</div>"
      ],
      "text/plain": [
       "           relation                     object             subject\n",
       "0      convicted of             Donald Trump's             Tuesday\n",
       "1    brought by the                    Tuesday           Manhattan\n",
       "2      found in the                      Trump        Constitution\n",
       "3         including                         17      the second day\n",
       "4        falsifying                         17      the second day\n",
       "..              ...                        ...                 ...\n",
       "140        Join the  our Submission Guidelines  Audience Relations\n",
       "141        create a                        CBC           Canadians\n",
       "142       including                         17      the second day\n",
       "143       Described                  Canadians                 CBC\n",
       "144      offered on                        CBC             CBC Gem\n",
       "\n",
       "[145 rows x 3 columns]"
      ]
     },
     "execution_count": 32,
     "metadata": {},
     "output_type": "execute_result"
    }
   ],
   "source": [
    "# Turn list of tuples into dataframe\n",
    "relations_df = pd.DataFrame(relations[0], columns=['relation', 'object', 'subject'])\n",
    "relations_df['object'] = relations_df['object'].apply(lambda x: x.text)\n",
    "relations_df['subject'] = relations_df['subject'].apply(lambda x: x.text)"
   ]
  },
  {
   "cell_type": "code",
   "execution_count": 33,
   "metadata": {},
   "outputs": [
    {
     "name": "stdout",
     "output_type": "stream",
     "text": [
      "Linking object entities\n",
      "huggingface/tokenizers: The current process just got forked, after parallelism has already been used. Disabling parallelism to avoid deadlocks...\n",
      "To disable this warning, you can either:\n",
      "\t- Avoid using `tokenizers` before the fork if possible\n",
      "\t- Explicitly set the environment variable TOKENIZERS_PARALLELISM=(true | false)\n"
     ]
    },
    {
     "name": "stderr",
     "output_type": "stream",
     "text": [
      "100%|██████████| 145/145 [01:22<00:00,  1.75it/s]\n"
     ]
    },
    {
     "name": "stdout",
     "output_type": "stream",
     "text": [
      "Linking subject entities\n"
     ]
    },
    {
     "name": "stderr",
     "output_type": "stream",
     "text": [
      "100%|██████████| 145/145 [01:25<00:00,  1.70it/s]\n"
     ]
    }
   ],
   "source": [
    "object_entities = relations_df['object'].to_list()\n",
    "subject_entities = relations_df['subject'].to_list()\n",
    "obj_ents, subj_ents = [], []\n",
    "print(f'Linking object entities')\n",
    "for entity in tqdm(object_entities):\n",
    "    obj_ents.append(el.link_entity(entity))\n",
    "print(f'Linking subject entities')\n",
    "for entity in tqdm(subject_entities):\n",
    "    subj_ents.append(el.link_entity(entity))"
   ]
  },
  {
   "attachments": {},
   "cell_type": "markdown",
   "metadata": {},
   "source": [
    "Making sure all entities in the relations appear in the found entities"
   ]
  },
  {
   "cell_type": "code",
   "execution_count": 36,
   "metadata": {},
   "outputs": [
    {
     "data": {
      "text/html": [
       "<div>\n",
       "<style scoped>\n",
       "    .dataframe tbody tr th:only-of-type {\n",
       "        vertical-align: middle;\n",
       "    }\n",
       "\n",
       "    .dataframe tbody tr th {\n",
       "        vertical-align: top;\n",
       "    }\n",
       "\n",
       "    .dataframe thead th {\n",
       "        text-align: right;\n",
       "    }\n",
       "</style>\n",
       "<table border=\"1\" class=\"dataframe\">\n",
       "  <thead>\n",
       "    <tr style=\"text-align: right;\">\n",
       "      <th></th>\n",
       "      <th>relation</th>\n",
       "      <th>object</th>\n",
       "      <th>subject</th>\n",
       "      <th>object_wiki</th>\n",
       "      <th>subject_wiki</th>\n",
       "    </tr>\n",
       "  </thead>\n",
       "  <tbody>\n",
       "    <tr>\n",
       "      <th>0</th>\n",
       "      <td>convicted of</td>\n",
       "      <td>Donald Trump's</td>\n",
       "      <td>Tuesday</td>\n",
       "      <td>https://en.wikipedia.org/wiki/Donald_Trump</td>\n",
       "      <td>https://en.wikipedia.org/wiki/Tuesday_Weld</td>\n",
       "    </tr>\n",
       "    <tr>\n",
       "      <th>1</th>\n",
       "      <td>brought by the</td>\n",
       "      <td>Tuesday</td>\n",
       "      <td>Manhattan</td>\n",
       "      <td>https://en.wikipedia.org/wiki/Tuesday_Weld</td>\n",
       "      <td>https://en.wikipedia.org/wiki/New_York_City</td>\n",
       "    </tr>\n",
       "    <tr>\n",
       "      <th>2</th>\n",
       "      <td>found in the</td>\n",
       "      <td>Trump</td>\n",
       "      <td>Constitution</td>\n",
       "      <td>https://en.wikipedia.org/wiki/Donald_Trump</td>\n",
       "      <td>https://en.wikipedia.org/wiki/U.S._state</td>\n",
       "    </tr>\n",
       "    <tr>\n",
       "      <th>3</th>\n",
       "      <td>including</td>\n",
       "      <td>17</td>\n",
       "      <td>the second day</td>\n",
       "      <td>https://en.wikipedia.org/wiki/1</td>\n",
       "      <td>https://en.wikipedia.org/wiki/Battle_of_Thermo...</td>\n",
       "    </tr>\n",
       "    <tr>\n",
       "      <th>4</th>\n",
       "      <td>falsifying</td>\n",
       "      <td>17</td>\n",
       "      <td>the second day</td>\n",
       "      <td>https://en.wikipedia.org/wiki/1</td>\n",
       "      <td>https://en.wikipedia.org/wiki/Battle_of_Thermo...</td>\n",
       "    </tr>\n",
       "    <tr>\n",
       "      <th>...</th>\n",
       "      <td>...</td>\n",
       "      <td>...</td>\n",
       "      <td>...</td>\n",
       "      <td>...</td>\n",
       "      <td>...</td>\n",
       "    </tr>\n",
       "    <tr>\n",
       "      <th>140</th>\n",
       "      <td>Join the</td>\n",
       "      <td>our Submission Guidelines</td>\n",
       "      <td>Audience Relations</td>\n",
       "      <td>https://en.wikipedia.org/wiki/BDSM</td>\n",
       "      <td>https://en.wikipedia.org/wiki/Public_relations</td>\n",
       "    </tr>\n",
       "    <tr>\n",
       "      <th>141</th>\n",
       "      <td>create a</td>\n",
       "      <td>CBC</td>\n",
       "      <td>Canadians</td>\n",
       "      <td>https://en.wikipedia.org/wiki/Columbia_Pictures</td>\n",
       "      <td>https://en.wikipedia.org/wiki/Canada</td>\n",
       "    </tr>\n",
       "    <tr>\n",
       "      <th>142</th>\n",
       "      <td>including</td>\n",
       "      <td>17</td>\n",
       "      <td>the second day</td>\n",
       "      <td>https://en.wikipedia.org/wiki/1</td>\n",
       "      <td>https://en.wikipedia.org/wiki/Battle_of_Thermo...</td>\n",
       "    </tr>\n",
       "    <tr>\n",
       "      <th>143</th>\n",
       "      <td>Described</td>\n",
       "      <td>Canadians</td>\n",
       "      <td>CBC</td>\n",
       "      <td>https://en.wikipedia.org/wiki/Canada</td>\n",
       "      <td>https://en.wikipedia.org/wiki/Columbia_Pictures</td>\n",
       "    </tr>\n",
       "    <tr>\n",
       "      <th>144</th>\n",
       "      <td>offered on</td>\n",
       "      <td>CBC</td>\n",
       "      <td>CBC Gem</td>\n",
       "      <td>https://en.wikipedia.org/wiki/Columbia_Pictures</td>\n",
       "      <td>https://en.wikipedia.org/wiki/Ghosts_(2019_Bri...</td>\n",
       "    </tr>\n",
       "  </tbody>\n",
       "</table>\n",
       "<p>145 rows × 5 columns</p>\n",
       "</div>"
      ],
      "text/plain": [
       "           relation                     object             subject  \\\n",
       "0      convicted of             Donald Trump's             Tuesday   \n",
       "1    brought by the                    Tuesday           Manhattan   \n",
       "2      found in the                      Trump        Constitution   \n",
       "3         including                         17      the second day   \n",
       "4        falsifying                         17      the second day   \n",
       "..              ...                        ...                 ...   \n",
       "140        Join the  our Submission Guidelines  Audience Relations   \n",
       "141        create a                        CBC           Canadians   \n",
       "142       including                         17      the second day   \n",
       "143       Described                  Canadians                 CBC   \n",
       "144      offered on                        CBC             CBC Gem   \n",
       "\n",
       "                                         object_wiki  \\\n",
       "0         https://en.wikipedia.org/wiki/Donald_Trump   \n",
       "1         https://en.wikipedia.org/wiki/Tuesday_Weld   \n",
       "2         https://en.wikipedia.org/wiki/Donald_Trump   \n",
       "3                    https://en.wikipedia.org/wiki/1   \n",
       "4                    https://en.wikipedia.org/wiki/1   \n",
       "..                                               ...   \n",
       "140               https://en.wikipedia.org/wiki/BDSM   \n",
       "141  https://en.wikipedia.org/wiki/Columbia_Pictures   \n",
       "142                  https://en.wikipedia.org/wiki/1   \n",
       "143             https://en.wikipedia.org/wiki/Canada   \n",
       "144  https://en.wikipedia.org/wiki/Columbia_Pictures   \n",
       "\n",
       "                                          subject_wiki  \n",
       "0           https://en.wikipedia.org/wiki/Tuesday_Weld  \n",
       "1          https://en.wikipedia.org/wiki/New_York_City  \n",
       "2             https://en.wikipedia.org/wiki/U.S._state  \n",
       "3    https://en.wikipedia.org/wiki/Battle_of_Thermo...  \n",
       "4    https://en.wikipedia.org/wiki/Battle_of_Thermo...  \n",
       "..                                                 ...  \n",
       "140     https://en.wikipedia.org/wiki/Public_relations  \n",
       "141               https://en.wikipedia.org/wiki/Canada  \n",
       "142  https://en.wikipedia.org/wiki/Battle_of_Thermo...  \n",
       "143    https://en.wikipedia.org/wiki/Columbia_Pictures  \n",
       "144  https://en.wikipedia.org/wiki/Ghosts_(2019_Bri...  \n",
       "\n",
       "[145 rows x 5 columns]"
      ]
     },
     "execution_count": 36,
     "metadata": {},
     "output_type": "execute_result"
    }
   ],
   "source": [
    "relations_df['object_wiki'] = obj_ents\n",
    "relations_df['subject_wiki'] = subj_ents\n",
    "relations_df"
   ]
  },
  {
   "cell_type": "code",
   "execution_count": 54,
   "metadata": {},
   "outputs": [
    {
     "data": {
      "text/html": [
       "<div>\n",
       "<style scoped>\n",
       "    .dataframe tbody tr th:only-of-type {\n",
       "        vertical-align: middle;\n",
       "    }\n",
       "\n",
       "    .dataframe tbody tr th {\n",
       "        vertical-align: top;\n",
       "    }\n",
       "\n",
       "    .dataframe thead th {\n",
       "        text-align: right;\n",
       "    }\n",
       "</style>\n",
       "<table border=\"1\" class=\"dataframe\">\n",
       "  <thead>\n",
       "    <tr style=\"text-align: right;\">\n",
       "      <th></th>\n",
       "      <th>relation</th>\n",
       "      <th>object</th>\n",
       "      <th>subject</th>\n",
       "      <th>object_wiki</th>\n",
       "      <th>subject_wiki</th>\n",
       "    </tr>\n",
       "  </thead>\n",
       "  <tbody>\n",
       "    <tr>\n",
       "      <th>0</th>\n",
       "      <td>convicted of</td>\n",
       "      <td>Donald Trump's</td>\n",
       "      <td>Tuesday</td>\n",
       "      <td>https://en.wikipedia.org/wiki/Donald_Trump</td>\n",
       "      <td>https://en.wikipedia.org/wiki/Tuesday_Weld</td>\n",
       "    </tr>\n",
       "    <tr>\n",
       "      <th>1</th>\n",
       "      <td>brought by the</td>\n",
       "      <td>Tuesday</td>\n",
       "      <td>Manhattan</td>\n",
       "      <td>https://en.wikipedia.org/wiki/Tuesday_Weld</td>\n",
       "      <td>https://en.wikipedia.org/wiki/New_York_City</td>\n",
       "    </tr>\n",
       "    <tr>\n",
       "      <th>2</th>\n",
       "      <td>found in the</td>\n",
       "      <td>Trump</td>\n",
       "      <td>Constitution</td>\n",
       "      <td>https://en.wikipedia.org/wiki/Donald_Trump</td>\n",
       "      <td>https://en.wikipedia.org/wiki/U.S._state</td>\n",
       "    </tr>\n",
       "    <tr>\n",
       "      <th>3</th>\n",
       "      <td>including</td>\n",
       "      <td>17</td>\n",
       "      <td>the second day</td>\n",
       "      <td>https://en.wikipedia.org/wiki/1</td>\n",
       "      <td>https://en.wikipedia.org/wiki/Battle_of_Thermo...</td>\n",
       "    </tr>\n",
       "    <tr>\n",
       "      <th>4</th>\n",
       "      <td>falsifying</td>\n",
       "      <td>17</td>\n",
       "      <td>the second day</td>\n",
       "      <td>https://en.wikipedia.org/wiki/1</td>\n",
       "      <td>https://en.wikipedia.org/wiki/Battle_of_Thermo...</td>\n",
       "    </tr>\n",
       "    <tr>\n",
       "      <th>...</th>\n",
       "      <td>...</td>\n",
       "      <td>...</td>\n",
       "      <td>...</td>\n",
       "      <td>...</td>\n",
       "      <td>...</td>\n",
       "    </tr>\n",
       "    <tr>\n",
       "      <th>140</th>\n",
       "      <td>Join the</td>\n",
       "      <td>our Submission Guidelines</td>\n",
       "      <td>Audience Relations</td>\n",
       "      <td>https://en.wikipedia.org/wiki/BDSM</td>\n",
       "      <td>https://en.wikipedia.org/wiki/Public_relations</td>\n",
       "    </tr>\n",
       "    <tr>\n",
       "      <th>141</th>\n",
       "      <td>create a</td>\n",
       "      <td>CBC</td>\n",
       "      <td>Canadians</td>\n",
       "      <td>https://en.wikipedia.org/wiki/Columbia_Pictures</td>\n",
       "      <td>https://en.wikipedia.org/wiki/Canada</td>\n",
       "    </tr>\n",
       "    <tr>\n",
       "      <th>142</th>\n",
       "      <td>including</td>\n",
       "      <td>17</td>\n",
       "      <td>the second day</td>\n",
       "      <td>https://en.wikipedia.org/wiki/1</td>\n",
       "      <td>https://en.wikipedia.org/wiki/Battle_of_Thermo...</td>\n",
       "    </tr>\n",
       "    <tr>\n",
       "      <th>143</th>\n",
       "      <td>Described</td>\n",
       "      <td>Canadians</td>\n",
       "      <td>CBC</td>\n",
       "      <td>https://en.wikipedia.org/wiki/Canada</td>\n",
       "      <td>https://en.wikipedia.org/wiki/Columbia_Pictures</td>\n",
       "    </tr>\n",
       "    <tr>\n",
       "      <th>144</th>\n",
       "      <td>offered on</td>\n",
       "      <td>CBC</td>\n",
       "      <td>CBC Gem</td>\n",
       "      <td>https://en.wikipedia.org/wiki/Columbia_Pictures</td>\n",
       "      <td>https://en.wikipedia.org/wiki/Ghosts_(2019_Bri...</td>\n",
       "    </tr>\n",
       "  </tbody>\n",
       "</table>\n",
       "<p>143 rows × 5 columns</p>\n",
       "</div>"
      ],
      "text/plain": [
       "           relation                     object             subject  \\\n",
       "0      convicted of             Donald Trump's             Tuesday   \n",
       "1    brought by the                    Tuesday           Manhattan   \n",
       "2      found in the                      Trump        Constitution   \n",
       "3         including                         17      the second day   \n",
       "4        falsifying                         17      the second day   \n",
       "..              ...                        ...                 ...   \n",
       "140        Join the  our Submission Guidelines  Audience Relations   \n",
       "141        create a                        CBC           Canadians   \n",
       "142       including                         17      the second day   \n",
       "143       Described                  Canadians                 CBC   \n",
       "144      offered on                        CBC             CBC Gem   \n",
       "\n",
       "                                         object_wiki  \\\n",
       "0         https://en.wikipedia.org/wiki/Donald_Trump   \n",
       "1         https://en.wikipedia.org/wiki/Tuesday_Weld   \n",
       "2         https://en.wikipedia.org/wiki/Donald_Trump   \n",
       "3                    https://en.wikipedia.org/wiki/1   \n",
       "4                    https://en.wikipedia.org/wiki/1   \n",
       "..                                               ...   \n",
       "140               https://en.wikipedia.org/wiki/BDSM   \n",
       "141  https://en.wikipedia.org/wiki/Columbia_Pictures   \n",
       "142                  https://en.wikipedia.org/wiki/1   \n",
       "143             https://en.wikipedia.org/wiki/Canada   \n",
       "144  https://en.wikipedia.org/wiki/Columbia_Pictures   \n",
       "\n",
       "                                          subject_wiki  \n",
       "0           https://en.wikipedia.org/wiki/Tuesday_Weld  \n",
       "1          https://en.wikipedia.org/wiki/New_York_City  \n",
       "2             https://en.wikipedia.org/wiki/U.S._state  \n",
       "3    https://en.wikipedia.org/wiki/Battle_of_Thermo...  \n",
       "4    https://en.wikipedia.org/wiki/Battle_of_Thermo...  \n",
       "..                                                 ...  \n",
       "140     https://en.wikipedia.org/wiki/Public_relations  \n",
       "141               https://en.wikipedia.org/wiki/Canada  \n",
       "142  https://en.wikipedia.org/wiki/Battle_of_Thermo...  \n",
       "143    https://en.wikipedia.org/wiki/Columbia_Pictures  \n",
       "144  https://en.wikipedia.org/wiki/Ghosts_(2019_Bri...  \n",
       "\n",
       "[143 rows x 5 columns]"
      ]
     },
     "execution_count": 54,
     "metadata": {},
     "output_type": "execute_result"
    }
   ],
   "source": [
    "relations_df.loc[(relations_df['object_wiki'].isin(linked_entities)) & (relations_df['subject_wiki'].isin(linked_entities)) , :]"
   ]
  },
  {
   "cell_type": "code",
   "execution_count": null,
   "metadata": {},
   "outputs": [],
   "source": []
  },
  {
   "attachments": {},
   "cell_type": "markdown",
   "metadata": {},
   "source": [
    "### 5. Linking"
   ]
  }
 ],
 "metadata": {
  "kernelspec": {
   "display_name": "Python 3",
   "language": "python",
   "name": "python3"
  },
  "language_info": {
   "codemirror_mode": {
    "name": "ipython",
    "version": 3
   },
   "file_extension": ".py",
   "mimetype": "text/x-python",
   "name": "python",
   "nbconvert_exporter": "python",
   "pygments_lexer": "ipython3",
   "version": "3.10.4"
  },
  "orig_nbformat": 4,
  "vscode": {
   "interpreter": {
    "hash": "b0fa6594d8f4cbf19f97940f81e996739fb7646882a419484c72d19e05852a7e"
   }
  }
 },
 "nbformat": 4,
 "nbformat_minor": 2
}
