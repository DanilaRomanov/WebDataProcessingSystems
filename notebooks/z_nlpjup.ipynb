{
 "cells": [
  {
   "cell_type": "code",
   "execution_count": 1,
   "metadata": {
    "collapsed": true
   },
   "outputs": [],
   "source": [
    "import spacy\n",
    "import pathlib\n",
    "import numpy as np\n",
    "import pandas as pd"
   ]
  },
  {
   "cell_type": "code",
   "execution_count": 2,
   "outputs": [
    {
     "name": "stdout",
     "output_type": "stream",
     "text": [
      "/Users/dr/Documents/web_processing/assignment-code/nlp\n"
     ]
    }
   ],
   "source": [
    "path = pathlib.Path().resolve()\n",
    "print(path)"
   ],
   "metadata": {
    "collapsed": false
   }
  },
  {
   "cell_type": "code",
   "execution_count": 3,
   "outputs": [],
   "source": [
    "nlp = spacy.load(\"en_core_web_md\")\n"
   ],
   "metadata": {
    "collapsed": false
   }
  },
  {
   "cell_type": "code",
   "execution_count": null,
   "outputs": [],
   "source": [],
   "metadata": {
    "collapsed": false
   }
  },
  {
   "cell_type": "code",
   "execution_count": 35,
   "outputs": [],
   "source": [
    "with open(str(path) + \"/SSillinois.txt\") as f:\n",
    "    text = f.read()"
   ],
   "metadata": {
    "collapsed": false
   }
  },
  {
   "cell_type": "code",
   "execution_count": 19,
   "outputs": [],
   "source": [
    "doc = nlp(\"The Yellow Palace (Danish: Det Gule Palæ), or Bergum's Mansion, is considered the first example of Neoclassical architecture in Copenhagen. \")"
   ],
   "metadata": {
    "collapsed": false
   }
  },
  {
   "cell_type": "code",
   "execution_count": 20,
   "outputs": [
    {
     "name": "stdout",
     "output_type": "stream",
     "text": [
      "The\n",
      "Yellow\n",
      "Palace\n",
      "(\n",
      "Danish\n",
      ":\n",
      "Det\n",
      "Gule\n",
      "Palæ\n",
      ")\n"
     ]
    }
   ],
   "source": [
    "for token in doc[:10]:\n",
    "    print(token)"
   ],
   "metadata": {
    "collapsed": false
   }
  },
  {
   "cell_type": "code",
   "execution_count": 21,
   "outputs": [],
   "source": [
    "tokens_df = pd.DataFrame()\n",
    "\n",
    "token_text = np.array([])\n",
    "pos = np.array([])\n",
    "lemma = np.array([])\n",
    "ent_type = np.array([])\n",
    "synt_dep = np.array([])"
   ],
   "metadata": {
    "collapsed": false
   }
  },
  {
   "cell_type": "code",
   "execution_count": 22,
   "outputs": [
    {
     "data": {
      "text/plain": "           token pos_tag         lemma entity_type syntactic_dependency\n0            The     DET           the         ORG                  det\n1         Yellow   PROPN        Yellow         ORG             compound\n2         Palace   PROPN        Palace         ORG            nsubjpass\n3              (   PUNCT             (                            punct\n4         Danish   PROPN        Danish        NORP                appos\n5              :   PUNCT             :                            punct\n6            Det   PROPN           Det      PERSON             compound\n7           Gule   PROPN          Gule      PERSON             compound\n8           Palæ   PROPN          Palæ      PERSON                appos\n9              )   PUNCT             )                            punct\n10             ,   PUNCT             ,                            punct\n11            or   CCONJ            or                               cc\n12        Bergum   PROPN        Bergum         ORG                 poss\n13            's    PART            's         ORG                 case\n14       Mansion   PROPN       Mansion         ORG                 conj\n15             ,   PUNCT             ,                            punct\n16            is     AUX            be                          auxpass\n17    considered    VERB      consider                             ROOT\n18           the     DET           the                              det\n19         first     ADJ         first     ORDINAL                 amod\n20       example    NOUN       example                             oprd\n21            of     ADP            of                             prep\n22  Neoclassical     ADJ  neoclassical                             amod\n23  architecture    NOUN  architecture                             pobj\n24            in     ADP            in                             prep\n25    Copenhagen   PROPN    Copenhagen         GPE                 pobj\n26             .   PUNCT             .                            punct",
      "text/html": "<div>\n<style scoped>\n    .dataframe tbody tr th:only-of-type {\n        vertical-align: middle;\n    }\n\n    .dataframe tbody tr th {\n        vertical-align: top;\n    }\n\n    .dataframe thead th {\n        text-align: right;\n    }\n</style>\n<table border=\"1\" class=\"dataframe\">\n  <thead>\n    <tr style=\"text-align: right;\">\n      <th></th>\n      <th>token</th>\n      <th>pos_tag</th>\n      <th>lemma</th>\n      <th>entity_type</th>\n      <th>syntactic_dependency</th>\n    </tr>\n  </thead>\n  <tbody>\n    <tr>\n      <th>0</th>\n      <td>The</td>\n      <td>DET</td>\n      <td>the</td>\n      <td>ORG</td>\n      <td>det</td>\n    </tr>\n    <tr>\n      <th>1</th>\n      <td>Yellow</td>\n      <td>PROPN</td>\n      <td>Yellow</td>\n      <td>ORG</td>\n      <td>compound</td>\n    </tr>\n    <tr>\n      <th>2</th>\n      <td>Palace</td>\n      <td>PROPN</td>\n      <td>Palace</td>\n      <td>ORG</td>\n      <td>nsubjpass</td>\n    </tr>\n    <tr>\n      <th>3</th>\n      <td>(</td>\n      <td>PUNCT</td>\n      <td>(</td>\n      <td></td>\n      <td>punct</td>\n    </tr>\n    <tr>\n      <th>4</th>\n      <td>Danish</td>\n      <td>PROPN</td>\n      <td>Danish</td>\n      <td>NORP</td>\n      <td>appos</td>\n    </tr>\n    <tr>\n      <th>5</th>\n      <td>:</td>\n      <td>PUNCT</td>\n      <td>:</td>\n      <td></td>\n      <td>punct</td>\n    </tr>\n    <tr>\n      <th>6</th>\n      <td>Det</td>\n      <td>PROPN</td>\n      <td>Det</td>\n      <td>PERSON</td>\n      <td>compound</td>\n    </tr>\n    <tr>\n      <th>7</th>\n      <td>Gule</td>\n      <td>PROPN</td>\n      <td>Gule</td>\n      <td>PERSON</td>\n      <td>compound</td>\n    </tr>\n    <tr>\n      <th>8</th>\n      <td>Palæ</td>\n      <td>PROPN</td>\n      <td>Palæ</td>\n      <td>PERSON</td>\n      <td>appos</td>\n    </tr>\n    <tr>\n      <th>9</th>\n      <td>)</td>\n      <td>PUNCT</td>\n      <td>)</td>\n      <td></td>\n      <td>punct</td>\n    </tr>\n    <tr>\n      <th>10</th>\n      <td>,</td>\n      <td>PUNCT</td>\n      <td>,</td>\n      <td></td>\n      <td>punct</td>\n    </tr>\n    <tr>\n      <th>11</th>\n      <td>or</td>\n      <td>CCONJ</td>\n      <td>or</td>\n      <td></td>\n      <td>cc</td>\n    </tr>\n    <tr>\n      <th>12</th>\n      <td>Bergum</td>\n      <td>PROPN</td>\n      <td>Bergum</td>\n      <td>ORG</td>\n      <td>poss</td>\n    </tr>\n    <tr>\n      <th>13</th>\n      <td>'s</td>\n      <td>PART</td>\n      <td>'s</td>\n      <td>ORG</td>\n      <td>case</td>\n    </tr>\n    <tr>\n      <th>14</th>\n      <td>Mansion</td>\n      <td>PROPN</td>\n      <td>Mansion</td>\n      <td>ORG</td>\n      <td>conj</td>\n    </tr>\n    <tr>\n      <th>15</th>\n      <td>,</td>\n      <td>PUNCT</td>\n      <td>,</td>\n      <td></td>\n      <td>punct</td>\n    </tr>\n    <tr>\n      <th>16</th>\n      <td>is</td>\n      <td>AUX</td>\n      <td>be</td>\n      <td></td>\n      <td>auxpass</td>\n    </tr>\n    <tr>\n      <th>17</th>\n      <td>considered</td>\n      <td>VERB</td>\n      <td>consider</td>\n      <td></td>\n      <td>ROOT</td>\n    </tr>\n    <tr>\n      <th>18</th>\n      <td>the</td>\n      <td>DET</td>\n      <td>the</td>\n      <td></td>\n      <td>det</td>\n    </tr>\n    <tr>\n      <th>19</th>\n      <td>first</td>\n      <td>ADJ</td>\n      <td>first</td>\n      <td>ORDINAL</td>\n      <td>amod</td>\n    </tr>\n    <tr>\n      <th>20</th>\n      <td>example</td>\n      <td>NOUN</td>\n      <td>example</td>\n      <td></td>\n      <td>oprd</td>\n    </tr>\n    <tr>\n      <th>21</th>\n      <td>of</td>\n      <td>ADP</td>\n      <td>of</td>\n      <td></td>\n      <td>prep</td>\n    </tr>\n    <tr>\n      <th>22</th>\n      <td>Neoclassical</td>\n      <td>ADJ</td>\n      <td>neoclassical</td>\n      <td></td>\n      <td>amod</td>\n    </tr>\n    <tr>\n      <th>23</th>\n      <td>architecture</td>\n      <td>NOUN</td>\n      <td>architecture</td>\n      <td></td>\n      <td>pobj</td>\n    </tr>\n    <tr>\n      <th>24</th>\n      <td>in</td>\n      <td>ADP</td>\n      <td>in</td>\n      <td></td>\n      <td>prep</td>\n    </tr>\n    <tr>\n      <th>25</th>\n      <td>Copenhagen</td>\n      <td>PROPN</td>\n      <td>Copenhagen</td>\n      <td>GPE</td>\n      <td>pobj</td>\n    </tr>\n    <tr>\n      <th>26</th>\n      <td>.</td>\n      <td>PUNCT</td>\n      <td>.</td>\n      <td></td>\n      <td>punct</td>\n    </tr>\n  </tbody>\n</table>\n</div>"
     },
     "execution_count": 22,
     "metadata": {},
     "output_type": "execute_result"
    }
   ],
   "source": [
    "tokens = doc\n",
    "\n",
    "for token in tokens:\n",
    "    # print(token, token.ent_type_)\n",
    "    token_text = np.append(token_text, token)\n",
    "    pos = np.append(pos, token.pos_)\n",
    "    lemma = np.append(lemma, token.lemma_)\n",
    "    ent_type = np.append(ent_type, token.ent_type_)\n",
    "    synt_dep = np.append(synt_dep, token.dep_)\n",
    "\n",
    "tokens_df['token'] = token_text\n",
    "tokens_df['pos_tag'] = pos\n",
    "tokens_df['lemma'] = lemma\n",
    "tokens_df['entity_type'] = ent_type\n",
    "tokens_df['syntactic_dependency'] = synt_dep\n",
    "\n",
    "tokens_df"
   ],
   "metadata": {
    "collapsed": false
   }
  },
  {
   "cell_type": "code",
   "execution_count": 8,
   "outputs": [],
   "source": [
    "ner_df = pd.DataFrame()\n",
    "\n",
    "ner_labels = np.array([])\n",
    "ner_types = np.array([])"
   ],
   "metadata": {
    "collapsed": false
   }
  },
  {
   "cell_type": "code",
   "execution_count": 9,
   "outputs": [
    {
     "data": {
      "text/plain": "                  label ner_type\n0           SS Illinois      LOC\n1  William Cramp & Sons      ORG\n2                  1873     DATE",
      "text/html": "<div>\n<style scoped>\n    .dataframe tbody tr th:only-of-type {\n        vertical-align: middle;\n    }\n\n    .dataframe tbody tr th {\n        vertical-align: top;\n    }\n\n    .dataframe thead th {\n        text-align: right;\n    }\n</style>\n<table border=\"1\" class=\"dataframe\">\n  <thead>\n    <tr style=\"text-align: right;\">\n      <th></th>\n      <th>label</th>\n      <th>ner_type</th>\n    </tr>\n  </thead>\n  <tbody>\n    <tr>\n      <th>0</th>\n      <td>SS Illinois</td>\n      <td>LOC</td>\n    </tr>\n    <tr>\n      <th>1</th>\n      <td>William Cramp &amp; Sons</td>\n      <td>ORG</td>\n    </tr>\n    <tr>\n      <th>2</th>\n      <td>1873</td>\n      <td>DATE</td>\n    </tr>\n  </tbody>\n</table>\n</div>"
     },
     "execution_count": 9,
     "metadata": {},
     "output_type": "execute_result"
    }
   ],
   "source": [
    "# doc.ents are the named entities in the document.\n",
    "# Returns a tuple of named entity Span objects, if the entity recognizer has been applied.\n",
    "# recognizes when whitespace is necessary, such as in a persons name\n",
    "for ent in doc.ents[:50]:\n",
    "    # print(ent.text, ent.label_)\n",
    "\n",
    "    ner_labels = np.append(ner_labels, ent.text)\n",
    "    ner_types = np.append(ner_types, ent.label_)\n",
    "\n",
    "ner_df['label'] = ner_labels\n",
    "ner_df['ner_type'] = ner_types\n",
    "\n",
    "ner_df"
   ],
   "metadata": {
    "collapsed": false
   }
  },
  {
   "cell_type": "code",
   "execution_count": 34,
   "outputs": [
    {
     "data": {
      "text/plain": "                         label     ner_type\n0                     Illinois          GPE\n1               Sufjan Stevens       PERSON\n2   Come on Feel the Illinoise  WORK_OF_ART\n3                    Illinoise      PRODUCT\n4                         2005         DATE\n5                     American         NORP\n6               Sufjan Stevens       PERSON\n7                        fifth      ORDINAL\n8                         U.S.          GPE\n9                     Illinois          GPE\n10                    Illinois          GPE\n11                     Stevens       PERSON\n12                      second      ORDINAL\n13                        U.S.          GPE\n14                       fifty     CARDINAL\n15                        2003         DATE\n16                    Michigan          GPE\n17                     Stevens       PERSON\n18                     Stevens       PERSON\n19               New York City          GPE\n20           between late 2004         DATE\n21                  early 2005         DATE\n22                     Stevens       PERSON\n23                     Stevens       PERSON\n24                    Illinois          GPE",
      "text/html": "<div>\n<style scoped>\n    .dataframe tbody tr th:only-of-type {\n        vertical-align: middle;\n    }\n\n    .dataframe tbody tr th {\n        vertical-align: top;\n    }\n\n    .dataframe thead th {\n        text-align: right;\n    }\n</style>\n<table border=\"1\" class=\"dataframe\">\n  <thead>\n    <tr style=\"text-align: right;\">\n      <th></th>\n      <th>label</th>\n      <th>ner_type</th>\n    </tr>\n  </thead>\n  <tbody>\n    <tr>\n      <th>0</th>\n      <td>Illinois</td>\n      <td>GPE</td>\n    </tr>\n    <tr>\n      <th>1</th>\n      <td>Sufjan Stevens</td>\n      <td>PERSON</td>\n    </tr>\n    <tr>\n      <th>2</th>\n      <td>Come on Feel the Illinoise</td>\n      <td>WORK_OF_ART</td>\n    </tr>\n    <tr>\n      <th>3</th>\n      <td>Illinoise</td>\n      <td>PRODUCT</td>\n    </tr>\n    <tr>\n      <th>4</th>\n      <td>2005</td>\n      <td>DATE</td>\n    </tr>\n    <tr>\n      <th>5</th>\n      <td>American</td>\n      <td>NORP</td>\n    </tr>\n    <tr>\n      <th>6</th>\n      <td>Sufjan Stevens</td>\n      <td>PERSON</td>\n    </tr>\n    <tr>\n      <th>7</th>\n      <td>fifth</td>\n      <td>ORDINAL</td>\n    </tr>\n    <tr>\n      <th>8</th>\n      <td>U.S.</td>\n      <td>GPE</td>\n    </tr>\n    <tr>\n      <th>9</th>\n      <td>Illinois</td>\n      <td>GPE</td>\n    </tr>\n    <tr>\n      <th>10</th>\n      <td>Illinois</td>\n      <td>GPE</td>\n    </tr>\n    <tr>\n      <th>11</th>\n      <td>Stevens</td>\n      <td>PERSON</td>\n    </tr>\n    <tr>\n      <th>12</th>\n      <td>second</td>\n      <td>ORDINAL</td>\n    </tr>\n    <tr>\n      <th>13</th>\n      <td>U.S.</td>\n      <td>GPE</td>\n    </tr>\n    <tr>\n      <th>14</th>\n      <td>fifty</td>\n      <td>CARDINAL</td>\n    </tr>\n    <tr>\n      <th>15</th>\n      <td>2003</td>\n      <td>DATE</td>\n    </tr>\n    <tr>\n      <th>16</th>\n      <td>Michigan</td>\n      <td>GPE</td>\n    </tr>\n    <tr>\n      <th>17</th>\n      <td>Stevens</td>\n      <td>PERSON</td>\n    </tr>\n    <tr>\n      <th>18</th>\n      <td>Stevens</td>\n      <td>PERSON</td>\n    </tr>\n    <tr>\n      <th>19</th>\n      <td>New York City</td>\n      <td>GPE</td>\n    </tr>\n    <tr>\n      <th>20</th>\n      <td>between late 2004</td>\n      <td>DATE</td>\n    </tr>\n    <tr>\n      <th>21</th>\n      <td>early 2005</td>\n      <td>DATE</td>\n    </tr>\n    <tr>\n      <th>22</th>\n      <td>Stevens</td>\n      <td>PERSON</td>\n    </tr>\n    <tr>\n      <th>23</th>\n      <td>Stevens</td>\n      <td>PERSON</td>\n    </tr>\n    <tr>\n      <th>24</th>\n      <td>Illinois</td>\n      <td>GPE</td>\n    </tr>\n  </tbody>\n</table>\n</div>"
     },
     "execution_count": 34,
     "metadata": {},
     "output_type": "execute_result"
    }
   ],
   "source": [
    "illinois = ner_df\n",
    "illinois"
   ],
   "metadata": {
    "collapsed": false
   }
  },
  {
   "cell_type": "code",
   "execution_count": 42,
   "outputs": [
    {
     "data": {
      "text/plain": "                     label  ner_type\n0              SS Illinois       LOC\n1     William Cramp & Sons       ORG\n2                     1873      DATE\n3                     four  CARDINAL\n4             Pennsylvania       GPE\n5                 Illinois       GPE\n6                    three  CARDINAL\n7             Pennsylvania       GPE\n8                     Ohio       GPE\n9                  Indiana       GPE\n10       the United States       GPE\n11                   first   ORDINAL\n12                   first   ORDINAL\n13                 British      NORP\n14  the American Civil War       ORG\n15                Illinois       GPE\n16                   first   ORDINAL\n17         the U.S. Navy's       ORG\n18              USS Supply       ORG\n19               the 1870s      DATE\n20                Illinois       GPE\n21                   first   ORDINAL\n22       the United States       GPE\n23                  Europe       LOC\n24            twenty years      DATE\n25              USS Supply       ORG\n26                 Spanish      NORP\n27     the First World War     EVENT\n28                   first   ORDINAL\n29           United States       GPE\n30                Illinois       GPE\n31                    1928      DATE",
      "text/html": "<div>\n<style scoped>\n    .dataframe tbody tr th:only-of-type {\n        vertical-align: middle;\n    }\n\n    .dataframe tbody tr th {\n        vertical-align: top;\n    }\n\n    .dataframe thead th {\n        text-align: right;\n    }\n</style>\n<table border=\"1\" class=\"dataframe\">\n  <thead>\n    <tr style=\"text-align: right;\">\n      <th></th>\n      <th>label</th>\n      <th>ner_type</th>\n    </tr>\n  </thead>\n  <tbody>\n    <tr>\n      <th>0</th>\n      <td>SS Illinois</td>\n      <td>LOC</td>\n    </tr>\n    <tr>\n      <th>1</th>\n      <td>William Cramp &amp; Sons</td>\n      <td>ORG</td>\n    </tr>\n    <tr>\n      <th>2</th>\n      <td>1873</td>\n      <td>DATE</td>\n    </tr>\n    <tr>\n      <th>3</th>\n      <td>four</td>\n      <td>CARDINAL</td>\n    </tr>\n    <tr>\n      <th>4</th>\n      <td>Pennsylvania</td>\n      <td>GPE</td>\n    </tr>\n    <tr>\n      <th>5</th>\n      <td>Illinois</td>\n      <td>GPE</td>\n    </tr>\n    <tr>\n      <th>6</th>\n      <td>three</td>\n      <td>CARDINAL</td>\n    </tr>\n    <tr>\n      <th>7</th>\n      <td>Pennsylvania</td>\n      <td>GPE</td>\n    </tr>\n    <tr>\n      <th>8</th>\n      <td>Ohio</td>\n      <td>GPE</td>\n    </tr>\n    <tr>\n      <th>9</th>\n      <td>Indiana</td>\n      <td>GPE</td>\n    </tr>\n    <tr>\n      <th>10</th>\n      <td>the United States</td>\n      <td>GPE</td>\n    </tr>\n    <tr>\n      <th>11</th>\n      <td>first</td>\n      <td>ORDINAL</td>\n    </tr>\n    <tr>\n      <th>12</th>\n      <td>first</td>\n      <td>ORDINAL</td>\n    </tr>\n    <tr>\n      <th>13</th>\n      <td>British</td>\n      <td>NORP</td>\n    </tr>\n    <tr>\n      <th>14</th>\n      <td>the American Civil War</td>\n      <td>ORG</td>\n    </tr>\n    <tr>\n      <th>15</th>\n      <td>Illinois</td>\n      <td>GPE</td>\n    </tr>\n    <tr>\n      <th>16</th>\n      <td>first</td>\n      <td>ORDINAL</td>\n    </tr>\n    <tr>\n      <th>17</th>\n      <td>the U.S. Navy's</td>\n      <td>ORG</td>\n    </tr>\n    <tr>\n      <th>18</th>\n      <td>USS Supply</td>\n      <td>ORG</td>\n    </tr>\n    <tr>\n      <th>19</th>\n      <td>the 1870s</td>\n      <td>DATE</td>\n    </tr>\n    <tr>\n      <th>20</th>\n      <td>Illinois</td>\n      <td>GPE</td>\n    </tr>\n    <tr>\n      <th>21</th>\n      <td>first</td>\n      <td>ORDINAL</td>\n    </tr>\n    <tr>\n      <th>22</th>\n      <td>the United States</td>\n      <td>GPE</td>\n    </tr>\n    <tr>\n      <th>23</th>\n      <td>Europe</td>\n      <td>LOC</td>\n    </tr>\n    <tr>\n      <th>24</th>\n      <td>twenty years</td>\n      <td>DATE</td>\n    </tr>\n    <tr>\n      <th>25</th>\n      <td>USS Supply</td>\n      <td>ORG</td>\n    </tr>\n    <tr>\n      <th>26</th>\n      <td>Spanish</td>\n      <td>NORP</td>\n    </tr>\n    <tr>\n      <th>27</th>\n      <td>the First World War</td>\n      <td>EVENT</td>\n    </tr>\n    <tr>\n      <th>28</th>\n      <td>first</td>\n      <td>ORDINAL</td>\n    </tr>\n    <tr>\n      <th>29</th>\n      <td>United States</td>\n      <td>GPE</td>\n    </tr>\n    <tr>\n      <th>30</th>\n      <td>Illinois</td>\n      <td>GPE</td>\n    </tr>\n    <tr>\n      <th>31</th>\n      <td>1928</td>\n      <td>DATE</td>\n    </tr>\n  </tbody>\n</table>\n</div>"
     },
     "execution_count": 42,
     "metadata": {},
     "output_type": "execute_result"
    }
   ],
   "source": [
    "ssillinois = ner_df\n",
    "ssillinois"
   ],
   "metadata": {
    "collapsed": false
   }
  },
  {
   "cell_type": "code",
   "execution_count": 1,
   "outputs": [
    {
     "ename": "NameError",
     "evalue": "name 'doc' is not defined",
     "output_type": "error",
     "traceback": [
      "\u001B[0;31m---------------------------------------------------------------------------\u001B[0m",
      "\u001B[0;31mNameError\u001B[0m                                 Traceback (most recent call last)",
      "\u001B[0;32m/var/folders/3x/7rk6fk3d5hj2c48s5xn1v42m0000gn/T/ipykernel_32599/4120906957.py\u001B[0m in \u001B[0;36m<module>\u001B[0;34m\u001B[0m\n\u001B[0;32m----> 1\u001B[0;31m \u001B[0;32mfor\u001B[0m \u001B[0ment\u001B[0m \u001B[0;32min\u001B[0m \u001B[0mdoc\u001B[0m\u001B[0;34m.\u001B[0m\u001B[0ments\u001B[0m\u001B[0;34m:\u001B[0m\u001B[0;34m\u001B[0m\u001B[0;34m\u001B[0m\u001B[0m\n\u001B[0m\u001B[1;32m      2\u001B[0m     \u001B[0mprint\u001B[0m\u001B[0;34m(\u001B[0m\u001B[0ment\u001B[0m\u001B[0;34m.\u001B[0m\u001B[0mtext\u001B[0m\u001B[0;34m,\u001B[0m \u001B[0ment\u001B[0m\u001B[0;34m.\u001B[0m\u001B[0mstart_char\u001B[0m\u001B[0;34m-\u001B[0m\u001B[0ment\u001B[0m\u001B[0;34m.\u001B[0m\u001B[0msent\u001B[0m\u001B[0;34m.\u001B[0m\u001B[0mstart_char\u001B[0m\u001B[0;34m,\u001B[0m \u001B[0ment\u001B[0m\u001B[0;34m.\u001B[0m\u001B[0mend_char\u001B[0m\u001B[0;34m-\u001B[0m\u001B[0ment\u001B[0m\u001B[0;34m.\u001B[0m\u001B[0msent\u001B[0m\u001B[0;34m.\u001B[0m\u001B[0mstart_char\u001B[0m\u001B[0;34m,\u001B[0m \u001B[0ment\u001B[0m\u001B[0;34m.\u001B[0m\u001B[0mlabel_\u001B[0m\u001B[0;34m)\u001B[0m\u001B[0;34m\u001B[0m\u001B[0;34m\u001B[0m\u001B[0m\n\u001B[1;32m      3\u001B[0m \u001B[0;31m#                                 ^^^^^^^^^^^^^^^^^^^^              ^^^^^^^^^^^^^^^^^^^^\u001B[0m\u001B[0;34m\u001B[0m\u001B[0;34m\u001B[0m\u001B[0;34m\u001B[0m\u001B[0m\n",
      "\u001B[0;31mNameError\u001B[0m: name 'doc' is not defined"
     ]
    }
   ],
   "source": [
    "for ent in doc.ents:\n",
    "    print(ent.text, ent.start_char-ent.sent.start_char, ent.end_char-ent.sent.start_char, ent.label_)\n",
    "#                                 ^^^^^^^^^^^^^^^^^^^^              ^^^^^^^^^^^^^^^^^^^^\n"
   ],
   "metadata": {
    "collapsed": false
   }
  },
  {
   "cell_type": "code",
   "execution_count": null,
   "outputs": [],
   "source": [],
   "metadata": {
    "collapsed": false
   }
  }
 ],
 "metadata": {
  "kernelspec": {
   "display_name": "Python 3",
   "language": "python",
   "name": "python3"
  },
  "language_info": {
   "codemirror_mode": {
    "name": "ipython",
    "version": 2
   },
   "file_extension": ".py",
   "mimetype": "text/x-python",
   "name": "python",
   "nbconvert_exporter": "python",
   "pygments_lexer": "ipython2",
   "version": "2.7.6"
  }
 },
 "nbformat": 4,
 "nbformat_minor": 0
}
