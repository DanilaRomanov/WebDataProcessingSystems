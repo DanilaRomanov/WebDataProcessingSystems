{
 "cells": [
  {
   "cell_type": "code",
   "execution_count": 1,
   "metadata": {},
   "outputs": [],
   "source": [
    "import pandas as pd\n",
    "import requests\n",
    "import pageviewapi\n",
    "\n",
    "from bs4 import BeautifulSoup"
   ]
  },
  {
   "cell_type": "code",
   "execution_count": 31,
   "metadata": {},
   "outputs": [],
   "source": [
    "# all wikipedia entries\n",
    "# https://en.wikipedia.org/w/api.php?action=query&list=allpages&aplimit=500&format=json\n",
    "\n",
    "url = 'https://en.wikipedia.org/w/api.php'\n",
    "params = {\n",
    "            'action':'query',\n",
    "            'list':'allpages',\n",
    "            'aplimit':'500', \n",
    "            'format':'json',\n",
    "            'redirects':''\n",
    "        }\n",
    "data = requests.get(url, params=params).json()"
   ]
  },
  {
   "attachments": {},
   "cell_type": "markdown",
   "metadata": {},
   "source": [
    "### pageviewAPI"
   ]
  },
  {
   "cell_type": "code",
   "execution_count": 41,
   "metadata": {},
   "outputs": [
    {
     "name": "stdout",
     "output_type": "stream",
     "text": [
      "Wikipage \"Bomber\" Harris has 63 views from 2022-10-01 to 2022-10-31\n"
     ]
    }
   ],
   "source": [
    "article_name = data['query']['allpages'][499]['title']\n",
    "pageviews = pageviewapi.per_article('en.wikipedia', article_name, '2022100100', '2022103100', access='all-access',\n",
    "                      agent='user', granularity='monthly')\n",
    "pageviews['items'][0]['views']\n",
    "\n",
    "print(f\"Wikipage {article_name} has {pageviews['items'][0]['views']} views from 2022-10-01 to 2022-10-31\")"
   ]
  },
  {
   "attachments": {},
   "cell_type": "markdown",
   "metadata": {},
   "source": [
    "### mwviewsAPI"
   ]
  },
  {
   "cell_type": "code",
   "execution_count": 40,
   "metadata": {},
   "outputs": [],
   "source": [
    "from mwviews.api import PageviewsClient"
   ]
  },
  {
   "cell_type": "code",
   "execution_count": 42,
   "metadata": {},
   "outputs": [],
   "source": [
    "p = PageviewsClient('https://www.mediawiki.org/wiki/REST_API')"
   ]
  },
  {
   "cell_type": "code",
   "execution_count": 45,
   "metadata": {},
   "outputs": [
    {
     "data": {
      "text/plain": [
       "defaultdict(dict,\n",
       "            {datetime.datetime(2022, 10, 1, 0, 0): {'VU_Amsterdam': 118,\n",
       "              'Beautiful_Soup': 360,\n",
       "              'Israel_Adesanya': 198291,\n",
       "              'Markov': 523}})"
      ]
     },
     "execution_count": 45,
     "metadata": {},
     "output_type": "execute_result"
    }
   ],
   "source": [
    "p.article_views('en.wikipedia', ['VU Amsterdam', 'Beautiful Soup', 'Israel Adesanya', 'Markov'], granularity='monthly', start='2022100100', end='2022103100')"
   ]
  },
  {
   "cell_type": "code",
   "execution_count": null,
   "metadata": {},
   "outputs": [],
   "source": []
  }
 ],
 "metadata": {
  "kernelspec": {
   "display_name": "Python 3",
   "language": "python",
   "name": "python3"
  },
  "language_info": {
   "codemirror_mode": {
    "name": "ipython",
    "version": 3
   },
   "file_extension": ".py",
   "mimetype": "text/x-python",
   "name": "python",
   "nbconvert_exporter": "python",
   "pygments_lexer": "ipython3",
   "version": "3.10.4 (main, Apr 26 2022, 19:36:29) [Clang 13.1.6 (clang-1316.0.21.2)]"
  },
  "orig_nbformat": 4,
  "vscode": {
   "interpreter": {
    "hash": "b0fa6594d8f4cbf19f97940f81e996739fb7646882a419484c72d19e05852a7e"
   }
  }
 },
 "nbformat": 4,
 "nbformat_minor": 2
}
