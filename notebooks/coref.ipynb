{
 "cells": [
  {
   "cell_type": "code",
   "execution_count": 1,
   "metadata": {
    "collapsed": true
   },
   "outputs": [],
   "source": [
    "import spacy\n",
    "nlp = spacy.load(\"en_coreference_web_trf\")"
   ]
  },
  {
   "cell_type": "code",
   "execution_count": 2,
   "outputs": [],
   "source": [
    "def getClusters(text):\n",
    "    doc = nlp(text)\n",
    "    return doc"
   ],
   "metadata": {
    "collapsed": false
   }
  },
  {
   "cell_type": "code",
   "execution_count": 24,
   "outputs": [
    {
     "data": {
      "text/plain": "{'coref_clusters_1': [SS Illinois, The last of a series of four Pennsylvania-class vessels, Illinois, her, their]}"
     },
     "execution_count": 24,
     "metadata": {},
     "output_type": "execute_result"
    }
   ],
   "source": [
    "text = \"SS Illinois was an iron passenger-cargo steamship built by William Cramp & Sons in 1873. The last of a series of four Pennsylvania-class vessels, Illinois and her three sister ships—Pennsylvania, Ohio and Indiana—were the largest iron ships ever built in the United States at the time of their construction, and amongst the first to be fitted with compound steam engines.\"\n",
    "doc = getClusters(text)\n",
    "doc.spans"
   ],
   "metadata": {
    "collapsed": false
   }
  },
  {
   "cell_type": "code",
   "execution_count": 9,
   "outputs": [
    {
     "data": {
      "text/plain": "'SS Illinois was an iron passenger-cargo steamship built by William Cramp & Sons in 1873. The last of a series of four Pennsylvania-class vessels, Illinois and her three sister ships—Pennsylvania, Ohio and Indiana—were the largest iron ships ever built in the United States at the time of their construction, and amongst the first to be fitted with compound steam engines.'"
     },
     "execution_count": 9,
     "metadata": {},
     "output_type": "execute_result"
    }
   ],
   "source": [
    "doc.text"
   ],
   "metadata": {
    "collapsed": false
   }
  },
  {
   "cell_type": "code",
   "execution_count": 10,
   "outputs": [
    {
     "name": "stdout",
     "output_type": "stream",
     "text": [
      "c\n"
     ]
    },
    {
     "ename": "AttributeError",
     "evalue": "'str' object has no attribute 'start'",
     "output_type": "error",
     "traceback": [
      "\u001B[0;31m---------------------------------------------------------------------------\u001B[0m",
      "\u001B[0;31mAttributeError\u001B[0m                            Traceback (most recent call last)",
      "\u001B[0;32m/var/folders/3x/7rk6fk3d5hj2c48s5xn1v42m0000gn/T/ipykernel_80996/903422677.py\u001B[0m in \u001B[0;36m<module>\u001B[0;34m\u001B[0m\n\u001B[1;32m      4\u001B[0m         \u001B[0mprint\u001B[0m\u001B[0;34m(\u001B[0m\u001B[0mreference\u001B[0m\u001B[0;34m)\u001B[0m\u001B[0;34m\u001B[0m\u001B[0;34m\u001B[0m\u001B[0m\n\u001B[1;32m      5\u001B[0m         \u001B[0;31m#starting index of this reference in the text\u001B[0m\u001B[0;34m\u001B[0m\u001B[0;34m\u001B[0m\u001B[0;34m\u001B[0m\u001B[0m\n\u001B[0;32m----> 6\u001B[0;31m         \u001B[0mprint\u001B[0m\u001B[0;34m(\u001B[0m\u001B[0mreference\u001B[0m\u001B[0;34m.\u001B[0m\u001B[0mstart\u001B[0m\u001B[0;34m)\u001B[0m\u001B[0;34m\u001B[0m\u001B[0;34m\u001B[0m\u001B[0m\n\u001B[0m\u001B[1;32m      7\u001B[0m         \u001B[0;31m#ending index of this reference in the text\u001B[0m\u001B[0;34m\u001B[0m\u001B[0;34m\u001B[0m\u001B[0;34m\u001B[0m\u001B[0m\n\u001B[1;32m      8\u001B[0m         \u001B[0mprint\u001B[0m\u001B[0;34m(\u001B[0m\u001B[0mreference\u001B[0m\u001B[0;34m.\u001B[0m\u001B[0mend\u001B[0m\u001B[0;34m)\u001B[0m\u001B[0;34m\u001B[0m\u001B[0;34m\u001B[0m\u001B[0m\n",
      "\u001B[0;31mAttributeError\u001B[0m: 'str' object has no attribute 'start'"
     ]
    }
   ],
   "source": [
    "for cluster in doc.spans:\n",
    "    for reference in cluster:\n",
    "    #each of these is a Span object in Spacy\n",
    "        print(reference)\n",
    "        #starting index of this reference in the text\n",
    "        print(reference.start)\n",
    "        #ending index of this reference in the text\n",
    "        print(reference.end)"
   ],
   "metadata": {
    "collapsed": false
   }
  },
  {
   "cell_type": "code",
   "execution_count": 5,
   "outputs": [
    {
     "name": "stdout",
     "output_type": "stream",
     "text": [
      "0: sentencizer\n",
      "1: transformer\n",
      "2: coref\n",
      "3: span_resolver\n",
      "4: span_cleaner\n"
     ]
    }
   ],
   "source": [
    "for i, pipe in enumerate(nlp.pipe_names):\n",
    "    print(f\"{i}: {pipe}\")"
   ],
   "metadata": {
    "collapsed": false
   }
  },
  {
   "cell_type": "code",
   "execution_count": 6,
   "outputs": [
    {
     "name": "stdout",
     "output_type": "stream",
     "text": [
      "coref_clusters_1: [SS Illinois, The last of a series of four Pennsylvania-class vessels, Illinois, her, their]\n"
     ]
    }
   ],
   "source": [
    "for cluster in doc.spans:\n",
    "    print(f\"{cluster}: {doc.spans[cluster]}\")"
   ],
   "metadata": {
    "collapsed": false
   }
  },
  {
   "cell_type": "code",
   "execution_count": 41,
   "outputs": [
    {
     "name": "stdout",
     "output_type": "stream",
     "text": [
      "bruh\n",
      "bruh\n",
      "{'coref_clusters_1': [The Yellow Palace (Danish: Det Gule Palæ), or Bergum's Mansion,, It, the mansion, it, the building], 'coref_clusters_2': [Copenhagen, Copenhagen], 'coref_clusters_3': [Denmark, Denmark, Denmark], 'coref_clusters_4': [Prince Christian of Glücksborg, later to become Christian IX of Denmark, his]}\n",
      "{207: \"The Yellow Palace (Danish: Det Gule Palæ), or Bergum's Mansion,\", 324: \"The Yellow Palace (Danish: Det Gule Palæ), or Bergum's Mansion,\", 328: '', 479: \"The Yellow Palace (Danish: Det Gule Palæ), or Bergum's Mansion,\", 653: \"The Yellow Palace (Danish: Det Gule Palæ), or Bergum's Mansion,\", 657: '', 274: 'Copenhagen', 441: 'Denmark', 538: 'Denmark', 507: 'Prince Christian of Glücksborg, later to become Christian IX of Denmark'}\n",
      "The Yellow Palace (Danish: Det Gule Palæ), or Bergum's Mansion, is an 18th-century town mansion situated at Amaliegade 18, next to Amalienborg Palace, in the Frederiksstaden district of Copenhagen, Denmark. The Yellow Palace (Danish: Det Gule Palæ), or Bergum's Mansion, is considered the first example of Neoclassical architecture in Copenhagen. Originally built as a burgher's home, The Yellow Palace (Danish: Det Gule Palæ), or Bergum's Mansion,  was acquired by the Danish Royal Family. Prince Christian of Glücksborg, later to become Christian IX of Denmark, took up residence there, and The Yellow Palace (Danish: Det Gule Palæ), or Bergum's Mansion, became the birthplace of Prince Christian of Glücksborg, later to become Christian IX of Denmark children Frederick VIII of Denmark, Alexandra, Queen of the United Kingdom, George I of Greece and Maria Feodorovna, Empress of Russia. Today The Yellow Palace (Danish: Det Gule Palæ), or Bergum's Mansion,  is owned by the Danish Palaces and Properties Agency and houses the Lord Chamberlain's Office.\n"
     ]
    }
   ],
   "source": [
    "def getClusters(text):\n",
    "    doc = nlp(text)\n",
    "    return doc\n",
    "def coref_resolution(text):\n",
    "    output = \"\"\n",
    "    doc = getClusters(text)\n",
    "    clusters = [val for key, val in doc.spans.items() if key.startswith(\"coref_cluster\")]\n",
    "    token_dict = {}\n",
    "    for cluster in clusters:\n",
    "        first = cluster[0]\n",
    "        for repeats in list(cluster)[1:]:\n",
    "            token_dict[repeats[0].idx] = first.text\n",
    "\n",
    "            for token in repeats[1:]:\n",
    "                print(\"bruh\")\n",
    "                token_dict[token.idx] = \"\"\n",
    "    for token in doc:\n",
    "        if token.idx in token_dict:\n",
    "\n",
    "            output += token_dict[token.idx] + token.whitespace_\n",
    "        else:\n",
    "            output += token.text + token.whitespace_\n",
    "    return output\n",
    "\n",
    "\n",
    "\n",
    "\n",
    "coref_resolution(\"The Yellow Palace (Danish: Det Gule Palæ), or Bergum's Mansion, is an 18th-century town mansion situated at Amaliegade 18, next to Amalienborg Palace, in the Frederiksstaden district of Copenhagen, Denmark. It is considered the first example of Neoclassical architecture in Copenhagen. Originally built as a burgher's home, the mansion was acquired by the Danish Royal Family. Prince Christian of Glücksborg, later to become Christian IX of Denmark, took up residence there, and it became the birthplace of his children Frederick VIII of Denmark, Alexandra, Queen of the United Kingdom, George I of Greece and Maria Feodorovna, Empress of Russia. Today the building is owned by the Danish Palaces and Properties Agency and houses the Lord Chamberlain's Office.\")"
   ],
   "metadata": {
    "collapsed": false
   }
  },
  {
   "cell_type": "code",
   "execution_count": 23,
   "outputs": [
    {
     "ename": "NameError",
     "evalue": "name 'clusters' is not defined",
     "output_type": "error",
     "traceback": [
      "\u001B[0;31m---------------------------------------------------------------------------\u001B[0m",
      "\u001B[0;31mNameError\u001B[0m                                 Traceback (most recent call last)",
      "\u001B[0;32m/var/folders/3x/7rk6fk3d5hj2c48s5xn1v42m0000gn/T/ipykernel_82224/3836892620.py\u001B[0m in \u001B[0;36m<module>\u001B[0;34m\u001B[0m\n\u001B[0;32m----> 1\u001B[0;31m \u001B[0mprint\u001B[0m\u001B[0;34m(\u001B[0m\u001B[0mclusters\u001B[0m\u001B[0;34m)\u001B[0m\u001B[0;34m\u001B[0m\u001B[0;34m\u001B[0m\u001B[0m\n\u001B[0m",
      "\u001B[0;31mNameError\u001B[0m: name 'clusters' is not defined"
     ]
    }
   ],
   "source": [
    "print(clusters)\n"
   ],
   "metadata": {
    "collapsed": false
   }
  },
  {
   "cell_type": "code",
   "execution_count": 33,
   "outputs": [
    {
     "name": "stdout",
     "output_type": "stream",
     "text": [
      " \n",
      " \n",
      " \n",
      " \n",
      " \n",
      "\n",
      "\n",
      " \n",
      " \n",
      " \n",
      " \n",
      " \n",
      " \n",
      " \n",
      " \n",
      " \n",
      "\n",
      " \n",
      " \n",
      " \n",
      " \n",
      " \n",
      " \n",
      " \n",
      " \n",
      "\n",
      "\n",
      " \n",
      "\n",
      " \n",
      " \n",
      " \n",
      " \n",
      " \n",
      " \n",
      "\n",
      "\n",
      "\n",
      " \n",
      " \n",
      " \n",
      "\n",
      "\n",
      " \n",
      " \n",
      " \n",
      " \n",
      " \n",
      " \n",
      " \n",
      " \n",
      " \n",
      " \n",
      " \n",
      " \n",
      " \n",
      " \n",
      " \n",
      " \n",
      "\n",
      " \n",
      " \n",
      " \n",
      " \n",
      " \n",
      " \n",
      " \n",
      " \n",
      " \n",
      " \n",
      " \n",
      "\n",
      "\n"
     ]
    }
   ],
   "source": [
    "for token in doc:\n",
    "    print(token.whitespace_)"
   ],
   "metadata": {
    "collapsed": false
   }
  },
  {
   "cell_type": "code",
   "execution_count": 46,
   "outputs": [
    {
     "ename": "IndentationError",
     "evalue": "unexpected indent (3074490394.py, line 11)",
     "output_type": "error",
     "traceback": [
      "\u001B[0;36m  File \u001B[0;32m\"/var/folders/3x/7rk6fk3d5hj2c48s5xn1v42m0000gn/T/ipykernel_82224/3074490394.py\"\u001B[0;36m, line \u001B[0;32m11\u001B[0m\n\u001B[0;31m    '\u001B[0m\n\u001B[0m    ^\u001B[0m\n\u001B[0;31mIndentationError\u001B[0m\u001B[0;31m:\u001B[0m unexpected indent\n"
     ]
    }
   ],
   "source": [
    "import coref\n",
    "import spacy\n",
    "import relation_extraction\n",
    "def examplemain():\n",
    "\n",
    "    text = \"SS Illinois was an iron passenger-cargo steamship built by William Cramp & Sons in 1873. The last of a series of four Pennsylvania-class vessels, Illinois and her three sister ships—Pennsylvania, Ohio and Indiana—were the largest iron ships ever built in the United States at the time of their construction, and amongst the first to be fitted with compound steam engines. They were also the first ships to challenge British dominance of the transatlantic trade since the American Civil War. Though soon outclassed by newer and larger vessels, Illinois was destined to enjoy a long and distinguished career, first as a transatlantic passenger liner and later as the U.S. Navy's auxiliary vessel USS Supply. In the 1870s, Illinois may have been the first ship to successfully transport a shipment of fresh meat from the United States to Europe, twenty years before the introduction of refrigeration. As USS Supply, the ship served in both the Spanish–American War and the First World War, and crew members may have been the first United States personnel to fire a hostile shot in the latter. Illinois was scrapped in 1928.\"\n",
    "\n",
    "    coref_text = coref.coref_resolution(text)\n",
    "    relations = relation_extraction.relation_extraction(coref_text)\n",
    "    print(relations)\n",
    "                                                                                                                                                                                            '"
   ],
   "metadata": {
    "collapsed": false
   }
  },
  {
   "cell_type": "code",
   "execution_count": 1,
   "outputs": [
    {
     "name": "stdout",
     "output_type": "stream",
     "text": [
      "SS Illinois was an iron passenger-cargo steamship built by William Cramp & Sons in 1873. SS Illinois , SS Illinois and SS Illinois three sister ships—Pennsylvania, Ohio and Indiana—were the largest iron ships ever built in the United States at the time of SS Illinois construction, and amongst the first to be fitted with compound steam engines. SS Illinois were also the first ships to challenge British dominance of the transatlantic trade since the American Civil War. Though soon outclassed by newer and larger vessels, SS Illinois was destined to enjoy a long and distinguished career, first as a transatlantic passenger liner and later as the U.S. Navy's auxiliary vessel USS Supply. In the 1870s, SS Illinois may have been the first ship to successfully transport a shipment of fresh meat from the United States to Europe, twenty years before the introduction of refrigeration. As the U.S. Navy's auxiliary vessel USS Supply , the U.S. Navy's auxiliary vessel USS Supply served in both the Spanish–American War and the First World War, and crew members may have been the first United States personnel to fire a hostile shot in the First World War . SS Illinois was scrapped in 1928.\n",
      "[('built in the', Indiana, SS Illinois), ('built in the', Indiana, SS Illinois), ('fitted with', first, SS Illinois), ('challenge British', first, the American Civil War), ('outclassed by newer', the American Civil War, SS Illinois), ('destined to', SS Illinois, first), ('enjoy a long', SS Illinois, first), ('transport a', first, the United States), ('served in', USS Supply, Spanish), ('fire a hostile', United States, the First World War), ('scrapped in', SS Illinois, None)]\n",
      "11\n",
      "[('built in the', Indiana, SS Illinois), ('built in the', Indiana, SS Illinois), ('fitted with', first, SS Illinois), ('challenge British', first, the American Civil War), ('outclassed by newer', the American Civil War, SS Illinois), ('destined to', SS Illinois, first), ('enjoy a long', SS Illinois, first), ('transport a', first, the United States), ('served in', USS Supply, Spanish), ('fire a hostile', United States, the First World War), ('scrapped in', SS Illinois, None)]\n"
     ]
    }
   ],
   "source": [
    "import coref\n",
    "import spacy\n",
    "import relation_extraction\n",
    "\n",
    "def example_main():\n",
    "    text = \"SS Illinois was an iron passenger-cargo steamship built by William Cramp & Sons in 1873. The last of a series of four Pennsylvania-class vessels, Illinois and her three sister ships—Pennsylvania, Ohio and Indiana—were the largest iron ships ever built in the United States at the time of their construction, and amongst the first to be fitted with compound steam engines. They were also the first ships to challenge British dominance of the transatlantic trade since the American Civil War. Though soon outclassed by newer and larger vessels, Illinois was destined to enjoy a long and distinguished career, first as a transatlantic passenger liner and later as the U.S. Navy's auxiliary vessel USS Supply. In the 1870s, Illinois may have been the first ship to successfully transport a shipment of fresh meat from the United States to Europe, twenty years before the introduction of refrigeration. As USS Supply, the ship served in both the Spanish–American War and the First World War, and crew members may have been the first United States personnel to fire a hostile shot in the latter. Illinois was scrapped in 1928.\"\n",
    "    coref_text = coref.coref_resolution(text)\n",
    "    print(coref_text)\n",
    "    relations = relation_extraction.relation_extraction(coref_text)\n",
    "    print(relations)\n",
    "\n",
    "example_main()"
   ],
   "metadata": {
    "collapsed": false
   }
  },
  {
   "cell_type": "code",
   "execution_count": 50,
   "outputs": [
    {
     "name": "stdout",
     "output_type": "stream",
     "text": [
      "hello\n"
     ]
    }
   ],
   "source": [],
   "metadata": {
    "collapsed": false
   }
  },
  {
   "cell_type": "code",
   "execution_count": null,
   "outputs": [],
   "source": [],
   "metadata": {
    "collapsed": false
   }
  }
 ],
 "metadata": {
  "kernelspec": {
   "display_name": "Python 3",
   "language": "python",
   "name": "python3"
  },
  "language_info": {
   "codemirror_mode": {
    "name": "ipython",
    "version": 2
   },
   "file_extension": ".py",
   "mimetype": "text/x-python",
   "name": "python",
   "nbconvert_exporter": "python",
   "pygments_lexer": "ipython2",
   "version": "2.7.6"
  }
 },
 "nbformat": 4,
 "nbformat_minor": 0
}