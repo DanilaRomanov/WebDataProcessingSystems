{
 "cells": [
  {
   "cell_type": "code",
   "execution_count": 6,
   "metadata": {
    "collapsed": true
   },
   "outputs": [],
   "source": [
    "import spacy\n",
    "nlp = spacy.load(\"en_coreference_web_trf\")"
   ]
  },
  {
   "cell_type": "code",
   "execution_count": 7,
   "metadata": {
    "collapsed": false
   },
   "outputs": [],
   "source": [
    "def getClusters(text):\n",
    "    doc = nlp(text)\n",
    "    return doc"
   ]
  },
  {
   "cell_type": "code",
   "execution_count": 8,
   "metadata": {
    "collapsed": false
   },
   "outputs": [
    {
     "data": {
      "text/plain": [
       "{'coref_clusters_1': [SS Illinois was, Illinois and, her three]}"
      ]
     },
     "execution_count": 8,
     "metadata": {},
     "output_type": "execute_result"
    }
   ],
   "source": [
    "text = \"SS Illinois was an iron passenger-cargo steamship built by William Cramp & Sons in 1873. The last of a series of four Pennsylvania-class vessels, Illinois and her three sister ships—Pennsylvania, Ohio and Indiana—were the largest iron ships ever built in the United States at the time of their construction, and amongst the first to be fitted with compound steam engines.\"\n",
    "doc = getClusters(text)\n",
    "doc.spans"
   ]
  },
  {
   "cell_type": "code",
   "execution_count": 9,
   "metadata": {
    "collapsed": false
   },
   "outputs": [
    {
     "data": {
      "text/plain": [
       "'SS Illinois was an iron passenger-cargo steamship built by William Cramp & Sons in 1873. The last of a series of four Pennsylvania-class vessels, Illinois and her three sister ships—Pennsylvania, Ohio and Indiana—were the largest iron ships ever built in the United States at the time of their construction, and amongst the first to be fitted with compound steam engines.'"
      ]
     },
     "execution_count": 9,
     "metadata": {},
     "output_type": "execute_result"
    }
   ],
   "source": [
    "doc.text"
   ]
  },
  {
   "cell_type": "code",
   "execution_count": 10,
   "metadata": {
    "collapsed": false
   },
   "outputs": [
    {
     "name": "stdout",
     "output_type": "stream",
     "text": [
      "c\n"
     ]
    },
    {
     "ename": "AttributeError",
     "evalue": "'str' object has no attribute 'start'",
     "output_type": "error",
     "traceback": [
      "\u001b[0;31m---------------------------------------------------------------------------\u001b[0m",
      "\u001b[0;31mAttributeError\u001b[0m                            Traceback (most recent call last)",
      "\u001b[1;32m/Users/falksinke/Library/Mobile Documents/com~apple~CloudDocs/02B-Study/02VU/MSc BA/jaar2/WebData-Processing-Tech/WebDataProcessingSystems/notebooks/coref.ipynb Cell 5\u001b[0m in \u001b[0;36m<cell line: 1>\u001b[0;34m()\u001b[0m\n\u001b[1;32m      <a href='vscode-notebook-cell:/Users/falksinke/Library/Mobile%20Documents/com~apple~CloudDocs/02B-Study/02VU/MSc%20BA/jaar2/WebData-Processing-Tech/WebDataProcessingSystems/notebooks/coref.ipynb#W4sZmlsZQ%3D%3D?line=3'>4</a>\u001b[0m \u001b[39mprint\u001b[39m(reference)\n\u001b[1;32m      <a href='vscode-notebook-cell:/Users/falksinke/Library/Mobile%20Documents/com~apple~CloudDocs/02B-Study/02VU/MSc%20BA/jaar2/WebData-Processing-Tech/WebDataProcessingSystems/notebooks/coref.ipynb#W4sZmlsZQ%3D%3D?line=4'>5</a>\u001b[0m \u001b[39m#starting index of this reference in the text\u001b[39;00m\n\u001b[0;32m----> <a href='vscode-notebook-cell:/Users/falksinke/Library/Mobile%20Documents/com~apple~CloudDocs/02B-Study/02VU/MSc%20BA/jaar2/WebData-Processing-Tech/WebDataProcessingSystems/notebooks/coref.ipynb#W4sZmlsZQ%3D%3D?line=5'>6</a>\u001b[0m \u001b[39mprint\u001b[39m(reference\u001b[39m.\u001b[39;49mstart)\n\u001b[1;32m      <a href='vscode-notebook-cell:/Users/falksinke/Library/Mobile%20Documents/com~apple~CloudDocs/02B-Study/02VU/MSc%20BA/jaar2/WebData-Processing-Tech/WebDataProcessingSystems/notebooks/coref.ipynb#W4sZmlsZQ%3D%3D?line=6'>7</a>\u001b[0m \u001b[39m#ending index of this reference in the text\u001b[39;00m\n\u001b[1;32m      <a href='vscode-notebook-cell:/Users/falksinke/Library/Mobile%20Documents/com~apple~CloudDocs/02B-Study/02VU/MSc%20BA/jaar2/WebData-Processing-Tech/WebDataProcessingSystems/notebooks/coref.ipynb#W4sZmlsZQ%3D%3D?line=7'>8</a>\u001b[0m \u001b[39mprint\u001b[39m(reference\u001b[39m.\u001b[39mend)\n",
      "\u001b[0;31mAttributeError\u001b[0m: 'str' object has no attribute 'start'"
     ]
    }
   ],
   "source": [
    "for cluster in doc.spans:\n",
    "    for reference in cluster:\n",
    "    #each of these is a Span object in Spacy\n",
    "        print(reference)\n",
    "        #starting index of this reference in the text\n",
    "        print(reference.start)\n",
    "        #ending index of this reference in the text\n",
    "        print(reference.end)"
   ]
  },
  {
   "cell_type": "code",
   "execution_count": 11,
   "metadata": {
    "collapsed": false
   },
   "outputs": [
    {
     "name": "stdout",
     "output_type": "stream",
     "text": [
      "0: sentencizer\n",
      "1: transformer\n",
      "2: coref\n",
      "3: span_resolver\n",
      "4: span_cleaner\n"
     ]
    }
   ],
   "source": [
    "for i, pipe in enumerate(nlp.pipe_names):\n",
    "    print(f\"{i}: {pipe}\")"
   ]
  },
  {
   "cell_type": "code",
   "execution_count": 12,
   "metadata": {
    "collapsed": false
   },
   "outputs": [
    {
     "name": "stdout",
     "output_type": "stream",
     "text": [
      "coref_clusters_1: [SS Illinois was, Illinois and, her three]\n"
     ]
    }
   ],
   "source": [
    "for cluster in doc.spans:\n",
    "    print(f\"{cluster}: {doc.spans[cluster]}\")"
   ]
  },
  {
   "cell_type": "code",
   "execution_count": 13,
   "metadata": {
    "collapsed": false
   },
   "outputs": [
    {
     "name": "stdout",
     "output_type": "stream",
     "text": [
      "bruh\n",
      "bruh\n",
      "bruh\n",
      "bruh\n",
      "bruh\n",
      "bruh\n",
      "bruh\n",
      "bruh\n",
      "bruh\n",
      "bruh\n"
     ]
    },
    {
     "data": {
      "text/plain": [
       "\"The Yellow Palace (Danish: Det Gule Palæ), or Bergum's Mansion, is an 18th-century town mansion situated at Amaliegade 18, next to Amalienborg Palace, in the Frederiksstaden district of Copenhagen, Denmark. The Yellow Palace (Danish: Det Gule Palæ), or Bergum's Mansion, is  considered the first example of Neoclassical architecture in Copenhagen, Denmark. Originally built as a burgher's home, The Yellow Palace (Danish: Det Gule Palæ), or Bergum's Mansion, is   acquired by the Danish Royal Family. Prince Christian of Glücksborg, later to become Christian IX of Denmark. took up residence there, and The Yellow Palace (Danish: Det Gule Palæ), or Bergum's Mansion, is  the birthplace of Prince Christian of Glücksborg, later to become Christian IX of Denmark,  Frederick VIII of Denmark. Alexandra, Queen of the United Kingdom, George I of Greece and Maria Feodorovna, Empress of Russia. Today The Yellow Palace (Danish: Det Gule Palæ), or Bergum's Mansion, is   owned by the Danish Palaces and Properties Agency and houses the Lord Chamberlain's Office.\""
      ]
     },
     "execution_count": 13,
     "metadata": {},
     "output_type": "execute_result"
    }
   ],
   "source": [
    "def getClusters(text):\n",
    "    doc = nlp(text)\n",
    "    return doc\n",
    "def coref_resolution(text):\n",
    "    output = \"\"\n",
    "    doc = getClusters(text)\n",
    "    clusters = [val for key, val in doc.spans.items() if key.startswith(\"coref_cluster\")]\n",
    "    token_dict = {}\n",
    "    for cluster in clusters:\n",
    "        first = cluster[0]\n",
    "        for repeats in list(cluster)[1:]:\n",
    "            token_dict[repeats[0].idx] = first.text\n",
    "\n",
    "            for token in repeats[1:]:\n",
    "                print(\"bruh\")\n",
    "                token_dict[token.idx] = \"\"\n",
    "    for token in doc:\n",
    "        if token.idx in token_dict:\n",
    "\n",
    "            output += token_dict[token.idx] + token.whitespace_\n",
    "        else:\n",
    "            output += token.text + token.whitespace_\n",
    "    return output\n",
    "\n",
    "\n",
    "\n",
    "\n",
    "coref_resolution(\"The Yellow Palace (Danish: Det Gule Palæ), or Bergum's Mansion, is an 18th-century town mansion situated at Amaliegade 18, next to Amalienborg Palace, in the Frederiksstaden district of Copenhagen, Denmark. It is considered the first example of Neoclassical architecture in Copenhagen. Originally built as a burgher's home, the mansion was acquired by the Danish Royal Family. Prince Christian of Glücksborg, later to become Christian IX of Denmark, took up residence there, and it became the birthplace of his children Frederick VIII of Denmark, Alexandra, Queen of the United Kingdom, George I of Greece and Maria Feodorovna, Empress of Russia. Today the building is owned by the Danish Palaces and Properties Agency and houses the Lord Chamberlain's Office.\")"
   ]
  },
  {
   "cell_type": "code",
   "execution_count": 15,
   "metadata": {
    "collapsed": false
   },
   "outputs": [
    {
     "ename": "NameError",
     "evalue": "name 'clusters' is not defined",
     "output_type": "error",
     "traceback": [
      "\u001b[0;31m---------------------------------------------------------------------------\u001b[0m",
      "\u001b[0;31mNameError\u001b[0m                                 Traceback (most recent call last)",
      "\u001b[1;32m/Users/falksinke/Library/Mobile Documents/com~apple~CloudDocs/02B-Study/02VU/MSc BA/jaar2/WebData-Processing-Tech/WebDataProcessingSystems/notebooks/coref.ipynb Cell 9\u001b[0m in \u001b[0;36m<cell line: 1>\u001b[0;34m()\u001b[0m\n\u001b[0;32m----> <a href='vscode-notebook-cell:/Users/falksinke/Library/Mobile%20Documents/com~apple~CloudDocs/02B-Study/02VU/MSc%20BA/jaar2/WebData-Processing-Tech/WebDataProcessingSystems/notebooks/coref.ipynb#X11sZmlsZQ%3D%3D?line=0'>1</a>\u001b[0m \u001b[39mprint\u001b[39m(clusters)\n",
      "\u001b[0;31mNameError\u001b[0m: name 'clusters' is not defined"
     ]
    }
   ],
   "source": [
    "print(clusters)"
   ]
  },
  {
   "cell_type": "markdown",
   "metadata": {},
   "source": []
  },
  {
   "cell_type": "code",
   "execution_count": 16,
   "metadata": {
    "collapsed": false
   },
   "outputs": [
    {
     "name": "stdout",
     "output_type": "stream",
     "text": [
      " \n",
      " \n",
      " \n",
      " \n",
      " \n",
      "\n",
      "\n",
      " \n",
      " \n",
      " \n",
      " \n",
      " \n",
      " \n",
      " \n",
      " \n",
      " \n",
      "\n",
      " \n",
      " \n",
      " \n",
      " \n",
      " \n",
      " \n",
      " \n",
      " \n",
      "\n",
      "\n",
      " \n",
      "\n",
      " \n",
      " \n",
      " \n",
      " \n",
      " \n",
      " \n",
      "\n",
      "\n",
      "\n",
      " \n",
      " \n",
      " \n",
      "\n",
      "\n",
      " \n",
      " \n",
      " \n",
      " \n",
      " \n",
      " \n",
      " \n",
      " \n",
      " \n",
      " \n",
      " \n",
      " \n",
      " \n",
      " \n",
      " \n",
      " \n",
      "\n",
      " \n",
      " \n",
      " \n",
      " \n",
      " \n",
      " \n",
      " \n",
      " \n",
      " \n",
      " \n",
      " \n",
      "\n",
      "\n"
     ]
    }
   ],
   "source": [
    "for token in doc:\n",
    "    print(token.whitespace_)"
   ]
  },
  {
   "cell_type": "code",
   "execution_count": 46,
   "metadata": {
    "collapsed": false
   },
   "outputs": [
    {
     "ename": "IndentationError",
     "evalue": "unexpected indent (3074490394.py, line 11)",
     "output_type": "error",
     "traceback": [
      "\u001b[0;36m  File \u001b[0;32m\"/var/folders/3x/7rk6fk3d5hj2c48s5xn1v42m0000gn/T/ipykernel_82224/3074490394.py\"\u001b[0;36m, line \u001b[0;32m11\u001b[0m\n\u001b[0;31m    '\u001b[0m\n\u001b[0m    ^\u001b[0m\n\u001b[0;31mIndentationError\u001b[0m\u001b[0;31m:\u001b[0m unexpected indent\n"
     ]
    }
   ],
   "source": [
    "import coref\n",
    "import spacy\n",
    "import relation_extraction\n",
    "def examplemain():\n",
    "\n",
    "    text = \"SS Illinois was an iron passenger-cargo steamship built by William Cramp & Sons in 1873. The last of a series of four Pennsylvania-class vessels, Illinois and her three sister ships—Pennsylvania, Ohio and Indiana—were the largest iron ships ever built in the United States at the time of their construction, and amongst the first to be fitted with compound steam engines. They were also the first ships to challenge British dominance of the transatlantic trade since the American Civil War. Though soon outclassed by newer and larger vessels, Illinois was destined to enjoy a long and distinguished career, first as a transatlantic passenger liner and later as the U.S. Navy's auxiliary vessel USS Supply. In the 1870s, Illinois may have been the first ship to successfully transport a shipment of fresh meat from the United States to Europe, twenty years before the introduction of refrigeration. As USS Supply, the ship served in both the Spanish–American War and the First World War, and crew members may have been the first United States personnel to fire a hostile shot in the latter. Illinois was scrapped in 1928.\"\n",
    "\n",
    "    coref_text = coref.coref_resolution(text)\n",
    "    relations = relation_extraction.relation_extraction(coref_text)\n",
    "    print(relations)\n",
    "                                                                                                                                                                                            '"
   ]
  },
  {
   "cell_type": "code",
   "execution_count": 1,
   "metadata": {
    "collapsed": false
   },
   "outputs": [
    {
     "name": "stdout",
     "output_type": "stream",
     "text": [
      "SS Illinois was an iron passenger-cargo steamship built by William Cramp & Sons in 1873. SS Illinois , SS Illinois and SS Illinois three sister ships—Pennsylvania, Ohio and Indiana—were the largest iron ships ever built in the United States at the time of SS Illinois construction, and amongst the first to be fitted with compound steam engines. SS Illinois were also the first ships to challenge British dominance of the transatlantic trade since the American Civil War. Though soon outclassed by newer and larger vessels, SS Illinois was destined to enjoy a long and distinguished career, first as a transatlantic passenger liner and later as the U.S. Navy's auxiliary vessel USS Supply. In the 1870s, SS Illinois may have been the first ship to successfully transport a shipment of fresh meat from the United States to Europe, twenty years before the introduction of refrigeration. As the U.S. Navy's auxiliary vessel USS Supply , the U.S. Navy's auxiliary vessel USS Supply served in both the Spanish–American War and the First World War, and crew members may have been the first United States personnel to fire a hostile shot in the First World War . SS Illinois was scrapped in 1928.\n",
      "[('built in the', Indiana, SS Illinois), ('built in the', Indiana, SS Illinois), ('fitted with', first, SS Illinois), ('challenge British', first, the American Civil War), ('outclassed by newer', the American Civil War, SS Illinois), ('destined to', SS Illinois, first), ('enjoy a long', SS Illinois, first), ('transport a', first, the United States), ('served in', USS Supply, Spanish), ('fire a hostile', United States, the First World War), ('scrapped in', SS Illinois, None)]\n",
      "11\n",
      "[('built in the', Indiana, SS Illinois), ('built in the', Indiana, SS Illinois), ('fitted with', first, SS Illinois), ('challenge British', first, the American Civil War), ('outclassed by newer', the American Civil War, SS Illinois), ('destined to', SS Illinois, first), ('enjoy a long', SS Illinois, first), ('transport a', first, the United States), ('served in', USS Supply, Spanish), ('fire a hostile', United States, the First World War), ('scrapped in', SS Illinois, None)]\n"
     ]
    }
   ],
   "source": [
    "import coref\n",
    "import spacy\n",
    "import relation_extraction\n",
    "\n",
    "def example_main():\n",
    "    text = \"SS Illinois was an iron passenger-cargo steamship built by William Cramp & Sons in 1873. The last of a series of four Pennsylvania-class vessels, Illinois and her three sister ships—Pennsylvania, Ohio and Indiana—were the largest iron ships ever built in the United States at the time of their construction, and amongst the first to be fitted with compound steam engines. They were also the first ships to challenge British dominance of the transatlantic trade since the American Civil War. Though soon outclassed by newer and larger vessels, Illinois was destined to enjoy a long and distinguished career, first as a transatlantic passenger liner and later as the U.S. Navy's auxiliary vessel USS Supply. In the 1870s, Illinois may have been the first ship to successfully transport a shipment of fresh meat from the United States to Europe, twenty years before the introduction of refrigeration. As USS Supply, the ship served in both the Spanish–American War and the First World War, and crew members may have been the first United States personnel to fire a hostile shot in the latter. Illinois was scrapped in 1928.\"\n",
    "    coref_text = coref.coref_resolution(text)\n",
    "    print(coref_text)\n",
    "    relations = relation_extraction.relation_extraction(coref_text)\n",
    "    print(relations)\n",
    "\n",
    "example_main()"
   ]
  },
  {
   "cell_type": "code",
   "execution_count": 50,
   "metadata": {
    "collapsed": false
   },
   "outputs": [
    {
     "name": "stdout",
     "output_type": "stream",
     "text": [
      "hello\n"
     ]
    }
   ],
   "source": []
  },
  {
   "cell_type": "code",
   "execution_count": null,
   "metadata": {
    "collapsed": false
   },
   "outputs": [],
   "source": []
  }
 ],
 "metadata": {
  "kernelspec": {
   "display_name": "Python 3",
   "language": "python",
   "name": "python3"
  },
  "language_info": {
   "codemirror_mode": {
    "name": "ipython",
    "version": 3
   },
   "file_extension": ".py",
   "mimetype": "text/x-python",
   "name": "python",
   "nbconvert_exporter": "python",
   "pygments_lexer": "ipython3",
   "version": "3.10.4 (main, Apr 26 2022, 19:36:29) [Clang 13.1.6 (clang-1316.0.21.2)]"
  },
  "vscode": {
   "interpreter": {
    "hash": "b0fa6594d8f4cbf19f97940f81e996739fb7646882a419484c72d19e05852a7e"
   }
  }
 },
 "nbformat": 4,
 "nbformat_minor": 0
}
