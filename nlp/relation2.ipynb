{
 "cells": [
  {
   "cell_type": "code",
   "execution_count": null,
   "outputs": [],
   "source": [],
   "metadata": {
    "collapsed": false
   }
  },
  {
   "cell_type": "markdown",
   "source": [
    "Take input text:\n",
    "1. Split into sentences\n",
    "\n",
    "Steps for each sentence:\n",
    "1. Find entities\n",
    "2. Find verbs and create spans\n",
    "3. For every span, find the closest entity to the left and right\n",
    "4. Return relation\n",
    "\n"
   ],
   "metadata": {
    "collapsed": false
   }
  },
  {
   "cell_type": "code",
   "execution_count": 23,
   "outputs": [],
   "source": [
    "import spacy\n",
    "import pathlib\n",
    "import numpy as np\n",
    "import pandas as pd\n",
    "from spacy.matcher import Matcher\n",
    "nlp = spacy.load(\"en_core_web_md\")\n"
   ],
   "metadata": {
    "collapsed": false
   }
  },
  {
   "cell_type": "code",
   "execution_count": 24,
   "outputs": [],
   "source": [
    "def find_verbs(doc):\n",
    "    matcher = Matcher(nlp.vocab)\n",
    "    pattern = [[{\"POS\":\"VERB\"}]]\n",
    "    matcher.add(\"Verbs\",pattern)\n",
    "    matches = matcher(doc.doc)\n",
    "    verbs = []\n",
    "    for _,start,end in matches:\n",
    "        verbs.append(doc.doc[start:end].text)\n",
    "    return verbs"
   ],
   "metadata": {
    "collapsed": false
   }
  },
  {
   "cell_type": "code",
   "execution_count": 25,
   "outputs": [],
   "source": [
    "def longest_span(spans):\n",
    "    if (len(spans) == 0):\n",
    "        return None\n",
    "    sorted_spans = sorted(spans, key=lambda s: len(s), reverse=True)\n",
    "    return sorted_spans[0]"
   ],
   "metadata": {
    "collapsed": false
   }
  },
  {
   "cell_type": "code",
   "execution_count": 26,
   "outputs": [],
   "source": [
    "def create_spans(verbs, doc):\n",
    "    patterns = [[{\"POS\": \"VERB\"}, {\"POS\": \"PART\", \"OP\": \"*\"}, {\"POS\": \"ADV\", \"OP\": \"*\"}],\n",
    "                [{\"POS\": \"VERB\"}, {\"POS\": \"ADP\", \"OP\": \"*\"}, {\"POS\": \"DET\", \"OP\": \"*\"},\n",
    "                 {\"POS\": \"AUX\", \"OP\": \"*\"},\n",
    "                 {\"POS\": \"ADJ\", \"OP\": \"*\"}, {\"POS\": \"ADV\", \"OP\": \"*\"}]]\n",
    "\n",
    "\n",
    "    matcher = Matcher(nlp.vocab)\n",
    "    matcher.add(\"Fluff\", patterns)\n",
    "    matches = matcher(doc)\n",
    "    spans = []\n",
    "    for match_id, start, end in matches:\n",
    "\n",
    "        spans.append(doc.doc[start:end].text)\n",
    "    res = []\n",
    "    for verb in verbs:\n",
    "        verbspans = [span for span in spans if verb in span]\n",
    "        span = longest_span(verbspans)\n",
    "        res.append(span)\n",
    "\n",
    "    return res\n"
   ],
   "metadata": {
    "collapsed": false
   }
  },
  {
   "cell_type": "code",
   "execution_count": 27,
   "outputs": [],
   "source": [
    "def create_relation(span,span_index, entities):\n",
    "\n",
    "    #Find left\n",
    "    left_ent = None\n",
    "    for ent in entities:\n",
    "        if ent.end_char < span_index:\n",
    "            if left_ent is None or left_ent.end_char < ent.end_char:\n",
    "                left_ent = ent\n",
    "    #Right ent\n",
    "    right_ent = None\n",
    "    for ent in entities:\n",
    "        if ent.start_char > (span_index + len(span)):\n",
    "            if right_ent is None or right_ent.start_char > ent.start_char:\n",
    "                right_ent = ent\n",
    "    relation = (span, left_ent, right_ent)\n",
    "    return relation\n"
   ],
   "metadata": {
    "collapsed": false
   }
  },
  {
   "cell_type": "code",
   "execution_count": 28,
   "outputs": [],
   "source": [
    "def relation_extraction(doc):\n",
    "    entities = doc.ents\n",
    "    verbs = find_verbs(doc)\n",
    "    verbspans = create_spans(verbs, doc)\n",
    "    relations = []\n",
    "    for span in verbspans:\n",
    "        span_index = doc.text.index(span)\n",
    "        relation = create_relation(span,span_index,entities)\n",
    "\n",
    "        relations.append(relation)\n",
    "\n",
    "    print(relations)\n",
    "    print(len(relations))\n",
    "\n"
   ],
   "metadata": {
    "collapsed": false
   }
  },
  {
   "cell_type": "code",
   "execution_count": 37,
   "outputs": [
    {
     "name": "stdout",
     "output_type": "stream",
     "text": [
      "/Users/dr/Documents/web_processing/assignment-code/nlp\n",
      "\n",
      "[('built by', SS Illinois, William Cramp & Sons)]\n",
      "1\n"
     ]
    }
   ],
   "source": [
    "def main():\n",
    "    path = pathlib.Path().resolve()\n",
    "\n",
    "\n",
    "\n",
    "    input_text = \"SS Illinois was an iron passenger-cargo steamship built by William Cramp & Sons in 1873.\"\n",
    "    doc = nlp(input_text)\n",
    "    for sent in doc.sents:\n",
    "\n",
    "        print()\n",
    "        relation_extraction(sent)\n",
    "main()"
   ],
   "metadata": {
    "collapsed": false
   }
  },
  {
   "cell_type": "code",
   "execution_count": 50,
   "outputs": [
    {
     "data": {
      "text/plain": "50"
     },
     "execution_count": 50,
     "metadata": {},
     "output_type": "execute_result"
    }
   ],
   "source": [
    "#Test\n",
    "verbs = find_verbs()\n",
    "verbspans = create_spans(verbs)\n",
    "span_index = doc.text.index(span)\n",
    "span_index"
   ],
   "metadata": {
    "collapsed": false
   }
  },
  {
   "cell_type": "code",
   "execution_count": 53,
   "outputs": [
    {
     "name": "stdout",
     "output_type": "stream",
     "text": [
      "0\n",
      "59\n",
      "83\n"
     ]
    }
   ],
   "source": [
    "for ent in doc.ents:\n",
    "    print(ent.start_char)"
   ],
   "metadata": {
    "collapsed": false
   }
  },
  {
   "cell_type": "code",
   "execution_count": 58,
   "outputs": [],
   "source": [
    "input = \"SS Illinois was an iron passenger-cargo steamship built by William Cramp & Sons in 1873.SS Illinois was an iron passenger-cargo steamship built by William Cramp & Sons in 1873.\""
   ],
   "metadata": {
    "collapsed": false
   }
  },
  {
   "cell_type": "code",
   "execution_count": 59,
   "outputs": [],
   "source": [
    "doc = nlp(input)"
   ],
   "metadata": {
    "collapsed": false
   }
  },
  {
   "cell_type": "code",
   "execution_count": 65,
   "outputs": [],
   "source": [
    "sents = doc.sents"
   ],
   "metadata": {
    "collapsed": false
   }
  },
  {
   "cell_type": "code",
   "execution_count": 33,
   "outputs": [
    {
     "ename": "NameError",
     "evalue": "name 'doc' is not defined",
     "output_type": "error",
     "traceback": [
      "\u001B[0;31m---------------------------------------------------------------------------\u001B[0m",
      "\u001B[0;31mNameError\u001B[0m                                 Traceback (most recent call last)",
      "\u001B[0;32m/var/folders/3x/7rk6fk3d5hj2c48s5xn1v42m0000gn/T/ipykernel_32902/1049840511.py\u001B[0m in \u001B[0;36m<module>\u001B[0;34m\u001B[0m\n\u001B[0;32m----> 1\u001B[0;31m \u001B[0mdoc\u001B[0m\u001B[0;34m.\u001B[0m\u001B[0mtext\u001B[0m\u001B[0;34m\u001B[0m\u001B[0;34m\u001B[0m\u001B[0m\n\u001B[0m",
      "\u001B[0;31mNameError\u001B[0m: name 'doc' is not defined"
     ]
    }
   ],
   "source": [
    "doc.text"
   ],
   "metadata": {
    "collapsed": false
   }
  },
  {
   "cell_type": "code",
   "execution_count": null,
   "outputs": [],
   "source": [],
   "metadata": {
    "collapsed": false
   }
  }
 ],
 "metadata": {
  "kernelspec": {
   "display_name": "Python 3",
   "language": "python",
   "name": "python3"
  },
  "language_info": {
   "codemirror_mode": {
    "name": "ipython",
    "version": 2
   },
   "file_extension": ".py",
   "mimetype": "text/x-python",
   "name": "python",
   "nbconvert_exporter": "python",
   "pygments_lexer": "ipython2",
   "version": "2.7.6"
  }
 },
 "nbformat": 4,
 "nbformat_minor": 0
}
