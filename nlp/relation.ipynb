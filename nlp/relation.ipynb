{
 "cells": [
  {
   "cell_type": "code",
   "execution_count": 6,
   "metadata": {
    "collapsed": true
   },
   "outputs": [],
   "source": [
    "from openie import StanfordOpenIE\n",
    "import pathlib"
   ]
  },
  {
   "cell_type": "code",
   "execution_count": 7,
   "outputs": [],
   "source": [
    "path = pathlib.Path().resolve()\n",
    "with open(str(path) + \"/sample texts/SSillinois.txt\") as f:\n",
    "    t = f.read()\n",
    "\n"
   ],
   "metadata": {
    "collapsed": false
   }
  },
  {
   "cell_type": "code",
   "execution_count": 5,
   "outputs": [],
   "source": [
    "properties = {'openie.affinity_probability_cap': 2 / 3 }"
   ],
   "metadata": {
    "collapsed": false
   }
  },
  {
   "cell_type": "code",
   "execution_count": 6,
   "outputs": [
    {
     "name": "stdout",
     "output_type": "stream",
     "text": [
      "Starting server with command: java -Xmx8G -cp /Users/dr/.stanfordnlp_resources/stanford-corenlp-4.1.0/* edu.stanford.nlp.pipeline.StanfordCoreNLPServer -port 9000 -timeout 60000 -threads 5 -maxCharLength 100000 -quiet True -serverProperties corenlp_server-74fc3924fcb74bc2.props -preload openie\n",
      "|- {'subject': 'SS Illinois', 'relation': 'was', 'object': 'iron passenger cargo steamship built'}\n",
      "|- {'subject': 'SS Illinois', 'relation': 'was', 'object': 'iron passenger cargo steamship built by William Cramp'}\n",
      "|- {'subject': 'SS Illinois', 'relation': 'was', 'object': 'iron passenger cargo steamship'}\n",
      "|- {'subject': 'William Cramp', 'relation': 'is in', 'object': '1873'}\n",
      "|- {'subject': 'SS Illinois', 'relation': 'was', 'object': 'iron passenger cargo steamship built by William Cramp in 1873'}\n"
     ]
    }
   ],
   "source": [
    "t = \"SS Illinois was an iron passenger-cargo steamship built by William Cramp & Sons in 1873.\"\n",
    "with StanfordOpenIE(properties=properties) as client:\n",
    "    for triple in client.annotate(t):\n",
    "        print('|-', triple)"
   ],
   "metadata": {
    "collapsed": false
   }
  },
  {
   "cell_type": "code",
   "execution_count": 8,
   "outputs": [],
   "source": [
    "#Attempt 2 using spacy\n",
    "import spacy\n",
    "\n"
   ],
   "metadata": {
    "collapsed": false
   }
  },
  {
   "cell_type": "code",
   "execution_count": 9,
   "outputs": [],
   "source": [
    "nlp = spacy.load('en_core_web_md')"
   ],
   "metadata": {
    "collapsed": false
   }
  },
  {
   "cell_type": "code",
   "execution_count": 10,
   "outputs": [
    {
     "data": {
      "text/plain": "[SS Illinois was an iron passenger-cargo steamship built by William Cramp & Sons in 1873.,\n The last of a series of four Pennsylvania-class vessels, Illinois and her three sister ships—Pennsylvania, Ohio and Indiana—were the largest iron ships ever built in the United States at the time of their construction, and amongst the first to be fitted with compound steam engines.,\n They were also the first ships to challenge British dominance of the transatlantic trade since the American Civil War.\n ,\n Though soon outclassed by newer and larger vessels, Illinois was destined to enjoy a long and distinguished career, first as a transatlantic passenger liner and later as the U.S. Navy's auxiliary vessel USS Supply.,\n In the 1870s, Illinois may have been the first ship to successfully transport a shipment of fresh meat from the United States to Europe, twenty years before the introduction of refrigeration.,\n As USS Supply, the ship served in both the Spanish–American War and the First World War, and crew members may have been the first United States personnel to fire a hostile shot in the latter.,\n Illinois was scrapped in 1928.]"
     },
     "execution_count": 10,
     "metadata": {},
     "output_type": "execute_result"
    }
   ],
   "source": [
    "sentences = [i for i in nlp(t).sents]\n",
    "sentences"
   ],
   "metadata": {
    "collapsed": false
   }
  },
  {
   "cell_type": "code",
   "execution_count": 11,
   "outputs": [],
   "source": [
    "def get_entities(sent):\n",
    "    ## chunk 1\n",
    "    ent1 = \"\"\n",
    "    ent2 = \"\"\n",
    "\n",
    "    prv_tok_dep = \"\"    # dependency tag of previous token in the sentence\n",
    "    prv_tok_text = \"\"   # previous token in the sentence\n",
    "\n",
    "    prefix = \"\"\n",
    "    modifier = \"\"\n",
    "\n",
    "  #############################################################\n",
    "    for tok in nlp(sent):\n",
    "        ## chunk 2\n",
    "        # if token is a punctuation mark then move on to the next token\n",
    "        if tok.dep_ != \"punct\":\n",
    "          # check: token is a compound word or not\n",
    "          if tok.dep_ == \"compound\":\n",
    "            prefix = tok.text\n",
    "            # if the previous word was also a 'compound' then add the current word to it\n",
    "            if prv_tok_dep == \"compound\":\n",
    "              prefix = prv_tok_text + \" \"+ tok.text\n",
    "\n",
    "          # check: token is a modifier or not\n",
    "          if tok.dep_.endswith(\"mod\") == True:\n",
    "            modifier = tok.text\n",
    "            # if the previous word was also a 'compound' then add the current word to it\n",
    "            if prv_tok_dep == \"compound\":\n",
    "              modifier = prv_tok_text + \" \"+ tok.text\n",
    "\n",
    "          ## chunk 3\n",
    "          if tok.dep_.find(\"subj\") == True:\n",
    "            ent1 = modifier +\" \"+ prefix + \" \"+ tok.text\n",
    "            prefix = \"\"\n",
    "            modifier = \"\"\n",
    "            prv_tok_dep = \"\"\n",
    "            prv_tok_text = \"\"\n",
    "\n",
    "          ## chunk 4\n",
    "          if tok.dep_.find(\"obj\") == True:\n",
    "            ent2 = modifier +\" \"+ prefix +\" \"+ tok.text\n",
    "\n",
    "          ## chunk 5\n",
    "          # update variables\n",
    "          prv_tok_dep = tok.dep_\n",
    "          prv_tok_text = tok.text\n",
    "      #############################################################\n",
    "\n",
    "    return [ent1.strip(), ent2.strip()]\n"
   ],
   "metadata": {
    "collapsed": false
   }
  },
  {
   "cell_type": "code",
   "execution_count": 12,
   "outputs": [
    {
     "data": {
      "text/plain": "['SS Illinois', 'William 1873']"
     },
     "execution_count": 12,
     "metadata": {},
     "output_type": "execute_result"
    }
   ],
   "source": [
    "\n",
    "get_entities(str(sentences[0]))"
   ],
   "metadata": {
    "collapsed": false
   }
  },
  {
   "cell_type": "code",
   "execution_count": 13,
   "outputs": [
    {
     "data": {
      "text/plain": "SS Illinois was an iron passenger-cargo steamship built by William Cramp & Sons in 1873."
     },
     "execution_count": 13,
     "metadata": {},
     "output_type": "execute_result"
    }
   ],
   "source": [
    "sentences[0]"
   ],
   "metadata": {
    "collapsed": false
   }
  },
  {
   "cell_type": "code",
   "execution_count": 14,
   "outputs": [],
   "source": [
    "from spacy.matcher import Matcher\n",
    "def get_relation(sent):\n",
    "\n",
    "  doc = nlp(sent)\n",
    "\n",
    "  # Matcher class object\n",
    "  matcher = Matcher(nlp.vocab)\n",
    "\n",
    "  #define the pattern\n",
    "  pattern = [{'DEP':'ROOT'},\n",
    "            {'DEP':'prep','OP':\"?\"},\n",
    "            {'DEP':'agent','OP':\"?\"},\n",
    "            {'POS':'ADJ','OP':\"?\"}]\n",
    "\n",
    "  matcher.add(\"matching_1\",[pattern])\n",
    "\n",
    "  matches = matcher(doc)\n",
    "  k = len(matches) - 1\n",
    "\n",
    "  span = doc[matches[k][1]:matches[k][2]]\n",
    "\n",
    "  return(span.text)"
   ],
   "metadata": {
    "collapsed": false
   }
  },
  {
   "cell_type": "code",
   "execution_count": 15,
   "outputs": [
    {
     "data": {
      "text/plain": "'was'"
     },
     "execution_count": 15,
     "metadata": {},
     "output_type": "execute_result"
    }
   ],
   "source": [
    "get_relation(str(sentences[0]))"
   ],
   "metadata": {
    "collapsed": false
   }
  },
  {
   "cell_type": "code",
   "execution_count": 16,
   "outputs": [
    {
     "data": {
      "text/plain": "[(11840699188806025751, 2, 3)]"
     },
     "execution_count": 16,
     "metadata": {},
     "output_type": "execute_result"
    }
   ],
   "source": [
    "sent = str(sentences[0])\n",
    "doc = nlp(sent)\n",
    "\n",
    "# Matcher class object\n",
    "matcher = Matcher(nlp.vocab)\n",
    "\n",
    "#define the pattern\n",
    "pattern = [{'DEP':'ROOT'},\n",
    "        {'DEP':'prep','OP':\"?\"},\n",
    "        {'DEP':'agent','OP':\"?\"},\n",
    "        {'POS':'ADJ','OP':\"?\"}]\n",
    "\n",
    "matcher.add(\"matching_1\",[pattern])\n",
    "\n",
    "matches = matcher(doc)\n",
    "matches"
   ],
   "metadata": {
    "collapsed": false
   }
  },
  {
   "cell_type": "code",
   "execution_count": 17,
   "outputs": [
    {
     "data": {
      "text/plain": "'was'"
     },
     "execution_count": 17,
     "metadata": {},
     "output_type": "execute_result"
    }
   ],
   "source": [
    "k = len(matches) - 1\n",
    "span = doc[matches[k][1]:matches[k][2]]\n",
    "span.text\n"
   ],
   "metadata": {
    "collapsed": false
   }
  },
  {
   "cell_type": "code",
   "execution_count": 37,
   "outputs": [
    {
     "data": {
      "text/plain": "SS Illinois was an iron passenger-cargo steamship built by William Cramp & Sons in 1873."
     },
     "execution_count": 37,
     "metadata": {},
     "output_type": "execute_result"
    }
   ],
   "source": [
    "sentences[0]"
   ],
   "metadata": {
    "collapsed": false
   }
  },
  {
   "cell_type": "code",
   "execution_count": null,
   "outputs": [],
   "source": [],
   "metadata": {
    "collapsed": false
   }
  }
 ],
 "metadata": {
  "kernelspec": {
   "display_name": "Python 3",
   "language": "python",
   "name": "python3"
  },
  "language_info": {
   "codemirror_mode": {
    "name": "ipython",
    "version": 2
   },
   "file_extension": ".py",
   "mimetype": "text/x-python",
   "name": "python",
   "nbconvert_exporter": "python",
   "pygments_lexer": "ipython2",
   "version": "2.7.6"
  }
 },
 "nbformat": 4,
 "nbformat_minor": 0
}
