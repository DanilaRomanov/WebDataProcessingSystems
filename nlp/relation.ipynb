{
 "cells": [
  {
   "cell_type": "code",
   "execution_count": 3,
   "metadata": {
    "collapsed": true
   },
   "outputs": [],
   "source": [
    "from openie import StanfordOpenIE\n",
    "import pathlib"
   ]
  },
  {
   "cell_type": "code",
   "execution_count": 9,
   "outputs": [],
   "source": [
    "path = pathlib.Path().resolve()\n",
    "with open(str(path) + \"/sample texts/SSillinois.txt\") as f:\n",
    "    t = f.read()\n",
    "\n"
   ],
   "metadata": {
    "collapsed": false
   }
  },
  {
   "cell_type": "code",
   "execution_count": 10,
   "outputs": [],
   "source": [
    "properties = {'openie.format': 'default'}"
   ],
   "metadata": {
    "collapsed": false
   }
  },
  {
   "cell_type": "code",
   "execution_count": 11,
   "outputs": [
    {
     "name": "stdout",
     "output_type": "stream",
     "text": [
      "Downloading from https://nlp.stanford.edu/software/stanford-corenlp-4.1.0.zip.\n",
      "\n",
      "Extracting to /Users/dr/.stanfordnlp_resources.\n",
      "Unzip /Users/dr/.stanfordnlp_resources/stanford-corenlp-4.1.0.zip.\n",
      "Starting server with command: java -Xmx8G -cp /Users/dr/.stanfordnlp_resources/stanford-corenlp-4.1.0/* edu.stanford.nlp.pipeline.StanfordCoreNLPServer -port 9000 -timeout 60000 -threads 5 -maxCharLength 100000 -quiet True -serverProperties corenlp_server-a9b5ec6d85144c74.props -preload openie\n",
      "|- {'subject': 'SS Illinois', 'relation': 'was', 'object': 'iron passenger cargo steamship built'}\n",
      "|- {'subject': 'SS Illinois', 'relation': 'was', 'object': 'iron passenger cargo steamship built by William Cramp'}\n",
      "|- {'subject': 'SS Illinois', 'relation': 'was', 'object': 'iron passenger cargo steamship'}\n",
      "|- {'subject': 'William Cramp', 'relation': 'is in', 'object': '1873'}\n",
      "|- {'subject': 'SS Illinois', 'relation': 'was', 'object': 'iron passenger cargo steamship built by William Cramp in 1873'}\n",
      "|- {'subject': 'iron ships', 'relation': 'were', 'object': 'built at time of their construction'}\n",
      "|- {'subject': 'iron ships', 'relation': 'were', 'object': 'built in United States at time'}\n",
      "|- {'subject': 'iron ships', 'relation': 'were', 'object': 'built in United States'}\n",
      "|- {'subject': 'iron ships', 'relation': 'were', 'object': 'built at time'}\n",
      "|- {'subject': 'iron ships', 'relation': 'were', 'object': 'built in United States at time of their construction'}\n",
      "|- {'subject': 'iron ships', 'relation': 'were', 'object': 'built'}\n",
      "|- {'subject': 'Illinois', 'relation': 'soon outclassed by', 'object': 'newer vessels'}\n",
      "|- {'subject': 'Illinois', 'relation': 'enjoy career as', 'object': 'first passenger liner'}\n",
      "|- {'subject': 'Illinois', 'relation': 'enjoy career as', 'object': 'first transatlantic passenger liner'}\n",
      "|- {'subject': 'Illinois', 'relation': 'outclassed by', 'object': 'vessels'}\n",
      "|- {'subject': 'Illinois', 'relation': 'soon outclassed by', 'object': 'vessels'}\n",
      "|- {'subject': 'Illinois', 'relation': 'enjoy', 'object': 'long career'}\n",
      "|- {'subject': 'Illinois', 'relation': 'Though outclassed by', 'object': 'vessels'}\n",
      "|- {'subject': 'Illinois', 'relation': 'enjoy', 'object': 'career'}\n",
      "|- {'subject': 'Illinois', 'relation': 'Though outclassed by', 'object': 'newer vessels'}\n",
      "|- {'subject': 'Illinois', 'relation': 'outclassed by', 'object': 'newer vessels'}\n",
      "|- {'subject': 'Illinois', 'relation': 'Though soon outclassed by', 'object': 'vessels'}\n",
      "|- {'subject': 'Illinois', 'relation': 'enjoy career as', 'object': 'passenger liner'}\n",
      "|- {'subject': 'Illinois', 'relation': 'enjoy career as', 'object': 'transatlantic passenger liner'}\n",
      "|- {'subject': 'U.S. Navy', 'relation': 'as', 'object': 'auxiliary vessel'}\n",
      "|- {'subject': 'Illinois', 'relation': 'was', 'object': 'destined'}\n",
      "|- {'subject': 'Illinois', 'relation': 'Though soon outclassed by', 'object': 'newer vessels'}\n",
      "|- {'subject': 'may have first ship', 'relation': 'is In', 'object': '1870s'}\n",
      "|- {'subject': 'ship', 'relation': 'served As', 'object': 'USS Supply'}\n",
      "|- {'subject': 'ship', 'relation': 'served in', 'object': 'Spanish War'}\n",
      "|- {'subject': 'hostile shot', 'relation': 'is in', 'object': 'latter'}\n",
      "|- {'subject': 'ship', 'relation': 'served in', 'object': 'War'}\n",
      "|- {'subject': 'Illinois', 'relation': 'was scrapped in', 'object': '1928'}\n",
      "|- {'subject': 'Illinois', 'relation': 'was', 'object': 'scrapped'}\n"
     ]
    }
   ],
   "source": [
    "with StanfordOpenIE(properties=properties) as client:\n",
    "    for triple in client.annotate(t):\n",
    "        print('|-', triple)"
   ],
   "metadata": {
    "collapsed": false
   }
  },
  {
   "cell_type": "code",
   "execution_count": null,
   "outputs": [],
   "source": [],
   "metadata": {
    "collapsed": false
   }
  }
 ],
 "metadata": {
  "kernelspec": {
   "display_name": "Python 3",
   "language": "python",
   "name": "python3"
  },
  "language_info": {
   "codemirror_mode": {
    "name": "ipython",
    "version": 2
   },
   "file_extension": ".py",
   "mimetype": "text/x-python",
   "name": "python",
   "nbconvert_exporter": "python",
   "pygments_lexer": "ipython2",
   "version": "2.7.6"
  }
 },
 "nbformat": 4,
 "nbformat_minor": 0
}
