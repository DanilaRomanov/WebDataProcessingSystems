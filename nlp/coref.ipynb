{
 "cells": [
  {
   "cell_type": "code",
   "execution_count": 3,
   "metadata": {
    "collapsed": true
   },
   "outputs": [
    {
     "data": {
      "text/plain": "{'coref_clusters_1': [SS Illinois, The last of a series of four Pennsylvania-class vessels, Illinois, her, their]}"
     },
     "execution_count": 3,
     "metadata": {},
     "output_type": "execute_result"
    }
   ],
   "source": [
    "import spacy\n",
    "nlp = spacy.load(\"en_coreference_web_trf\")\n",
    "doc = nlp(\"SS Illinois was an iron passenger-cargo steamship built by William Cramp & Sons in 1873. The last of a series of four Pennsylvania-class vessels, Illinois and her three sister ships—Pennsylvania, Ohio and Indiana—were the largest iron ships ever built in the United States at the time of their construction, and amongst the first to be fitted with compound steam engines.\")\n",
    "doc.spans"
   ]
  },
  {
   "cell_type": "code",
   "execution_count": null,
   "outputs": [],
   "source": [],
   "metadata": {
    "collapsed": false
   }
  }
 ],
 "metadata": {
  "kernelspec": {
   "display_name": "Python 3",
   "language": "python",
   "name": "python3"
  },
  "language_info": {
   "codemirror_mode": {
    "name": "ipython",
    "version": 2
   },
   "file_extension": ".py",
   "mimetype": "text/x-python",
   "name": "python",
   "nbconvert_exporter": "python",
   "pygments_lexer": "ipython2",
   "version": "2.7.6"
  }
 },
 "nbformat": 4,
 "nbformat_minor": 0
}
